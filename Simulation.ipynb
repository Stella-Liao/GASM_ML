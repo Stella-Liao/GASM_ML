{
 "cells": [
  {
   "cell_type": "markdown",
   "id": "pointed-contents",
   "metadata": {},
   "source": [
    "# Data Input"
   ]
  },
  {
   "cell_type": "code",
   "execution_count": 1,
   "id": "literary-oasis",
   "metadata": {},
   "outputs": [],
   "source": [
    "import numpy as np\n",
    "from copy import deepcopy\n",
    "from spglm.iwls import iwls, _compute_betas_gwr\n",
    "from spglm.family import *\n",
    "from mgwr.search import golden_section\n",
    "import pandas as pd\n",
    "import statsmodels.api as sm\n",
    "import geopandas as gp\n",
    "import matplotlib.pyplot as plt\n",
    "import libpysal.weights as sw\n",
    "import time\n",
    "\n",
    "import time\n",
    "import urllib\n",
    "import copy\n",
    "from copy import deepcopy\n",
    "\n",
    "from spint.gravity import Gravity, Production, Attraction, Doubly "
   ]
  },
  {
   "cell_type": "code",
   "execution_count": 4,
   "id": "public-reputation",
   "metadata": {},
   "outputs": [],
   "source": [
    "austria = pd.read_csv('Data/austria.csv')\n",
    "austria_shp = gp.read_file('Data/austria.shp')\n",
    "austria = austria[austria['Origin'] != austria['Destination']]"
   ]
  },
  {
   "cell_type": "code",
   "execution_count": 5,
   "id": "hourly-moses",
   "metadata": {},
   "outputs": [],
   "source": [
    "aust_plcdf = austria[['Destination','Dj']]\n",
    "aust_plcdf = aust_plcdf.drop_duplicates(subset = ['Destination'])"
   ]
  },
  {
   "cell_type": "code",
   "execution_count": 6,
   "id": "burning-formula",
   "metadata": {},
   "outputs": [
    {
     "data": {
      "text/html": [
       "<div>\n",
       "<style scoped>\n",
       "    .dataframe tbody tr th:only-of-type {\n",
       "        vertical-align: middle;\n",
       "    }\n",
       "\n",
       "    .dataframe tbody tr th {\n",
       "        vertical-align: top;\n",
       "    }\n",
       "\n",
       "    .dataframe thead th {\n",
       "        text-align: right;\n",
       "    }\n",
       "</style>\n",
       "<table border=\"1\" class=\"dataframe\">\n",
       "  <thead>\n",
       "    <tr style=\"text-align: right;\">\n",
       "      <th></th>\n",
       "      <th>Unnamed: 0</th>\n",
       "      <th>Origin</th>\n",
       "      <th>Destination</th>\n",
       "      <th>Data</th>\n",
       "      <th>Oi</th>\n",
       "      <th>Dj</th>\n",
       "      <th>Dij</th>\n",
       "    </tr>\n",
       "  </thead>\n",
       "  <tbody>\n",
       "    <tr>\n",
       "      <th>1</th>\n",
       "      <td>1</td>\n",
       "      <td>AT11</td>\n",
       "      <td>AT12</td>\n",
       "      <td>1131</td>\n",
       "      <td>4016</td>\n",
       "      <td>25741</td>\n",
       "      <td>103.001845</td>\n",
       "    </tr>\n",
       "  </tbody>\n",
       "</table>\n",
       "</div>"
      ],
      "text/plain": [
       "   Unnamed: 0 Origin Destination  Data    Oi     Dj         Dij\n",
       "1           1   AT11        AT12  1131  4016  25741  103.001845"
      ]
     },
     "execution_count": 6,
     "metadata": {},
     "output_type": "execute_result"
    }
   ],
   "source": [
    "austria.head(1)"
   ]
  },
  {
   "cell_type": "markdown",
   "id": "strategic-correspondence",
   "metadata": {},
   "source": [
    "# Terms Class"
   ]
  },
  {
   "cell_type": "markdown",
   "id": "korean-fleece",
   "metadata": {},
   "source": [
    "## Linear"
   ]
  },
  {
   "cell_type": "code",
   "execution_count": 7,
   "id": "primary-intro",
   "metadata": {
    "tags": []
   },
   "outputs": [],
   "source": [
    "class LinearTerm():\n",
    "    \n",
    "    def __init__(self, df, *idx):\n",
    "        \n",
    "        self._df = df\n",
    "        #self._df = self._df.assign(intercept = 1)\n",
    "        self._idx = list(idx) \n",
    "        #self._idx.insert(0, -1)\n",
    "        self._x = self._df.iloc[:, self._idx].apply(pd.to_numeric).values\n",
    "\n",
    "        # int(self._df.shape[1]-1) self._x = np.column_stack((ones, self._x))\n",
    "                  \n",
    "    @property\n",
    "    def X(self):\n",
    "        return self._x\n",
    "    \n",
    "    def __str__(self):\n",
    "        return '<%s, %s:%s>' % (self.__class__.__name__)\n",
    "\n",
    "        "
   ]
  },
  {
   "cell_type": "markdown",
   "id": "changed-running",
   "metadata": {},
   "source": [
    "## Spatial Access"
   ]
  },
  {
   "cell_type": "code",
   "execution_count": 569,
   "id": "marked-locking",
   "metadata": {
    "tags": []
   },
   "outputs": [],
   "source": [
    "class SpatialAccessTerm():\n",
    "    \n",
    "    def __init__(self, df, geomap, plcdf, *idx_codes, idx_mpn = 0, idx_plcn = 0, idx_plca = 1):\n",
    "    \n",
    "        tdf = df.iloc[:, list(idx_codes)]\n",
    "        tdf = tdf.assign(Origin = tdf.iloc[:,0],\n",
    "                         Destination = tdf.iloc[:,1])\n",
    "        mp = geomap.set_index(geomap.iloc[:, idx_mpn])\n",
    "    \n",
    "        #calculate distances\n",
    "        distmat = sw.distance.DistanceBand.from_dataframe(mp, threshold=99999, binary=False, alpha=1)\n",
    "        distmat = distmat.full()[0]\n",
    "        distmat = distmat[distmat != 0].reshape((plcdf.shape[0], plcdf.shape[0]-1))\n",
    "        \n",
    "        def get_mk(plcn):\n",
    "            tmpdf = plcdf[plcdf.iloc[:,idx_plcn] != plcn]\n",
    "            mk = tmpdf.iloc[:,idx_plca].values.reshape((1,-1))\n",
    "            return mk\n",
    "    \n",
    "        tplcdf = plcdf.set_index(plcdf.iloc[:,idx_plcn].reindex(geomap.iloc[:, idx_mpn]))#sort_index()\n",
    "        #print(plcdf)#sort_index())\n",
    "        \n",
    "        tplcdf = tplcdf.assign(rownum = np.arange(tplcdf.shape[0]))\n",
    "        tplcdf = tplcdf.assign(dkj = tplcdf.iloc[:,-1].apply(lambda x: distmat[x]),\n",
    "                               mk = tplcdf.iloc[:,0].apply(lambda x: get_mk(x)))\n",
    "\n",
    "        findf = tplcdf[[tplcdf.columns[idx_plcn],'mk', 'dkj']].set_index(tplcdf.iloc[:,idx_plcn])\n",
    "        access_df = tdf.join(findf, how = 'left', on = 'Destination', rsuffix = '_r') \n",
    "        self._mk = access_df.mk\n",
    "        self._dkj = access_df.dkj\n",
    "        self._df = access_df\n",
    "    \n",
    "    def cal(self, sigma, logged = False):\n",
    "        \n",
    "        def cal_Access(a, b, sigma):\n",
    "            aij = np.dot(a, np.power(b, sigma))\n",
    "            return aij\n",
    "        \n",
    "        Aijs = np.vectorize(cal_Access)(self._mk, self._dkj, sigma)\n",
    "        Aijs = pd.to_numeric(Aijs).reshape((-1,1))\n",
    "        \n",
    "        if logged == True:\n",
    "            Aijs = np.log(Aijs)\n",
    "        \n",
    "        return Aijs\n",
    "         \n",
    "    @property\n",
    "    def mk(self):\n",
    "        return self._mk\n",
    "    \n",
    "    @property\n",
    "    def dkj(self):\n",
    "        return self._dkj\n",
    "    \n",
    "    @property\n",
    "    def df(self):\n",
    "        return self._df\n",
    "    \n",
    "    def __str__(self):\n",
    "        return '<%s, %s:%s>' % (self.__class__.__name__)\n",
    "    "
   ]
  },
  {
   "cell_type": "markdown",
   "id": "spread-jamaica",
   "metadata": {},
   "source": [
    "# GASM Class"
   ]
  },
  {
   "cell_type": "code",
   "execution_count": 611,
   "id": "royal-closing",
   "metadata": {
    "tags": []
   },
   "outputs": [],
   "source": [
    "class GASM():\n",
    "    lin = False\n",
    "    sa = False\n",
    "\n",
    "    def __init__(self, *terms):\n",
    "        for term in terms:\n",
    "            if isinstance(term, LinearTerm):\n",
    "                self._lt = term.X\n",
    "                self.lin = True\n",
    "            if isinstance(term, SpatialAccessTerm):\n",
    "                self._sat = term\n",
    "                self.sa = True\n",
    "    \n",
    "    def calibrate(self, value, intercept = True):\n",
    "        \n",
    "        def backfit(y, X, w, verbose = False):\n",
    "            n,k = X.shape\n",
    "\n",
    "            betas = _compute_betas_gwr(y, X, w.reshape((-1, 1)))[0]\n",
    "            #betas = sm.OLS(y, (np.log(w * X))).fit().params.reshape((-1,1))\n",
    "            XB = np.multiply(betas.T, X)\n",
    "            yhat = np.dot(X, betas)\n",
    "            err = y.reshape((-1, 1)) - yhat\n",
    "            iters = 0\n",
    "            scores = []\n",
    "            delta = 1e6\n",
    "            tol = 1e-8\n",
    "            max_iter = 50\n",
    "\n",
    "            for iters in range(1, max_iter + 1):\n",
    "                new_XB = np.zeros_like(X)\n",
    "                params = np.zeros_like(betas)\n",
    "                for j in range(k):\n",
    "                    temp_y = XB[:, j].reshape((-1, 1))\n",
    "                    temp_y = temp_y + err.reshape((-1, 1))\n",
    "                    temp_X = X[:, j].reshape((-1, 1))  \n",
    "                    #beta = sm.OLS(temp_y, (np.log(w * temp_X))).fit().params[0]\n",
    "                    beta = _compute_betas_gwr(temp_y, temp_X, w.reshape((-1, 1)))[0]\n",
    "                    yhat = np.dot(temp_X, beta)\n",
    "                    new_XB[:, j] = yhat.flatten()\n",
    "                    err = (temp_y - yhat).reshape((-1, 1))\n",
    "                    params[j, :] = beta[0][0]\n",
    "                \n",
    "                num = np.sum((XB-new_XB)**2)\n",
    "                den = 1 + np.sum(np.sum(XB, axis=1)**2)\n",
    "                score = (num / den)\n",
    "                XB = new_XB\n",
    "        \n",
    "                scores.append(deepcopy(score))\n",
    "                delta = score\n",
    "\n",
    "                if verbose:\n",
    "                    print(\"Current iteration:\", iters, \",SOC:\", np.round(score, 8))\n",
    "                if delta < tol:\n",
    "                    break\n",
    "\n",
    "            return params, X\n",
    "            \n",
    "        \n",
    "        def backfitCD(y, X, w, sat, verbose = False):\n",
    "            n,k = X.shape\n",
    "\n",
    "            #print(X)\n",
    "            betas = _compute_betas_gwr(y, X, w.reshape((-1, 1)))[0]\n",
    "            #print(betas)\n",
    "            XB = np.multiply(betas.T, X)\n",
    "            yhat = np.dot(X, betas)\n",
    "            err = y.reshape((-1, 1)) - yhat\n",
    "            iters = 0\n",
    "            scores = []\n",
    "            delta = 1e6\n",
    "            tol = 1e-8\n",
    "            max_iter = 50\n",
    "            sig = 9999\n",
    "\n",
    "            for iters in range(1, max_iter + 1):\n",
    "                new_XB = np.zeros_like(X)\n",
    "                params = np.zeros_like(betas)\n",
    "\n",
    "                for j in range(k):\n",
    "                    temp_y = XB[:, j].reshape((-1, 1))\n",
    "                    temp_y = temp_y + err.reshape((-1, 1))\n",
    "                    temp_X = X[:, j].reshape((-1, 1))\n",
    "\n",
    "                    if j == k-1:\n",
    "                        #score = lambda x: sm.OLS(temp_y, sat.cal(x, True)).fit().aic\n",
    "                        score = lambda x: sm.OLS(temp_y, np.hstack((X[:, 0:j-1], sat.cal(x, True)))).fit().aic\n",
    "                        sig  = golden_section(-6, 6, 0.3879, score, 1e-8, 50)[0] #0.3879\n",
    "                        #print(sig)\n",
    "                        Aij = sat.cal(sig)\n",
    "                        X[:, j] = np.log(Aij.flatten())\n",
    "                        temp_X = np.log(Aij.flatten()).reshape((-1,1))#sat.cal(sig, True)#np.log(Aij).reshape((-1,1))\n",
    "\n",
    "                    #beta = sm.OLS(temp_y, (np.log(w * temp_X))).fit().params[0]\n",
    "                    beta = _compute_betas_gwr(temp_y, temp_X, w.reshape((-1, 1)))[0]\n",
    "                    #print(beta)\n",
    "                    yhat = np.dot(temp_X, beta)\n",
    "                    new_XB[:, j] = yhat.flatten()\n",
    "                    err = (temp_y - yhat).reshape((-1, 1))\n",
    "                    params[j, :] = beta[0][0]\n",
    "                \n",
    "                num = np.sum((XB-new_XB)**2)\n",
    "                den = 1 + np.sum(np.sum(XB, axis=1)**2)\n",
    "                score = (num / den)\n",
    "                XB = new_XB\n",
    "        \n",
    "                scores.append(deepcopy(score))\n",
    "                delta = score\n",
    "\n",
    "                if verbose:\n",
    "                    print(\"Current iteration:\", iters, \",SOC:\", np.round(score, 8))\n",
    "                if delta < tol:\n",
    "                    break\n",
    "\n",
    "            return params, X, sig\n",
    "        \n",
    "        X = np.zeros_like(self._lt)\n",
    "        ones = pd.to_numeric(np.ones(X.shape[0])).reshape((-1,1))\n",
    "        \n",
    "        if intercept == True:\n",
    "        \n",
    "            if self.lin == True and self.sa == False:\n",
    "                X = np.hstack((ones, np.log(self._lt)))\n",
    "            \n",
    "            if self.lin == True and self.sa == True:\n",
    "                X = np.hstack((ones, np.log(self._lt), self._sat.cal(-1, True)))\n",
    "                \n",
    "        if intercept == False:\n",
    "            if self.lin == True and self.sa == False:\n",
    "                X = np.log(self._lt)\n",
    "            \n",
    "            if self.lin == True and self.sa == True:\n",
    "                X = np.hstack((np.log(self._lt), self._sat.cal(-1, True)))\n",
    "            \n",
    "        self._initX = X\n",
    "\n",
    "        y = value.reshape((-1,1))\n",
    "        s_0 = np.log(np.mean(y))\n",
    "        eta = s_0.reshape((-1, 1))\n",
    "        s_old = np.ones_like(X)\n",
    "        crit = 9999\n",
    "        betas = np.ones(self._initX.shape[1])\n",
    "        sigma = 9999\n",
    "\n",
    "        while crit > 1e-8:\n",
    "            mu = np.exp(eta).reshape((-1, 1))\n",
    "            w = mu.reshape((-1,1))\n",
    "            z = eta + ((y.reshape((-1, 1)) - mu) / mu)\n",
    "            \n",
    "            if self.lin == True and self.sa == False:\n",
    "                betas, X = backfit(z, X, w)\n",
    "            if self.lin == True and self.sa == True:\n",
    "                betas, X, sigma  = backfitCD(z, X, w, self._sat)\n",
    "            \n",
    "            s_new = np.multiply(betas.T, X)\n",
    "            inner = np.sum((s_old - s_new)**2, axis=1)\n",
    "            num = np.sum(w*inner)\n",
    "            den = np.sum(w*np.sum((1 + s_old)**2, axis=1).reshape((-1, 1)))\n",
    "            crit = num / den\n",
    "            eta = np.sum(s_new, axis=1).reshape((-1, 1))\n",
    "            s_old = s_new\n",
    "        \n",
    "        if self.lin == True and self.sa == False:\n",
    "            return betas\n",
    "        if self.lin == True and self.sa == True:\n",
    "            return betas, sigma\n",
    "\n",
    "    \n",
    "    @property\n",
    "    def initX(self):\n",
    "        return self._initX\n"
   ]
  },
  {
   "cell_type": "markdown",
   "id": "stunning-thailand",
   "metadata": {
    "tags": []
   },
   "source": [
    "# Simulation"
   ]
  },
  {
   "cell_type": "markdown",
   "id": "recovered-heating",
   "metadata": {},
   "source": [
    "## Create Points"
   ]
  },
  {
   "cell_type": "markdown",
   "id": "fitted-mills",
   "metadata": {},
   "source": [
    "Refer to: https://pysal.org/notebooks/explore/pointpats/process.html#Point-Processes"
   ]
  },
  {
   "cell_type": "code",
   "execution_count": 266,
   "id": "reported-atlanta",
   "metadata": {},
   "outputs": [],
   "source": [
    "from pointpats import * #PoissonPointProcess, PoissonClusterPointProcess, Window, poly_from_bbox, PointPattern\n",
    "import libpysal as ps\n",
    "from libpysal.cg import *\n",
    "%matplotlib inline\n",
    "#import matplotlib.pyplot as plt"
   ]
  },
  {
   "cell_type": "markdown",
   "id": "convertible-jacket",
   "metadata": {},
   "source": [
    "### Even"
   ]
  },
  {
   "cell_type": "code",
   "execution_count": 267,
   "id": "royal-significance",
   "metadata": {},
   "outputs": [
    {
     "data": {
      "text/plain": [
       "array([ 20,  40,  60,  80, 100])"
      ]
     },
     "execution_count": 267,
     "metadata": {},
     "output_type": "execute_result"
    }
   ],
   "source": [
    "x = np.arange(20, 120, 20)\n",
    "x"
   ]
  },
  {
   "cell_type": "code",
   "execution_count": 268,
   "id": "operational-productivity",
   "metadata": {},
   "outputs": [],
   "source": [
    "X_eve = np.tile(x, 5)\n",
    "Y_eve = np.repeat(x, 5)"
   ]
  },
  {
   "cell_type": "code",
   "execution_count": 269,
   "id": "otherwise-wisdom",
   "metadata": {},
   "outputs": [],
   "source": [
    "squpts_even = np.column_stack((X_eve, Y_eve))"
   ]
  },
  {
   "cell_type": "code",
   "execution_count": 270,
   "id": "english-interpretation",
   "metadata": {},
   "outputs": [
    {
     "data": {
      "text/plain": [
       "[<matplotlib.lines.Line2D at 0x7f0a1addd400>]"
      ]
     },
     "execution_count": 270,
     "metadata": {},
     "output_type": "execute_result"
    },
    {
     "data": {
      "image/png": "[encoded data removed]",
      "text/plain": [
       "<Figure size 360x360 with 1 Axes>"
      ]
     },
     "metadata": {
      "needs_background": "light"
     },
     "output_type": "display_data"
    }
   ],
   "source": [
    "len_xaxis,len_yaxis = 5,5\n",
    "xspace, yspace = 1, 1\n",
    "x_fig,y_fig = len_xaxis / xspace, len_yaxis / yspace\n",
    "plt.figure(figsize=(x_fig,y_fig))\n",
    "plt.subplots_adjust(left=1-xspace, right = xspace, top=yspace, bottom = 1-yspace)\n",
    "plt.plot(X_eve, Y_eve, 'o')"
   ]
  },
  {
   "cell_type": "markdown",
   "id": "danish-mixer",
   "metadata": {},
   "source": [
    "### Setup for the below"
   ]
  },
  {
   "cell_type": "code",
   "execution_count": 271,
   "id": "annual-dance",
   "metadata": {},
   "outputs": [],
   "source": [
    "square = Polygon([Point((20, 20)), Point((100, 20)), Point((100, 100)), Point((20, 100))])\n",
    "squwin = as_window(square)"
   ]
  },
  {
   "cell_type": "markdown",
   "id": "common-tribe",
   "metadata": {},
   "source": [
    "### Random"
   ]
  },
  {
   "cell_type": "markdown",
   "id": "typical-checkout",
   "metadata": {},
   "source": [
    "Generate a point series from N-conditioned CSR "
   ]
  },
  {
   "cell_type": "code",
   "execution_count": 272,
   "id": "aging-wallpaper",
   "metadata": {
    "tags": []
   },
   "outputs": [],
   "source": [
    "# simulate a csr process in the same window (200 points, 1 realization)\n",
    "# by specifying \"asPP\" false, we can generate a point series\n",
    "# by specifying \"conditioning\" false, we can simulate a N-conditioned CSR\n",
    "np.random.seed(5)\n",
    "squsamples = PoissonPointProcess(squwin, 25, 1, conditioning=False, asPP=False)\n",
    "#squsamples.realizations[0] # simulated randomt points"
   ]
  },
  {
   "cell_type": "code",
   "execution_count": 273,
   "id": "encouraging-teaching",
   "metadata": {},
   "outputs": [
    {
     "data": {
      "text/plain": [
       "[<matplotlib.lines.Line2D at 0x7f0a1ad374c0>]"
      ]
     },
     "execution_count": 273,
     "metadata": {},
     "output_type": "execute_result"
    },
    {
     "data": {
      "image/png": "[encoded data removed]",
      "text/plain": [
       "<Figure size 360x360 with 1 Axes>"
      ]
     },
     "metadata": {
      "needs_background": "light"
     },
     "output_type": "display_data"
    }
   ],
   "source": [
    "# build a point pattern from the simulated point series\n",
    "squpts_random = squsamples.realizations[0]\n",
    "len_xaxis,len_yaxis = 5,5\n",
    "xspace, yspace = 1, 1\n",
    "x_fig,y_fig = len_xaxis / xspace, len_yaxis / yspace\n",
    "plt.figure(figsize=(x_fig,y_fig))\n",
    "plt.subplots_adjust(left=1-xspace, right = xspace, top=yspace, bottom = 1-yspace)\n",
    "plt.plot(squpts_random[:,0],squpts_random[:,1],'o')\n",
    "#squpts_random.plot(window=True, hull=True, title='Random Point Pattern')"
   ]
  },
  {
   "cell_type": "markdown",
   "id": "plastic-buffalo",
   "metadata": {},
   "source": [
    "### Cluster"
   ]
  },
  {
   "cell_type": "markdown",
   "id": "collective-graduation",
   "metadata": {},
   "source": [
    "1. Simulate a Poisson cluster process of size 75 with 5 parents and 15 children within 0.5 units of each parent (parent randomts:  $\\lambda$-conditioned CSR)"
   ]
  },
  {
   "cell_type": "code",
   "execution_count": 274,
   "id": "secret-niagara",
   "metadata": {},
   "outputs": [],
   "source": [
    "np.random.seed(10)\n",
    "squcsamples = PoissonClusterPointProcess(squwin, 25, 5, 50, 1, asPP=False, conditioning=True)"
   ]
  },
  {
   "cell_type": "markdown",
   "id": "described-laptop",
   "metadata": {},
   "source": [
    "2. Generate a point series from N-conditioned CSR with a random pattern"
   ]
  },
  {
   "cell_type": "code",
   "execution_count": 275,
   "id": "perceived-party",
   "metadata": {
    "tags": []
   },
   "outputs": [],
   "source": [
    "np.random.seed(10)\n",
    "squsamples2 = PoissonPointProcess(squwin, 5, 1, conditioning=False, asPP=False)\n",
    "squpts_cluster = np.row_stack((squcsamples.realizations[0], squsamples2.realizations[0]))"
   ]
  },
  {
   "cell_type": "code",
   "execution_count": 276,
   "id": "arbitrary-google",
   "metadata": {},
   "outputs": [
    {
     "data": {
      "text/plain": [
       "[<matplotlib.lines.Line2D at 0x7f0a1ad15490>]"
      ]
     },
     "execution_count": 276,
     "metadata": {},
     "output_type": "execute_result"
    },
    {
     "data": {
      "image/png": "[encoded data removed]",
      "text/plain": [
       "<Figure size 360x360 with 1 Axes>"
      ]
     },
     "metadata": {
      "needs_background": "light"
     },
     "output_type": "display_data"
    }
   ],
   "source": [
    "len_xaxis,len_yaxis = 5,5\n",
    "xspace, yspace = 1, 1\n",
    "x_fig,y_fig = len_xaxis / xspace, len_yaxis / yspace\n",
    "plt.figure(figsize=(x_fig,y_fig))\n",
    "plt.subplots_adjust(left=1-xspace, right = xspace, top=yspace, bottom = 1-yspace)\n",
    "plt.plot(squpts_cluster[:,0],squpts_cluster[:,1],'o')\n",
    "#squpts_cluster = PointPattern(squfin_cluster)\n",
    "#squpts_cluster.plot(window=True, hull=True, title='Clustered Point Pattern with Some Random Points')"
   ]
  },
  {
   "cell_type": "code",
   "execution_count": 277,
   "id": "herbal-catch",
   "metadata": {},
   "outputs": [
    {
     "data": {
      "text/plain": [
       "(25, 2)"
      ]
     },
     "execution_count": 277,
     "metadata": {},
     "output_type": "execute_result"
    }
   ],
   "source": [
    "squpts_cluster.shape"
   ]
  },
  {
   "cell_type": "markdown",
   "id": "passing-gasoline",
   "metadata": {},
   "source": [
    "## Build Data"
   ]
  },
  {
   "cell_type": "code",
   "execution_count": 278,
   "id": "following-helen",
   "metadata": {
    "tags": []
   },
   "outputs": [],
   "source": [
    "evendf = pd.DataFrame(squpts_even, columns = ['Lon', 'Lat'])\n",
    "randomdf = pd.DataFrame(squpts_random, columns = ['Lon', 'Lat'])\n",
    "clusterdf = pd.DataFrame(squpts_cluster, columns = ['Lon', 'Lat'])"
   ]
  },
  {
   "cell_type": "code",
   "execution_count": 279,
   "id": "beautiful-pleasure",
   "metadata": {},
   "outputs": [],
   "source": [
    "evendf = evendf.assign(Name = np.arange(evendf.shape[0]))\n",
    "randomdf = randomdf.assign(Name = np.arange(randomdf.shape[0]))\n",
    "clusterdf = clusterdf.assign(Name = np.arange(clusterdf.shape[0]))\n",
    "\n",
    "evendf.Name = evendf.Name.astype(str).str.zfill(3)\n",
    "randomdf.Name = randomdf.Name.astype(str).str.zfill(3)\n",
    "clusterdf.Name = clusterdf.Name.astype(str).str.zfill(3)"
   ]
  },
  {
   "cell_type": "code",
   "execution_count": 280,
   "id": "breathing-boost",
   "metadata": {},
   "outputs": [
    {
     "data": {
      "text/html": [
       "<div>\n",
       "<style scoped>\n",
       "    .dataframe tbody tr th:only-of-type {\n",
       "        vertical-align: middle;\n",
       "    }\n",
       "\n",
       "    .dataframe tbody tr th {\n",
       "        vertical-align: top;\n",
       "    }\n",
       "\n",
       "    .dataframe thead th {\n",
       "        text-align: right;\n",
       "    }\n",
       "</style>\n",
       "<table border=\"1\" class=\"dataframe\">\n",
       "  <thead>\n",
       "    <tr style=\"text-align: right;\">\n",
       "      <th></th>\n",
       "      <th>Lon</th>\n",
       "      <th>Lat</th>\n",
       "      <th>Name</th>\n",
       "    </tr>\n",
       "  </thead>\n",
       "  <tbody>\n",
       "    <tr>\n",
       "      <th>0</th>\n",
       "      <td>49.236338</td>\n",
       "      <td>20.468584</td>\n",
       "      <td>000</td>\n",
       "    </tr>\n",
       "  </tbody>\n",
       "</table>\n",
       "</div>"
      ],
      "text/plain": [
       "         Lon        Lat Name\n",
       "0  49.236338  20.468584  000"
      ]
     },
     "execution_count": 280,
     "metadata": {},
     "output_type": "execute_result"
    }
   ],
   "source": [
    "clusterdf.head(1)"
   ]
  },
  {
   "cell_type": "code",
   "execution_count": 281,
   "id": "coated-estate",
   "metadata": {},
   "outputs": [],
   "source": [
    "import geopandas as gpd"
   ]
  },
  {
   "cell_type": "code",
   "execution_count": 282,
   "id": "round-principal",
   "metadata": {},
   "outputs": [],
   "source": [
    "#create geodataframe\n",
    "even_gdf = gpd.GeoDataFrame(evendf, geometry=gpd.points_from_xy(evendf.Lon, evendf.Lat))\n",
    "random_gdf = gpd.GeoDataFrame(randomdf, geometry=gpd.points_from_xy(randomdf.Lon, randomdf.Lat))\n",
    "cluster_gdf = gpd.GeoDataFrame(clusterdf, geometry=gpd.points_from_xy(clusterdf.Lon, clusterdf.Lat))"
   ]
  },
  {
   "cell_type": "markdown",
   "id": "equipped-anniversary",
   "metadata": {},
   "source": [
    "### Population"
   ]
  },
  {
   "cell_type": "code",
   "execution_count": 283,
   "id": "lined-matthew",
   "metadata": {},
   "outputs": [],
   "source": [
    "np.random.seed(5)\n",
    "pop = np.random.uniform(50000,5000000,25)\n",
    "popdf = evendf.assign(Pop = pop)\n",
    "popdf = popdf[['Name', 'Pop']]"
   ]
  },
  {
   "cell_type": "markdown",
   "id": "reverse-advertiser",
   "metadata": {},
   "source": [
    "### Distance"
   ]
  },
  {
   "cell_type": "markdown",
   "id": "loving-apartment",
   "metadata": {},
   "source": [
    "Euclidean distance"
   ]
  },
  {
   "cell_type": "code",
   "execution_count": 285,
   "id": "communist-brook",
   "metadata": {},
   "outputs": [],
   "source": [
    "even_dist_mat = np.linalg.norm(squpts_even - squpts_even[:,None], axis=-1)\n",
    "random_dist_mat = np.linalg.norm(squpts_random - squpts_random[:,None], axis=-1)\n",
    "cluster_dist_mat = np.linalg.norm(squpts_cluster - squpts_cluster[:,None], axis=-1)"
   ]
  },
  {
   "cell_type": "code",
   "execution_count": 286,
   "id": "radio-operation",
   "metadata": {},
   "outputs": [],
   "source": [
    "even_dists = even_dist_mat[even_dist_mat != 0].reshape((-1,1))\n",
    "random_dists = random_dist_mat[random_dist_mat != 0].reshape((-1,1))\n",
    "cluster_dists = cluster_dist_mat[cluster_dist_mat != 0].reshape((-1,1))"
   ]
  },
  {
   "cell_type": "code",
   "execution_count": 287,
   "id": "coastal-sensitivity",
   "metadata": {
    "tags": []
   },
   "outputs": [],
   "source": [
    "tmpdf = randomdf.copy()\n",
    "tmpdf = tmpdf.set_index(tmpdf.Name).sort_index()\n",
    "\n",
    "places = tmpdf.Name.values.reshape((-1,1))\n",
    "tmp_orig = np.repeat(places, len(places)).reshape((-1,1))\n",
    "tmp_dest = np.tile(places, (len(places),1))\n",
    "tmp_codes_df = pd.DataFrame(np.column_stack((tmp_orig, tmp_dest)))\n",
    "mask = tmp_codes_df.iloc[:,0] != tmp_codes_df.iloc[:,1]\n",
    "fcodes = tmp_orig + tmp_dest\n",
    "fcodes = fcodes[mask].reshape((-1,1))\n",
    "\n",
    "even_dist_df = pd.DataFrame(np.column_stack((fcodes, even_dists)), columns = ['fcode', 'Distance'])\n",
    "random_dist_df = pd.DataFrame(np.column_stack((fcodes, random_dists)), columns = ['fcode', 'Distance'])\n",
    "cluster_dist_df = pd.DataFrame(np.column_stack((fcodes, cluster_dists)), columns = ['fcode', 'Distance'])"
   ]
  },
  {
   "cell_type": "markdown",
   "id": "sustained-concern",
   "metadata": {},
   "source": [
    "### Combine Data"
   ]
  },
  {
   "cell_type": "code",
   "execution_count": 288,
   "id": "under-episode",
   "metadata": {},
   "outputs": [],
   "source": [
    "simul = pd.DataFrame(fcodes, columns = ['Code'])\n",
    "simul = simul.assign(Origin = simul.Code.str[:3],\n",
    "                     Destination = simul.Code.str[3:],\n",
    "                     Flows = np.ones(simul.shape[0]).reshape((-1,1)))"
   ]
  },
  {
   "cell_type": "code",
   "execution_count": 289,
   "id": "greenhouse-antarctica",
   "metadata": {},
   "outputs": [],
   "source": [
    "simul = simul.join(popdf.set_index(popdf.Name), how = 'left', on = 'Origin')\n",
    "simul = simul.drop(['Name'], axis = 1)\n",
    "simul = simul.rename(columns = {'Pop': 'Propulsive'})\n",
    "\n",
    "simul = simul.join(popdf.set_index(popdf.Name), how = 'left', on = 'Destination')\n",
    "simul = simul.drop(['Name'], axis = 1)\n",
    "simul = simul.rename(columns = {'Pop': 'Attractive'})"
   ]
  },
  {
   "cell_type": "code",
   "execution_count": 290,
   "id": "angry-warrant",
   "metadata": {},
   "outputs": [],
   "source": [
    "even_simul = simul.copy()\n",
    "random_simul = simul.copy()\n",
    "cluster_simul = simul.copy()"
   ]
  },
  {
   "cell_type": "code",
   "execution_count": 291,
   "id": "suffering-internet",
   "metadata": {},
   "outputs": [],
   "source": [
    "even_simul = even_simul.join(even_dist_df.set_index(even_dist_df.fcode), how = 'left', on = 'Code')\n",
    "even_simul = even_simul.drop(['fcode'], axis = 1)\n",
    "even_simul = even_simul.set_index(even_simul.Code)\n",
    "even_simul = even_simul.drop(['Code'], axis = 1)\n",
    "\n",
    "random_simul = random_simul.join(random_dist_df.set_index(random_dist_df.fcode), how = 'left', on = 'Code')\n",
    "random_simul = random_simul.drop(['fcode'], axis = 1)\n",
    "random_simul = random_simul.set_index(random_simul.Code)\n",
    "random_simul = random_simul.drop(['Code'], axis = 1)\n",
    "\n",
    "cluster_simul = cluster_simul.join(cluster_dist_df.set_index(cluster_dist_df.fcode), how = 'left', on = 'Code')\n",
    "cluster_simul = cluster_simul.drop(['fcode'], axis = 1)\n",
    "cluster_simul = cluster_simul.set_index(cluster_simul.Code)\n",
    "cluster_simul = cluster_simul.drop(['Code'], axis = 1)"
   ]
  },
  {
   "cell_type": "code",
   "execution_count": 292,
   "id": "departmental-following",
   "metadata": {},
   "outputs": [
    {
     "data": {
      "text/html": [
       "<div>\n",
       "<style scoped>\n",
       "    .dataframe tbody tr th:only-of-type {\n",
       "        vertical-align: middle;\n",
       "    }\n",
       "\n",
       "    .dataframe tbody tr th {\n",
       "        vertical-align: top;\n",
       "    }\n",
       "\n",
       "    .dataframe thead th {\n",
       "        text-align: right;\n",
       "    }\n",
       "</style>\n",
       "<table border=\"1\" class=\"dataframe\">\n",
       "  <thead>\n",
       "    <tr style=\"text-align: right;\">\n",
       "      <th></th>\n",
       "      <th>Origin</th>\n",
       "      <th>Destination</th>\n",
       "      <th>Flows</th>\n",
       "      <th>Propulsive</th>\n",
       "      <th>Attractive</th>\n",
       "      <th>Distance</th>\n",
       "    </tr>\n",
       "    <tr>\n",
       "      <th>Code</th>\n",
       "      <th></th>\n",
       "      <th></th>\n",
       "      <th></th>\n",
       "      <th></th>\n",
       "      <th></th>\n",
       "      <th></th>\n",
       "    </tr>\n",
       "  </thead>\n",
       "  <tbody>\n",
       "    <tr>\n",
       "      <th>000001</th>\n",
       "      <td>000</td>\n",
       "      <td>001</td>\n",
       "      <td>1.0</td>\n",
       "      <td>1.148866e+06</td>\n",
       "      <td>4.360125e+06</td>\n",
       "      <td>20.0</td>\n",
       "    </tr>\n",
       "  </tbody>\n",
       "</table>\n",
       "</div>"
      ],
      "text/plain": [
       "       Origin Destination  Flows    Propulsive    Attractive Distance\n",
       "Code                                                                 \n",
       "000001    000         001    1.0  1.148866e+06  4.360125e+06     20.0"
      ]
     },
     "execution_count": 292,
     "metadata": {},
     "output_type": "execute_result"
    }
   ],
   "source": [
    "even_simul.head(1)"
   ]
  },
  {
   "cell_type": "code",
   "execution_count": 293,
   "id": "conventional-leisure",
   "metadata": {},
   "outputs": [
    {
     "data": {
      "text/html": [
       "<div>\n",
       "<style scoped>\n",
       "    .dataframe tbody tr th:only-of-type {\n",
       "        vertical-align: middle;\n",
       "    }\n",
       "\n",
       "    .dataframe tbody tr th {\n",
       "        vertical-align: top;\n",
       "    }\n",
       "\n",
       "    .dataframe thead th {\n",
       "        text-align: right;\n",
       "    }\n",
       "</style>\n",
       "<table border=\"1\" class=\"dataframe\">\n",
       "  <thead>\n",
       "    <tr style=\"text-align: right;\">\n",
       "      <th></th>\n",
       "      <th>Origin</th>\n",
       "      <th>Destination</th>\n",
       "      <th>Flows</th>\n",
       "      <th>Propulsive</th>\n",
       "      <th>Attractive</th>\n",
       "      <th>Distance</th>\n",
       "    </tr>\n",
       "    <tr>\n",
       "      <th>Code</th>\n",
       "      <th></th>\n",
       "      <th></th>\n",
       "      <th></th>\n",
       "      <th></th>\n",
       "      <th></th>\n",
       "      <th></th>\n",
       "    </tr>\n",
       "  </thead>\n",
       "  <tbody>\n",
       "    <tr>\n",
       "      <th>000001</th>\n",
       "      <td>000</td>\n",
       "      <td>001</td>\n",
       "      <td>1.0</td>\n",
       "      <td>1.148866e+06</td>\n",
       "      <td>4.360125e+06</td>\n",
       "      <td>51.927488</td>\n",
       "    </tr>\n",
       "  </tbody>\n",
       "</table>\n",
       "</div>"
      ],
      "text/plain": [
       "       Origin Destination  Flows    Propulsive    Attractive   Distance\n",
       "Code                                                                   \n",
       "000001    000         001    1.0  1.148866e+06  4.360125e+06  51.927488"
      ]
     },
     "execution_count": 293,
     "metadata": {},
     "output_type": "execute_result"
    }
   ],
   "source": [
    "random_simul.head(1)"
   ]
  },
  {
   "cell_type": "code",
   "execution_count": 294,
   "id": "everyday-march",
   "metadata": {},
   "outputs": [
    {
     "data": {
      "text/html": [
       "<div>\n",
       "<style scoped>\n",
       "    .dataframe tbody tr th:only-of-type {\n",
       "        vertical-align: middle;\n",
       "    }\n",
       "\n",
       "    .dataframe tbody tr th {\n",
       "        vertical-align: top;\n",
       "    }\n",
       "\n",
       "    .dataframe thead th {\n",
       "        text-align: right;\n",
       "    }\n",
       "</style>\n",
       "<table border=\"1\" class=\"dataframe\">\n",
       "  <thead>\n",
       "    <tr style=\"text-align: right;\">\n",
       "      <th></th>\n",
       "      <th>Origin</th>\n",
       "      <th>Destination</th>\n",
       "      <th>Flows</th>\n",
       "      <th>Propulsive</th>\n",
       "      <th>Attractive</th>\n",
       "      <th>Distance</th>\n",
       "    </tr>\n",
       "    <tr>\n",
       "      <th>Code</th>\n",
       "      <th></th>\n",
       "      <th></th>\n",
       "      <th></th>\n",
       "      <th></th>\n",
       "      <th></th>\n",
       "      <th></th>\n",
       "    </tr>\n",
       "  </thead>\n",
       "  <tbody>\n",
       "    <tr>\n",
       "      <th>000001</th>\n",
       "      <td>000</td>\n",
       "      <td>001</td>\n",
       "      <td>1.0</td>\n",
       "      <td>1.148866e+06</td>\n",
       "      <td>4.360125e+06</td>\n",
       "      <td>21.376667</td>\n",
       "    </tr>\n",
       "  </tbody>\n",
       "</table>\n",
       "</div>"
      ],
      "text/plain": [
       "       Origin Destination  Flows    Propulsive    Attractive   Distance\n",
       "Code                                                                   \n",
       "000001    000         001    1.0  1.148866e+06  4.360125e+06  21.376667"
      ]
     },
     "execution_count": 294,
     "metadata": {},
     "output_type": "execute_result"
    }
   ],
   "source": [
    "cluster_simul.head(1)"
   ]
  },
  {
   "cell_type": "markdown",
   "id": "secret-programmer",
   "metadata": {},
   "source": [
    "### Accessibility"
   ]
  },
  {
   "cell_type": "code",
   "execution_count": 606,
   "id": "connected-value",
   "metadata": {},
   "outputs": [],
   "source": [
    "even_sa = SpatialAccessTerm(even_simul, even_gdf, popdf,  0, 1, idx_mpn = 2 )\n",
    "random_sa = SpatialAccessTerm(random_simul, random_gdf, popdf,  0, 1, idx_mpn = 2)\n",
    "cluster_sa = SpatialAccessTerm(cluster_simul, cluster_gdf, popdf,  0, 1, idx_mpn = 2)"
   ]
  },
  {
   "cell_type": "code",
   "execution_count": 296,
   "id": "linear-safety",
   "metadata": {},
   "outputs": [],
   "source": [
    "even_simul = even_simul.assign(Aij = even_sa.cal(-3))\n",
    "random_simul = random_simul.assign(Aij = random_sa.cal(-3))\n",
    "cluster_simul = cluster_simul.assign(Aij = cluster_sa.cal(-3))"
   ]
  },
  {
   "cell_type": "markdown",
   "id": "rational-newcastle",
   "metadata": {},
   "source": [
    "### Flows"
   ]
  },
  {
   "cell_type": "markdown",
   "id": "ignored-masters",
   "metadata": {},
   "source": [
    "$T_{ij} = kV_{i}^{\\mu}W_{j}^{\\alpha}d_{ij}^{\\beta}A_{ij}^{\\delta}$"
   ]
  },
  {
   "cell_type": "code",
   "execution_count": 769,
   "id": "military-richmond",
   "metadata": {},
   "outputs": [],
   "source": [
    "betas = np.array([[1], [1], [-1], [-1]])\n",
    "\n",
    "ones = np.ones(even_simul.shape[0]).reshape((-1,1))\n",
    "\n",
    "evenl = LinearTerm(even_simul, 4, 5, 6)\n",
    "randoml = LinearTerm(random_simul, 4, 5, 6)\n",
    "clusterl = LinearTerm(cluster_simul, 4, 5, 6)\n",
    "\n",
    "tX_even = np.hstack((ones, np.log(evenl.X))) #np.log(evenl.X) #\n",
    "tX_random = np.hstack((ones, np.log(randoml.X))) #np.log(randoml.X) #\n",
    "tX_cluster = np.hstack((ones, np.log(clusterl.X))) #np.log(clusterl.X) #\n",
    "\n",
    "f_even = np.exp(np.dot(tX_even, betas))\n",
    "f_random = np.exp(np.dot(tX_random, betas))\n",
    "f_cluster = np.exp(np.dot(tX_cluster, betas))\n",
    "\n",
    "fsum_even = np.sum(f_even)\n",
    "fsum_random = np.sum(f_random)\n",
    "fsum_cluster = np.sum(f_cluster)\n"
   ]
  },
  {
   "cell_type": "code",
   "execution_count": 770,
   "id": "crude-collect",
   "metadata": {},
   "outputs": [],
   "source": [
    "even_simul = even_simul.assign(f = f_even)\n",
    "random_simul = random_simul.assign(f = f_random)\n",
    "cluster_simul = cluster_simul.assign(f = f_cluster)"
   ]
  },
  {
   "cell_type": "code",
   "execution_count": 771,
   "id": "linear-tsunami",
   "metadata": {},
   "outputs": [],
   "source": [
    "even_simul = even_simul.assign(prob = even_simul.f/fsum_even)\n",
    "random_simul = random_simul.assign(prob = random_simul.f/ fsum_random )\n",
    "cluster_simul = cluster_simul.assign(prob = cluster_simul.f/ fsum_cluster)"
   ]
  },
  {
   "cell_type": "markdown",
   "id": "gorgeous-cleanup",
   "metadata": {},
   "source": [
    "## Simulating"
   ]
  },
  {
   "cell_type": "markdown",
   "id": "supposed-account",
   "metadata": {},
   "source": [
    "### iwls with X1, X2"
   ]
  },
  {
   "cell_type": "code",
   "execution_count": 760,
   "id": "manual-helen",
   "metadata": {},
   "outputs": [],
   "source": [
    "X1 = LinearTerm(even_simul, 4).X # population\n",
    "X2 = LinearTerm(even_simul, 5).X # distance\n",
    "\n",
    "f_even1 = np.exp(5 + np.log(X1)* 1 + np.log(X2)*(-1))\n",
    "even_simul = even_simul.assign(f1 = f_even1)\n",
    "fsum_even1 = np.sum(f_even1)\n",
    "even_simul = even_simul.assign(prob1 = even_simul.f1/fsum_even1)\n",
    "\n",
    "f_even2 = np.exp(5) * (X1**1) * (X2** (-1))\n",
    "even_simul = even_simul.assign(f2 = f_even2)\n",
    "fsum_even2 = np.sum(f_even2)\n",
    "even_simul = even_simul.assign(prob2 = even_simul.f2/fsum_even2)"
   ]
  },
  {
   "cell_type": "code",
   "execution_count": 761,
   "id": "sharp-convertible",
   "metadata": {
    "tags": []
   },
   "outputs": [
    {
     "data": {
      "text/plain": [
       "array([[ 5.],\n",
       "       [ 1.],\n",
       "       [-1.]])"
      ]
     },
     "execution_count": 761,
     "metadata": {},
     "output_type": "execute_result"
    }
   ],
   "source": [
    "np.random.seed(0)\n",
    "even_simul = even_simul.assign(Flows = even_simul.f1)\n",
    "w = ones\n",
    "\n",
    "tX_even = np.hstack((ones, np.log(X1), np.log(X2)))\n",
    "iwls(even_simul.Flows.values.reshape((-1,1)), tX_even, family=Poisson(), offset=w.reshape((-1, 1)), y_fix=None, wi=w.reshape((-1, 1)))[0]"
   ]
  },
  {
   "cell_type": "code",
   "execution_count": 762,
   "id": "behavioral-comparative",
   "metadata": {
    "tags": []
   },
   "outputs": [
    {
     "data": {
      "text/plain": [
       "array([[-3.52530161],\n",
       "       [ 1.00244446],\n",
       "       [-0.99842176]])"
      ]
     },
     "execution_count": 762,
     "metadata": {},
     "output_type": "execute_result"
    }
   ],
   "source": [
    "np.random.seed(0)\n",
    "even_simul = even_simul.assign(Flows = np.random.multinomial(1000000, even_simul.prob1))\n",
    "w = ones\n",
    "\n",
    "tX_even = np.hstack((ones, np.log(X1), np.log(X2)))\n",
    "iwls(even_simul.Flows.values.reshape((-1,1)), tX_even, family=Poisson(), offset=w.reshape((-1, 1)), y_fix=None, wi=w.reshape((-1, 1)))[0]"
   ]
  },
  {
   "cell_type": "code",
   "execution_count": 720,
   "id": "cellular-label",
   "metadata": {
    "tags": []
   },
   "outputs": [
    {
     "data": {
      "text/plain": [
       "array([[ 5.],\n",
       "       [ 1.],\n",
       "       [-1.]])"
      ]
     },
     "execution_count": 720,
     "metadata": {},
     "output_type": "execute_result"
    }
   ],
   "source": [
    "np.random.seed(0)\n",
    "even_simul = even_simul.assign(Flows = even_simul.f2)\n",
    "w = ones\n",
    "\n",
    "tX_even = np.hstack((ones, np.log(X1), np.log(X2)))\n",
    "iwls(even_simul.Flows.values.reshape((-1,1)), tX_even, family=Poisson(), offset=w.reshape((-1, 1)), y_fix=None, wi=w.reshape((-1, 1)))[0]"
   ]
  },
  {
   "cell_type": "code",
   "execution_count": 721,
   "id": "chronic-textbook",
   "metadata": {
    "tags": []
   },
   "outputs": [
    {
     "data": {
      "text/plain": [
       "array([[-3.52530161],\n",
       "       [ 1.00244446],\n",
       "       [-0.99842176]])"
      ]
     },
     "execution_count": 721,
     "metadata": {},
     "output_type": "execute_result"
    }
   ],
   "source": [
    "np.random.seed(0)\n",
    "even_simul = even_simul.assign(Flows = np.random.multinomial(1000000, even_simul.prob2))\n",
    "w = ones\n",
    "\n",
    "tX_even = np.hstack((ones, np.log(X1), np.log(X2)))\n",
    "iwls(even_simul.Flows.values.reshape((-1,1)), tX_even, family=Poisson(), offset=w.reshape((-1, 1)), y_fix=None, wi=w.reshape((-1, 1)))[0]"
   ]
  },
  {
   "cell_type": "markdown",
   "id": "starting-general",
   "metadata": {},
   "source": [
    "### iwls with X1, X2, X3"
   ]
  },
  {
   "cell_type": "code",
   "execution_count": 731,
   "id": "unauthorized-keyboard",
   "metadata": {},
   "outputs": [],
   "source": [
    "X1 = LinearTerm(even_simul, 4).X\n",
    "X2 = LinearTerm(even_simul, 5).X\n",
    "X3 = LinearTerm(even_simul, 6).X # accessibility with sigma as -3\n",
    "\n",
    "f_even1 = np.exp(5 + np.log(X1)* 1 + np.log(X2)*(-1) + np.log(X3)*(-1))\n",
    "even_simul = even_simul.assign(f1 = f_even1)\n",
    "fsum_even1 = np.sum(f_even1)\n",
    "even_simul = even_simul.assign(prob1 = even_simul.f1/fsum_even1)\n",
    "\n",
    "f_even2 = np.exp(5) * (X1**1) * (X2** (-1)) * (X3** (-1))\n",
    "even_simul = even_simul.assign(f2 = f_even2)\n",
    "fsum_even2 = np.sum(f_even2)\n",
    "even_simul = even_simul.assign(prob2 = even_simul.f2/fsum_even2)"
   ]
  },
  {
   "cell_type": "code",
   "execution_count": 745,
   "id": "bearing-controversy",
   "metadata": {
    "tags": []
   },
   "outputs": [
    {
     "data": {
      "text/plain": [
       "array([[ 5.],\n",
       "       [ 1.],\n",
       "       [-1.],\n",
       "       [-1.]])"
      ]
     },
     "execution_count": 745,
     "metadata": {},
     "output_type": "execute_result"
    }
   ],
   "source": [
    "np.random.seed(0)\n",
    "even_simul = even_simul.assign(Flows = even_simul.f1)\n",
    "w = ones\n",
    "\n",
    "tX_even = np.hstack((ones, np.log(X1), np.log(X2), np.log(X3)))\n",
    "iwls(even_simul.Flows.values.reshape((-1,1)), tX_even, family=Poisson(), offset=w.reshape((-1, 1)), y_fix=None, wi=w.reshape((-1, 1)))[0]"
   ]
  },
  {
   "cell_type": "code",
   "execution_count": 746,
   "id": "protected-petersburg",
   "metadata": {
    "tags": []
   },
   "outputs": [
    {
     "data": {
      "text/plain": [
       "array([[ 3.78420395],\n",
       "       [ 0.99722042],\n",
       "       [-1.00208049],\n",
       "       [-1.00275011]])"
      ]
     },
     "execution_count": 746,
     "metadata": {},
     "output_type": "execute_result"
    }
   ],
   "source": [
    "np.random.seed(0)\n",
    "even_simul = even_simul.assign(Flows = np.random.multinomial(1000000, even_simul.prob1))\n",
    "w = ones\n",
    "\n",
    "tX_even = np.hstack((ones, np.log(X1), np.log(X2), np.log(X3)))\n",
    "iwls(even_simul.Flows.values.reshape((-1,1)), tX_even, family=Poisson(), offset=w.reshape((-1, 1)), y_fix=None, wi=w.reshape((-1, 1)))[0]"
   ]
  },
  {
   "cell_type": "code",
   "execution_count": 747,
   "id": "manufactured-wellington",
   "metadata": {
    "tags": []
   },
   "outputs": [
    {
     "data": {
      "text/plain": [
       "array([[ 5.],\n",
       "       [ 1.],\n",
       "       [-1.],\n",
       "       [-1.]])"
      ]
     },
     "execution_count": 747,
     "metadata": {},
     "output_type": "execute_result"
    }
   ],
   "source": [
    "np.random.seed(0)\n",
    "even_simul = even_simul.assign(Flows = even_simul.f2)\n",
    "w = ones\n",
    "\n",
    "tX_even = np.hstack((ones, np.log(X1), np.log(X2), np.log(X3)))\n",
    "iwls(even_simul.Flows.values.reshape((-1,1)), tX_even, family=Poisson(), offset=w.reshape((-1, 1)), y_fix=None, wi=w.reshape((-1, 1)))[0]"
   ]
  },
  {
   "cell_type": "code",
   "execution_count": 748,
   "id": "after-straight",
   "metadata": {
    "tags": []
   },
   "outputs": [
    {
     "data": {
      "text/plain": [
       "array([[ 3.78420395],\n",
       "       [ 0.99722042],\n",
       "       [-1.00208049],\n",
       "       [-1.00275011]])"
      ]
     },
     "execution_count": 748,
     "metadata": {},
     "output_type": "execute_result"
    }
   ],
   "source": [
    "np.random.seed(0)\n",
    "even_simul = even_simul.assign(Flows = np.random.multinomial(1000000, even_simul.prob2))\n",
    "w = ones\n",
    "\n",
    "tX_even = np.hstack((ones, np.log(X1), np.log(X2), np.log(X3)))\n",
    "iwls(even_simul.Flows.values.reshape((-1,1)), tX_even, family=Poisson(), offset=w.reshape((-1, 1)), y_fix=None, wi=w.reshape((-1, 1)))[0]"
   ]
  },
  {
   "cell_type": "code",
   "execution_count": 729,
   "id": "focal-badge",
   "metadata": {},
   "outputs": [],
   "source": [
    "tmp_even_simul = even_simul.copy()\n",
    "tbli_even = [] # all coefficients\n",
    "tX_even = np.hstack((ones, np.log(X1), np.log(X2), np.log(X3)))\n",
    "\n",
    "for i in range(10):\n",
    "    np.random.seed(i)\n",
    "    tmp_even_simul = tmp_even_simul.assign(Flows = np.random.multinomial(1000000, even_simul.prob1))\n",
    "    tmp_betas_even = iwls(tmp_even_simul.Flows.values.reshape((-1,1)), tX_even, family=Poisson(), offset=w.reshape((-1, 1)), y_fix=None, wi=w.reshape((-1, 1)))[0]\n",
    "    tbli_even.append(tmp_betas_even)\n",
    "    #sli_even.append(tmp_sigma_even)  "
   ]
  },
  {
   "cell_type": "code",
   "execution_count": 730,
   "id": "functioning-number",
   "metadata": {},
   "outputs": [
    {
     "data": {
      "text/plain": [
       "[array([[ 3.78420395],\n",
       "        [ 0.99722042],\n",
       "        [-1.00208049],\n",
       "        [-1.00275011]]),\n",
       " array([[ 3.68406478],\n",
       "        [ 1.00192348],\n",
       "        [-1.00079438],\n",
       "        [-0.99913863]]),\n",
       " array([[ 3.74260969],\n",
       "        [ 0.99853137],\n",
       "        [-0.9976495 ],\n",
       "        [-1.00190678]]),\n",
       " array([[ 3.68909834],\n",
       "        [ 0.99960294],\n",
       "        [-0.99881326],\n",
       "        [-0.99604738]]),\n",
       " array([[ 3.72311741],\n",
       "        [ 0.99814456],\n",
       "        [-0.99824976],\n",
       "        [-0.99807299]]),\n",
       " array([[ 3.70988209],\n",
       "        [ 0.99889008],\n",
       "        [-0.99908848],\n",
       "        [-0.99733783]]),\n",
       " array([[ 3.73953577],\n",
       "        [ 0.99875362],\n",
       "        [-1.00187593],\n",
       "        [-0.99978147]]),\n",
       " array([[ 3.7866114 ],\n",
       "        [ 0.9951513 ],\n",
       "        [-0.99806119],\n",
       "        [-1.00085188]]),\n",
       " array([[ 3.71645326],\n",
       "        [ 1.00067247],\n",
       "        [-0.99861651],\n",
       "        [-1.002189  ]]),\n",
       " array([[ 3.7596518 ],\n",
       "        [ 0.99978236],\n",
       "        [-1.00102676],\n",
       "        [-1.00515894]])]"
      ]
     },
     "execution_count": 730,
     "metadata": {},
     "output_type": "execute_result"
    }
   ],
   "source": [
    "tbli_even"
   ]
  },
  {
   "cell_type": "markdown",
   "id": "mature-castle",
   "metadata": {},
   "source": [
    "### Even"
   ]
  },
  {
   "cell_type": "code",
   "execution_count": 785,
   "id": "subjective-advantage",
   "metadata": {},
   "outputs": [],
   "source": [
    "np.random.seed(0)#10\n",
    "even_simul = even_simul.assign(Flows = even_simul.f)\n",
    "#even_simul = even_simul.assign(Flows = np.round(1000000 * even_simul.prob))\n",
    "even_simul = even_simul.assign(Flows = np.random.multinomial(1000000, even_simul.prob))"
   ]
  },
  {
   "cell_type": "code",
   "execution_count": 786,
   "id": "plain-blond",
   "metadata": {
    "tags": []
   },
   "outputs": [],
   "source": [
    "even_l = LinearTerm(even_simul, 4, 5)\n",
    "even_mod = GASM(even_l, even_sa)"
   ]
  },
  {
   "cell_type": "code",
   "execution_count": 787,
   "id": "formal-biology",
   "metadata": {},
   "outputs": [],
   "source": [
    "betas_even, sigma_even = even_mod.calibrate(even_simul.Flows.values)"
   ]
  },
  {
   "cell_type": "code",
   "execution_count": 490,
   "id": "consolidated-input",
   "metadata": {},
   "outputs": [
    {
     "name": "stdout",
     "output_type": "stream",
     "text": [
      "[[ 1.]\n",
      " [-1.]\n",
      " [-1.]] -3.0\n"
     ]
    }
   ],
   "source": [
    "print(betas_even, sigma_even) #f sigma = -3"
   ]
  },
  {
   "cell_type": "code",
   "execution_count": 784,
   "id": "arabic-anniversary",
   "metadata": {},
   "outputs": [
    {
     "name": "stdout",
     "output_type": "stream",
     "text": [
      "[[ 3.7425099 ]\n",
      " [ 0.99712338]\n",
      " [-1.00203265]\n",
      " [-1.00129437]] -3.01\n"
     ]
    }
   ],
   "source": [
    "print(betas_even, sigma_even) #multinomial 1000000 sigma = -3"
   ]
  },
  {
   "cell_type": "code",
   "execution_count": 788,
   "id": "wired-maria",
   "metadata": {},
   "outputs": [
    {
     "name": "stdout",
     "output_type": "stream",
     "text": [
      "[[ 5.31531926]\n",
      " [ 1.00030231]\n",
      " [-1.00105098]\n",
      " [-0.99870198]] -3.0\n"
     ]
    }
   ],
   "source": [
    "print(betas_even, sigma_even) #multinomial 5000000 sigma = -3"
   ]
  },
  {
   "cell_type": "code",
   "execution_count": 359,
   "id": "joint-inside",
   "metadata": {},
   "outputs": [],
   "source": [
    "tmp_even_simul = even_simul.copy()\n",
    "bli_even = [] # all coefficients\n",
    "sli_even = [] # sigma\n",
    "\n",
    "for i in range(10):\n",
    "    np.random.seed(i)\n",
    "    tmp_even_simul.Flows = np.random.multinomial(1000000, even_simul.prob)\n",
    "    tmp_betas_even, tmp_sigma_even = even_mod.calibrate(tmp_even_simul.Flows.values)\n",
    "    bli_even .append(tmp_betas_even)\n",
    "    sli_even.append(tmp_sigma_even)  "
   ]
  },
  {
   "cell_type": "code",
   "execution_count": 363,
   "id": "organizational-asian",
   "metadata": {},
   "outputs": [],
   "source": [
    "dcli_even = [] #distance decay beta\n",
    "muli_even = [] #mu\n",
    "ali_even = []  #accessibility\n",
    "ili_even = []  #intercept"
   ]
  },
  {
   "cell_type": "code",
   "execution_count": 364,
   "id": "assisted-spray",
   "metadata": {
    "tags": []
   },
   "outputs": [],
   "source": [
    "for i in range(10):\n",
    "    ili_even.append(bli_even[i][0])\n",
    "    muli_even.append(bli_even[i][1])\n",
    "    dcli_even.append(bli_even[i][2])\n",
    "    ali_even.append(bli_even[i][3])\n",
    "    "
   ]
  },
  {
   "cell_type": "code",
   "execution_count": 370,
   "id": "unable-scholar",
   "metadata": {},
   "outputs": [
    {
     "data": {
      "text/plain": [
       "[-3.01, -3.0, -3.01, -3.02, -3.03, -3.05, -3.03, -3.03, -2.98, -2.94]"
      ]
     },
     "execution_count": 370,
     "metadata": {},
     "output_type": "execute_result"
    }
   ],
   "source": [
    "sli_even"
   ]
  },
  {
   "cell_type": "code",
   "execution_count": 427,
   "id": "monthly-flush",
   "metadata": {},
   "outputs": [
    {
     "data": {
      "text/plain": [
       "[array([-1.00203265]),\n",
       " array([-1.00079438]),\n",
       " array([-0.99760146]),\n",
       " array([-0.99871861]),\n",
       " array([-0.9981072]),\n",
       " array([-0.99884991]),\n",
       " array([-1.00173285]),\n",
       " array([-0.99791754]),\n",
       " array([-0.99871264]),\n",
       " array([-1.00131512])]"
      ]
     },
     "execution_count": 427,
     "metadata": {},
     "output_type": "execute_result"
    }
   ],
   "source": [
    "dcli_even"
   ]
  },
  {
   "cell_type": "code",
   "execution_count": 428,
   "id": "median-stationery",
   "metadata": {},
   "outputs": [
    {
     "data": {
      "text/plain": [
       "[array([0.99712338]),\n",
       " array([1.00192348]),\n",
       " array([0.99843447]),\n",
       " array([0.99941]),\n",
       " array([0.99785432]),\n",
       " array([0.99840761]),\n",
       " array([0.9984634]),\n",
       " array([0.99486043]),\n",
       " array([1.00086588]),\n",
       " array([1.00036353])]"
      ]
     },
     "execution_count": 428,
     "metadata": {},
     "output_type": "execute_result"
    }
   ],
   "source": [
    "muli_even"
   ]
  },
  {
   "cell_type": "code",
   "execution_count": 429,
   "id": "pacific-challenge",
   "metadata": {},
   "outputs": [
    {
     "data": {
      "text/plain": [
       "[array([3.7425099]),\n",
       " array([3.68406478]),\n",
       " array([3.70093967]),\n",
       " array([3.60651661]),\n",
       " array([3.59929597]),\n",
       " array([3.50460608]),\n",
       " array([3.61545715]),\n",
       " array([3.66240546]),\n",
       " array([3.80048158]),\n",
       " array([4.01515103]),\n",
       " array([3.7425099])]"
      ]
     },
     "execution_count": 429,
     "metadata": {},
     "output_type": "execute_result"
    }
   ],
   "source": [
    "ili_even"
   ]
  },
  {
   "cell_type": "markdown",
   "id": "commercial-siemens",
   "metadata": {},
   "source": [
    "### Random"
   ]
  },
  {
   "cell_type": "code",
   "execution_count": 398,
   "id": "little-knowing",
   "metadata": {},
   "outputs": [],
   "source": [
    "np.random.seed(0)\n",
    "#random_simul = random_simul.assign(Flows = random_simul.f)\n",
    "#random_simul = random_simul.assign(Flows = np.round(1000000 * random_simul.prob))\n",
    "random_simul = random_simul.assign(Flows = np.random.multinomial(1000000, random_simul.prob))"
   ]
  },
  {
   "cell_type": "code",
   "execution_count": 399,
   "id": "cloudy-retail",
   "metadata": {
    "tags": []
   },
   "outputs": [],
   "source": [
    "random_l = LinearTerm(random_simul, 4, 5)\n",
    "random_mod = GASM(random_l, random_sa)\n",
    "betas_random, sigma_random = random_mod.calibrate(random_simul.Flows.values)"
   ]
  },
  {
   "cell_type": "code",
   "execution_count": 345,
   "id": "gentle-medication",
   "metadata": {},
   "outputs": [
    {
     "name": "stdout",
     "output_type": "stream",
     "text": [
      "[[ 1.]\n",
      " [-1.]\n",
      " [-1.]] -3.0\n"
     ]
    }
   ],
   "source": [
    "print(betas_random, sigma_random) #f sigma = -3"
   ]
  },
  {
   "cell_type": "code",
   "execution_count": 400,
   "id": "absent-brooklyn",
   "metadata": {},
   "outputs": [
    {
     "name": "stdout",
     "output_type": "stream",
     "text": [
      "[[ 4.9167684 ]\n",
      " [ 0.99743921]\n",
      " [-1.00009459]\n",
      " [-0.99497175]] -3.01\n"
     ]
    }
   ],
   "source": [
    "print(betas_random, sigma_random) #multinomial sigma = -3"
   ]
  },
  {
   "cell_type": "code",
   "execution_count": 413,
   "id": "motivated-elevation",
   "metadata": {
    "scrolled": true,
    "tags": []
   },
   "outputs": [],
   "source": [
    "tmp_random_simul = random_simul.copy()\n",
    "bli_random = [] # all coefficients\n",
    "sli_random = [] # sigma\n",
    "\n",
    "for i in range(10):\n",
    "    np.random.seed(i)\n",
    "    tmp_random_simul.Flows = np.random.multinomial(1000000, random_simul.prob)\n",
    "    tmp_betas_random, tmp_sigma_random = random_mod.calibrate(tmp_random_simul.Flows.values)\n",
    "    bli_random.append(tmp_betas_random)\n",
    "    sli_random.append(tmp_sigma_random)  "
   ]
  },
  {
   "cell_type": "code",
   "execution_count": 414,
   "id": "accessible-thailand",
   "metadata": {},
   "outputs": [],
   "source": [
    "dcli_random = [] #distance decay beta\n",
    "muli_random = [] #mu\n",
    "ali_random = []  #accessibility\n",
    "ili_random = []  #intercept"
   ]
  },
  {
   "cell_type": "code",
   "execution_count": 426,
   "id": "southeast-debate",
   "metadata": {},
   "outputs": [
    {
     "data": {
      "text/plain": [
       "[array([4.9167684]),\n",
       " array([5.02201632]),\n",
       " array([5.01801264]),\n",
       " array([5.02854256]),\n",
       " array([5.08910729]),\n",
       " array([4.92762291]),\n",
       " array([4.9278701]),\n",
       " array([4.87695016]),\n",
       " array([5.09938842]),\n",
       " array([5.01368156])]"
      ]
     },
     "execution_count": 426,
     "metadata": {},
     "output_type": "execute_result"
    }
   ],
   "source": [
    "ili_random"
   ]
  },
  {
   "cell_type": "code",
   "execution_count": 415,
   "id": "greek-estate",
   "metadata": {
    "tags": []
   },
   "outputs": [],
   "source": [
    "for i in range(10):\n",
    "    ili_random.append(bli_random[i][0])\n",
    "    muli_random.append(bli_random[i][1])\n",
    "    dcli_random.append(bli_random[i][2])\n",
    "    ali_random.append(bli_random[i][3])\n",
    " "
   ]
  },
  {
   "cell_type": "code",
   "execution_count": 423,
   "id": "pregnant-berlin",
   "metadata": {},
   "outputs": [
    {
     "data": {
      "text/plain": [
       "[array([0.99743921]),\n",
       " array([1.00636091]),\n",
       " array([0.99448795]),\n",
       " array([1.00017971]),\n",
       " array([1.00697781]),\n",
       " array([1.00048793]),\n",
       " array([0.99737761]),\n",
       " array([0.9998677]),\n",
       " array([1.00844861]),\n",
       " array([1.00628427])]"
      ]
     },
     "execution_count": 423,
     "metadata": {},
     "output_type": "execute_result"
    }
   ],
   "source": [
    "muli_random"
   ]
  },
  {
   "cell_type": "code",
   "execution_count": 424,
   "id": "fresh-specification",
   "metadata": {},
   "outputs": [
    {
     "data": {
      "text/plain": [
       "[array([-1.00009459]),\n",
       " array([-1.0009315]),\n",
       " array([-0.99957341]),\n",
       " array([-1.0017982]),\n",
       " array([-1.0006133]),\n",
       " array([-1.00201326]),\n",
       " array([-1.00009387]),\n",
       " array([-0.99907843]),\n",
       " array([-0.99850161]),\n",
       " array([-1.0012794])]"
      ]
     },
     "execution_count": 424,
     "metadata": {},
     "output_type": "execute_result"
    }
   ],
   "source": [
    "dcli_random"
   ]
  },
  {
   "cell_type": "code",
   "execution_count": 425,
   "id": "powered-entity",
   "metadata": {},
   "outputs": [
    {
     "data": {
      "text/plain": [
       "[array([-0.99497175]),\n",
       " array([-1.01295545]),\n",
       " array([-0.99886597]),\n",
       " array([-1.00591791]),\n",
       " array([-1.01880861]),\n",
       " array([-0.99758503]),\n",
       " array([-0.99619995]),\n",
       " array([-0.99485666]),\n",
       " array([-1.02007258]),\n",
       " array([-1.01169184])]"
      ]
     },
     "execution_count": 425,
     "metadata": {},
     "output_type": "execute_result"
    }
   ],
   "source": [
    "ali_random"
   ]
  },
  {
   "cell_type": "code",
   "execution_count": 416,
   "id": "attended-sweet",
   "metadata": {},
   "outputs": [
    {
     "data": {
      "text/plain": [
       "[-3.01, -2.98, -3.0, -2.99, -2.97, -3.0, -3.01, -3.01, -2.96, -2.98]"
      ]
     },
     "execution_count": 416,
     "metadata": {},
     "output_type": "execute_result"
    }
   ],
   "source": [
    "sli_random"
   ]
  },
  {
   "cell_type": "markdown",
   "id": "original-contributor",
   "metadata": {},
   "source": [
    "### Cluster"
   ]
  },
  {
   "cell_type": "code",
   "execution_count": 404,
   "id": "serious-louis",
   "metadata": {},
   "outputs": [],
   "source": [
    "np.random.seed(5)\n",
    "#cluster_simul = cluster_simul.assign(Flows = cluster_simul.f)\n",
    "#cluster_simul = cluster_simul.assign(Flows = np.round(1000000 * cluster_simul.prob))\n",
    "cluster_simul = cluster_simul.assign(Flows = np.random.multinomial(1000000, cluster_simul.prob))"
   ]
  },
  {
   "cell_type": "code",
   "execution_count": 405,
   "id": "elementary-crowd",
   "metadata": {
    "tags": []
   },
   "outputs": [],
   "source": [
    "cluster_l = LinearTerm(cluster_simul, 4, 5)\n",
    "cluster_mod = GASM(cluster_l, cluster_sa)\n",
    "betas_cluster, sigma_cluster = cluster_mod.calibrate(cluster_simul.Flows.values)"
   ]
  },
  {
   "cell_type": "code",
   "execution_count": 351,
   "id": "every-bumper",
   "metadata": {},
   "outputs": [
    {
     "name": "stdout",
     "output_type": "stream",
     "text": [
      "[[ 1.]\n",
      " [-1.]\n",
      " [-1.]] -3.0\n"
     ]
    }
   ],
   "source": [
    "print(betas_cluster, sigma_cluster) #f sigma = -3"
   ]
  },
  {
   "cell_type": "code",
   "execution_count": 406,
   "id": "neural-valuable",
   "metadata": {},
   "outputs": [
    {
     "name": "stdout",
     "output_type": "stream",
     "text": [
      "[[ 5.24633697]\n",
      " [ 1.0022326 ]\n",
      " [-1.00097817]\n",
      " [-0.98731482]] -3.02\n"
     ]
    }
   ],
   "source": [
    "print(betas_cluster, sigma_cluster) #multinomial sigma = -3"
   ]
  },
  {
   "cell_type": "code",
   "execution_count": 409,
   "id": "particular-memorial",
   "metadata": {},
   "outputs": [],
   "source": [
    "tmp_cluster_simul = cluster_simul.copy()\n",
    "bli_cluster = [] # all coefficients\n",
    "sli_cluster = [] # sigma\n",
    "\n",
    "for i in range(10):\n",
    "    np.random.seed(i)\n",
    "    tmp_cluster_simul.Flows = np.random.multinomial(1000000, cluster_simul.prob)\n",
    "    tmp_betas_cluster, tmp_sigma_cluster = cluster_mod.calibrate(tmp_cluster_simul.Flows.values)\n",
    "    bli_cluster .append(tmp_betas_cluster)\n",
    "    sli_cluster.append(tmp_sigma_cluster)  "
   ]
  },
  {
   "cell_type": "code",
   "execution_count": 410,
   "id": "spread-sigma",
   "metadata": {},
   "outputs": [],
   "source": [
    "dcli_cluster = [] #distance decay beta\n",
    "muli_cluster = [] #mu\n",
    "ali_cluster = []  #accessibility\n",
    "ili_cluster = []  #intercept"
   ]
  },
  {
   "cell_type": "code",
   "execution_count": 411,
   "id": "exclusive-reviewer",
   "metadata": {
    "tags": []
   },
   "outputs": [],
   "source": [
    "for i in range(10):\n",
    "    ili_cluster.append(bli_cluster[i][0])\n",
    "    muli_cluster.append(bli_cluster[i][1])\n",
    "    dcli_cluster.append(bli_cluster[i][2])\n",
    "    ali_cluster.append(bli_cluster[i][3])\n",
    "    "
   ]
  },
  {
   "cell_type": "code",
   "execution_count": 412,
   "id": "graduate-young",
   "metadata": {},
   "outputs": [
    {
     "data": {
      "text/plain": [
       "[-3.02, -3.02, -3.0, -2.98, -3.02, -3.02, -3.03, -3.01, -3.01, -3.02]"
      ]
     },
     "execution_count": 412,
     "metadata": {},
     "output_type": "execute_result"
    }
   ],
   "source": [
    "sli_cluster"
   ]
  },
  {
   "cell_type": "code",
   "execution_count": 419,
   "id": "auburn-machine",
   "metadata": {},
   "outputs": [
    {
     "data": {
      "text/plain": [
       "[array([-1.0002289]),\n",
       " array([-0.99800321]),\n",
       " array([-0.99985492]),\n",
       " array([-0.99800723]),\n",
       " array([-1.00185756]),\n",
       " array([-1.00097817]),\n",
       " array([-0.99978225]),\n",
       " array([-1.00335459]),\n",
       " array([-1.00250097]),\n",
       " array([-1.00104566])]"
      ]
     },
     "execution_count": 419,
     "metadata": {},
     "output_type": "execute_result"
    }
   ],
   "source": [
    "dcli_cluster"
   ]
  },
  {
   "cell_type": "code",
   "execution_count": 420,
   "id": "norman-anaheim",
   "metadata": {},
   "outputs": [
    {
     "data": {
      "text/plain": [
       "[array([1.00083223]),\n",
       " array([1.00054313]),\n",
       " array([0.99858138]),\n",
       " array([1.00186449]),\n",
       " array([0.99952229]),\n",
       " array([1.0022326]),\n",
       " array([0.99943932]),\n",
       " array([1.00292729]),\n",
       " array([0.99849572]),\n",
       " array([0.99528696])]"
      ]
     },
     "execution_count": 420,
     "metadata": {},
     "output_type": "execute_result"
    }
   ],
   "source": [
    "muli_cluster"
   ]
  },
  {
   "cell_type": "code",
   "execution_count": 421,
   "id": "pregnant-trinity",
   "metadata": {},
   "outputs": [
    {
     "data": {
      "text/plain": [
       "[array([-0.9858825]),\n",
       " array([-0.98879095]),\n",
       " array([-0.99990095]),\n",
       " array([-1.01408034]),\n",
       " array([-0.98827913]),\n",
       " array([-0.98731482]),\n",
       " array([-0.98025144]),\n",
       " array([-0.99516743]),\n",
       " array([-0.99433045]),\n",
       " array([-0.98705818])]"
      ]
     },
     "execution_count": 421,
     "metadata": {},
     "output_type": "execute_result"
    }
   ],
   "source": [
    "ali_cluster"
   ]
  },
  {
   "cell_type": "code",
   "execution_count": null,
   "id": "plastic-topic",
   "metadata": {},
   "outputs": [],
   "source": []
  }
 ],
 "metadata": {
  "kernelspec": {
   "display_name": "Python 3",
   "language": "python",
   "name": "python3"
  },
  "language_info": {
   "codemirror_mode": {
    "name": "ipython",
    "version": 3
   },
   "file_extension": ".py",
   "mimetype": "text/x-python",
   "name": "python",
   "nbconvert_exporter": "python",
   "pygments_lexer": "ipython3",
   "version": "3.8.8"
  }
 },
 "nbformat": 4,
 "nbformat_minor": 5
}
