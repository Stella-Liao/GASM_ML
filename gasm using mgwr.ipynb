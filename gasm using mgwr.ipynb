{
 "cells": [
  {
   "cell_type": "code",
   "execution_count": 1,
   "id": "9e166164-dbc3-49b5-add4-3bdbf1794b5f",
   "metadata": {
    "tags": []
   },
   "outputs": [],
   "source": [
    "import numpy as np\n",
    "import pandas as pd\n",
    "import geopandas as gp\n",
    "import matplotlib.pyplot as plt\n",
    "import urllib\n",
    "import copy\n",
    "from copy import deepcopy\n",
    "import matplotlib.pyplot as plt"
   ]
  },
  {
   "cell_type": "code",
   "execution_count": 4,
   "id": "e8fc51eb-aa2b-411e-848e-b5d4784e7bc6",
   "metadata": {},
   "outputs": [],
   "source": [
    "from mgwr.sel_bw import Sel_BW\n",
    "from mgwr.gwr import GWR, MGWR\n",
    "import pandas as pd\n",
    "import libpysal as ps"
   ]
  },
  {
   "cell_type": "markdown",
   "id": "51afe4d5-90df-4a7e-b6e7-a923d9efaff3",
   "metadata": {},
   "source": [
    "# Austria Data Input"
   ]
  },
  {
   "cell_type": "code",
   "execution_count": 13,
   "id": "a187a3b8-015c-44ad-8000-8117b08044b8",
   "metadata": {},
   "outputs": [],
   "source": [
    "austria = pd.read_csv('Data/austria.csv')\n",
    "austria_shp = gp.read_file('Data/austria.shp')\n",
    "\n",
    "aust = austria[austria['Origin'] != austria['Destination']] #intra-zonal ﬂows have been excluded\n",
    "Oi = aust['Oi'].values \n",
    "Dj = aust['Dj'].values \n",
    "dij = aust['Dij'].values \n",
    "w = np.ones(72).reshape((-1,1))\n",
    "aust_Y = aust['Data'].values #the number of ﬂows between i and j\n",
    "aust_X = np.column_stack([Oi, dij,Dj])"
   ]
  },
  {
   "cell_type": "code",
   "execution_count": 14,
   "id": "61ff2e69-8634-483d-950c-e00c8716d613",
   "metadata": {},
   "outputs": [],
   "source": [
    "aust_lnY = np.log(aust['Data'].values).reshape(-1,1) #the number of ﬂows between i and j\n",
    "aust_lnX = np.log(np.column_stack([Oi.reshape(-1,1), dij.reshape(-1,1),Dj.reshape(-1,1)]))"
   ]
  },
  {
   "cell_type": "code",
   "execution_count": 3,
   "id": "c142d155-bdf3-4cc9-beb6-310eec4c5863",
   "metadata": {},
   "outputs": [],
   "source": [
    "#sort shapefile and dataframe so that places will be in the same order(ascending in this case)\n",
    "aust_shp = austria_shp.copy()\n",
    "aust_shp = aust_shp.sort_values(by = 'NUTS_ID') # change the order of places in aust_shp file as descending\n",
    "Dja = austria.drop_duplicates(subset=['Destination'])\n",
    "Dja = Dja.sort_values(by = 'Destination')['Dj'].values "
   ]
  },
  {
   "cell_type": "code",
   "execution_count": 15,
   "id": "24ac4b56-cd44-4c40-b93f-d8dd626c8a11",
   "metadata": {},
   "outputs": [],
   "source": [
    "points = aust_shp.copy()\n",
    "points = points.to_crs(\"EPSG:3416\")\n",
    "points.geometry = points.geometry.centroid\n",
    "points['X'] = points.geometry.x\n",
    "points['Y'] = points.geometry.y"
   ]
  },
  {
   "cell_type": "code",
   "execution_count": 16,
   "id": "eff80040-e595-4811-bef9-6f83f3d1cc69",
   "metadata": {},
   "outputs": [
    {
     "data": {
      "text/html": [
       "<div>\n",
       "<style scoped>\n",
       "    .dataframe tbody tr th:only-of-type {\n",
       "        vertical-align: middle;\n",
       "    }\n",
       "\n",
       "    .dataframe tbody tr th {\n",
       "        vertical-align: top;\n",
       "    }\n",
       "\n",
       "    .dataframe thead th {\n",
       "        text-align: right;\n",
       "    }\n",
       "</style>\n",
       "<table border=\"1\" class=\"dataframe\">\n",
       "  <thead>\n",
       "    <tr style=\"text-align: right;\">\n",
       "      <th></th>\n",
       "      <th>OBJECTID</th>\n",
       "      <th>NUTS_ID</th>\n",
       "      <th>STAT_LEVL_</th>\n",
       "      <th>AREA</th>\n",
       "      <th>LEN</th>\n",
       "      <th>Shape_Leng</th>\n",
       "      <th>Shape_Area</th>\n",
       "      <th>geometry</th>\n",
       "      <th>X</th>\n",
       "      <th>Y</th>\n",
       "    </tr>\n",
       "  </thead>\n",
       "  <tbody>\n",
       "    <tr>\n",
       "      <th>2</th>\n",
       "      <td>316</td>\n",
       "      <td>AT11</td>\n",
       "      <td>2</td>\n",
       "      <td>0.0</td>\n",
       "      <td>0.0</td>\n",
       "      <td>7.250182</td>\n",
       "      <td>0.474910</td>\n",
       "      <td>POINT (639794.320 409576.733)</td>\n",
       "      <td>639794.319818</td>\n",
       "      <td>409576.733087</td>\n",
       "    </tr>\n",
       "    <tr>\n",
       "      <th>7</th>\n",
       "      <td>337</td>\n",
       "      <td>AT12</td>\n",
       "      <td>2</td>\n",
       "      <td>0.0</td>\n",
       "      <td>0.0</td>\n",
       "      <td>12.106180</td>\n",
       "      <td>2.326684</td>\n",
       "      <td>POINT (579496.916 488557.414)</td>\n",
       "      <td>579496.915685</td>\n",
       "      <td>488557.413879</td>\n",
       "    </tr>\n",
       "    <tr>\n",
       "      <th>3</th>\n",
       "      <td>326</td>\n",
       "      <td>AT13</td>\n",
       "      <td>2</td>\n",
       "      <td>0.0</td>\n",
       "      <td>0.0</td>\n",
       "      <td>1.429078</td>\n",
       "      <td>0.050059</td>\n",
       "      <td>POINT (626152.234 483188.811)</td>\n",
       "      <td>626152.234389</td>\n",
       "      <td>483188.810852</td>\n",
       "    </tr>\n",
       "    <tr>\n",
       "      <th>5</th>\n",
       "      <td>334</td>\n",
       "      <td>AT21</td>\n",
       "      <td>2</td>\n",
       "      <td>0.0</td>\n",
       "      <td>0.0</td>\n",
       "      <td>7.266858</td>\n",
       "      <td>1.122715</td>\n",
       "      <td>POINT (444692.586 319642.620)</td>\n",
       "      <td>444692.586038</td>\n",
       "      <td>319642.619648</td>\n",
       "    </tr>\n",
       "    <tr>\n",
       "      <th>8</th>\n",
       "      <td>350</td>\n",
       "      <td>AT22</td>\n",
       "      <td>2</td>\n",
       "      <td>0.0</td>\n",
       "      <td>0.0</td>\n",
       "      <td>9.328439</td>\n",
       "      <td>1.951187</td>\n",
       "      <td>POINT (527128.581 375752.960)</td>\n",
       "      <td>527128.581277</td>\n",
       "      <td>375752.960185</td>\n",
       "    </tr>\n",
       "  </tbody>\n",
       "</table>\n",
       "</div>"
      ],
      "text/plain": [
       "   OBJECTID NUTS_ID  STAT_LEVL_  AREA  LEN  Shape_Leng  Shape_Area  \\\n",
       "2       316    AT11           2   0.0  0.0    7.250182    0.474910   \n",
       "7       337    AT12           2   0.0  0.0   12.106180    2.326684   \n",
       "3       326    AT13           2   0.0  0.0    1.429078    0.050059   \n",
       "5       334    AT21           2   0.0  0.0    7.266858    1.122715   \n",
       "8       350    AT22           2   0.0  0.0    9.328439    1.951187   \n",
       "\n",
       "                        geometry              X              Y  \n",
       "2  POINT (639794.320 409576.733)  639794.319818  409576.733087  \n",
       "7  POINT (579496.916 488557.414)  579496.915685  488557.413879  \n",
       "3  POINT (626152.234 483188.811)  626152.234389  483188.810852  \n",
       "5  POINT (444692.586 319642.620)  444692.586038  319642.619648  \n",
       "8  POINT (527128.581 375752.960)  527128.581277  375752.960185  "
      ]
     },
     "execution_count": 16,
     "metadata": {},
     "output_type": "execute_result"
    }
   ],
   "source": [
    "points.head()"
   ]
  },
  {
   "cell_type": "code",
   "execution_count": 17,
   "id": "6480ab44-b3a9-47f9-9312-8b73e511d2cf",
   "metadata": {},
   "outputs": [],
   "source": [
    "aust_points = aust.merge(points, left_on='Destination', right_on='NUTS_ID')"
   ]
  },
  {
   "cell_type": "code",
   "execution_count": 18,
   "id": "c582e71f-ccb8-4d68-83d2-911b0ac96bb1",
   "metadata": {
    "tags": []
   },
   "outputs": [],
   "source": [
    "coords = list(zip(aust_points.X, aust_points.Y))"
   ]
  },
  {
   "cell_type": "code",
   "execution_count": 19,
   "id": "4e3e1cac-f397-4f41-8da4-694311e5836b",
   "metadata": {},
   "outputs": [],
   "source": [
    "X = (aust_lnX - aust_lnX.mean(axis=0)) / aust_lnX.std(axis=0)\n",
    "#[lnOi, lndij, lnDj]\n",
    "y = (aust_lnY - aust_lnY.mean(axis=0)) / aust_lnY.std(axis=0)\n"
   ]
  },
  {
   "cell_type": "code",
   "execution_count": 22,
   "id": "c882ce55-b6b1-4e3b-a822-7a364388236c",
   "metadata": {},
   "outputs": [
    {
     "data": {
      "application/vnd.jupyter.widget-view+json": {
       "model_id": "7d9da08d767347589ff7e8b6fddf6e17",
       "version_major": 2,
       "version_minor": 0
      },
      "text/plain": [
       "Backfitting:   0%|          | 0/200 [00:00<?, ?it/s]"
      ]
     },
     "metadata": {},
     "output_type": "display_data"
    }
   ],
   "source": [
    "selector = Sel_BW(coords, y, X, multi=True, constant=True)\n",
    "bw1 = selector.search()"
   ]
  },
  {
   "cell_type": "code",
   "execution_count": 23,
   "id": "d66c9c5a-d0b0-4816-b76c-11fcd32c460f",
   "metadata": {},
   "outputs": [
    {
     "data": {
      "text/plain": [
       "array([65., 49., 65., 65.])"
      ]
     },
     "execution_count": 23,
     "metadata": {},
     "output_type": "execute_result"
    }
   ],
   "source": [
    "bw1"
   ]
  },
  {
   "cell_type": "code",
   "execution_count": 24,
   "id": "452c1a02-6704-453f-a8cb-1ad999228eb9",
   "metadata": {},
   "outputs": [
    {
     "data": {
      "application/vnd.jupyter.widget-view+json": {
       "model_id": "c7291f7f832a4487beed16212c7f35b8",
       "version_major": 2,
       "version_minor": 0
      },
      "text/plain": [
       "Inference:   0%|          | 0/1 [00:00<?, ?it/s]"
      ]
     },
     "metadata": {},
     "output_type": "display_data"
    }
   ],
   "source": [
    "result = MGWR(coords, y, X, selector = selector,constant=True).fit()"
   ]
  },
  {
   "cell_type": "code",
   "execution_count": 25,
   "id": "76872c49-e203-4f57-a97f-3173748e5b00",
   "metadata": {},
   "outputs": [
    {
     "name": "stdout",
     "output_type": "stream",
     "text": [
      "===========================================================================\n",
      "Model type                                                         Gaussian\n",
      "Number of observations:                                                  72\n",
      "Number of covariates:                                                     4\n",
      "\n",
      "Global Regression Results\n",
      "---------------------------------------------------------------------------\n",
      "Residual sum of squares:                                             17.628\n",
      "Log-likelihood:                                                     -51.505\n",
      "AIC:                                                                111.011\n",
      "AICc:                                                               113.920\n",
      "BIC:                                                               -273.185\n",
      "R2:                                                                   0.755\n",
      "Adj. R2:                                                              0.744\n",
      "\n",
      "Variable                              Est.         SE  t(Est/SE)    p-value\n",
      "------------------------------- ---------- ---------- ---------- ----------\n",
      "X0                                   0.000      0.060      0.000      1.000\n",
      "X1                                   0.433      0.063      6.863      0.000\n",
      "X2                                  -0.461      0.065     -7.142      0.000\n",
      "X3                                   0.451      0.063      7.161      0.000\n",
      "\n",
      "Multi-Scale Geographically Weighted Regression (MGWR) Results\n",
      "---------------------------------------------------------------------------\n",
      "Spatial kernel:                                           Adaptive bisquare\n",
      "Criterion for optimal bandwidth:                                       AICc\n",
      "Score of Change (SOC) type:                                     Smoothing f\n",
      "Termination criterion for MGWR:                                       1e-05\n",
      "\n",
      "MGWR bandwidths\n",
      "---------------------------------------------------------------------------\n",
      "Variable             Bandwidth      ENP_j   Adj t-val(95%)   Adj alpha(95%)\n",
      "X0                      65.000      1.729            2.230            0.029\n",
      "X1                      49.000      2.345            2.354            0.021\n",
      "X2                      65.000      1.830            2.253            0.027\n",
      "X3                      65.000      1.844            2.257            0.027\n",
      "\n",
      "Diagnostic information\n",
      "---------------------------------------------------------------------------\n",
      "Residual sum of squares:                                             15.956\n",
      "Effective number of parameters (trace(S)):                            7.748\n",
      "Degree of freedom (n - trace(S)):                                    64.252\n",
      "Sigma estimate:                                                       0.498\n",
      "Log-likelihood:                                                     -47.918\n",
      "AIC:                                                                113.332\n",
      "AICc:                                                               116.072\n",
      "BIC:                                                                133.248\n",
      "R2                                                                    0.778\n",
      "Adjusted R2                                                           0.751\n",
      "\n",
      "Summary Statistics For MGWR Parameter Estimates\n",
      "---------------------------------------------------------------------------\n",
      "Variable                   Mean        STD        Min     Median        Max\n",
      "-------------------- ---------- ---------- ---------- ---------- ----------\n",
      "X0                       -0.048      0.052     -0.092     -0.077      0.060\n",
      "X1                        0.486      0.091      0.365      0.479      0.660\n",
      "X2                       -0.456      0.017     -0.474     -0.460     -0.425\n",
      "X3                        0.442      0.025      0.406      0.440      0.473\n",
      "===========================================================================\n",
      "\n"
     ]
    }
   ],
   "source": [
    "result.summary()"
   ]
  },
  {
   "cell_type": "code",
   "execution_count": 26,
   "id": "003902a4-9af5-45f4-902c-062ff94f067d",
   "metadata": {},
   "outputs": [
    {
     "data": {
      "application/vnd.jupyter.widget-view+json": {
       "model_id": "ba769d1fd5bb4175b92eac1aef723ef2",
       "version_major": 2,
       "version_minor": 0
      },
      "text/plain": [
       "Backfitting:   0%|          | 0/200 [00:00<?, ?it/s]"
      ]
     },
     "metadata": {},
     "output_type": "display_data"
    },
    {
     "ename": "OverflowError",
     "evalue": "cannot convert float infinity to integer",
     "output_type": "error",
     "traceback": [
      "\u001b[0;31m---------------------------------------------------------------------------\u001b[0m",
      "\u001b[0;31mOverflowError\u001b[0m                             Traceback (most recent call last)",
      "\u001b[0;32m/tmp/ipykernel_735/1077606808.py\u001b[0m in \u001b[0;36m<module>\u001b[0;34m\u001b[0m\n\u001b[1;32m      1\u001b[0m \u001b[0mselector2\u001b[0m \u001b[0;34m=\u001b[0m \u001b[0mSel_BW\u001b[0m\u001b[0;34m(\u001b[0m\u001b[0mcoords\u001b[0m\u001b[0;34m,\u001b[0m \u001b[0my\u001b[0m\u001b[0;34m,\u001b[0m \u001b[0mX\u001b[0m\u001b[0;34m,\u001b[0m \u001b[0mmulti\u001b[0m\u001b[0;34m=\u001b[0m\u001b[0;32mTrue\u001b[0m\u001b[0;34m,\u001b[0m \u001b[0mconstant\u001b[0m\u001b[0;34m=\u001b[0m\u001b[0;32mTrue\u001b[0m\u001b[0;34m)\u001b[0m\u001b[0;34m\u001b[0m\u001b[0;34m\u001b[0m\u001b[0m\n\u001b[0;32m----> 2\u001b[0;31m \u001b[0mbw2\u001b[0m \u001b[0;34m=\u001b[0m \u001b[0mselector2\u001b[0m\u001b[0;34m.\u001b[0m\u001b[0msearch\u001b[0m\u001b[0;34m(\u001b[0m\u001b[0mmulti_bw_min\u001b[0m\u001b[0;34m=\u001b[0m\u001b[0;34m[\u001b[0m\u001b[0mnp\u001b[0m\u001b[0;34m.\u001b[0m\u001b[0minf\u001b[0m\u001b[0;34m,\u001b[0m \u001b[0mnp\u001b[0m\u001b[0;34m.\u001b[0m\u001b[0minf\u001b[0m\u001b[0;34m,\u001b[0m \u001b[0mnp\u001b[0m\u001b[0;34m.\u001b[0m\u001b[0minf\u001b[0m\u001b[0;34m,\u001b[0m \u001b[0;32mNone\u001b[0m\u001b[0;34m]\u001b[0m\u001b[0;34m)\u001b[0m\u001b[0;34m\u001b[0m\u001b[0;34m\u001b[0m\u001b[0m\n\u001b[0m",
      "\u001b[0;32m/opt/conda/lib/python3.9/site-packages/mgwr/sel_bw.py\u001b[0m in \u001b[0;36msearch\u001b[0;34m(self, search_method, criterion, bw_min, bw_max, interval, tol, max_iter, init_multi, tol_multi, rss_score, max_iter_multi, multi_bw_min, multi_bw_max, bws_same_times, pool, verbose)\u001b[0m\n\u001b[1;32m    311\u001b[0m \u001b[0;34m\u001b[0m\u001b[0m\n\u001b[1;32m    312\u001b[0m         \u001b[0;32mif\u001b[0m \u001b[0mself\u001b[0m\u001b[0;34m.\u001b[0m\u001b[0mmulti\u001b[0m\u001b[0;34m:\u001b[0m\u001b[0;34m\u001b[0m\u001b[0;34m\u001b[0m\u001b[0m\n\u001b[0;32m--> 313\u001b[0;31m             \u001b[0mself\u001b[0m\u001b[0;34m.\u001b[0m\u001b[0m_mbw\u001b[0m\u001b[0;34m(\u001b[0m\u001b[0;34m)\u001b[0m\u001b[0;34m\u001b[0m\u001b[0;34m\u001b[0m\u001b[0m\n\u001b[0m\u001b[1;32m    314\u001b[0m             \u001b[0mself\u001b[0m\u001b[0;34m.\u001b[0m\u001b[0mparams\u001b[0m \u001b[0;34m=\u001b[0m \u001b[0mself\u001b[0m\u001b[0;34m.\u001b[0m\u001b[0mbw\u001b[0m\u001b[0;34m[\u001b[0m\u001b[0;36m3\u001b[0m\u001b[0;34m]\u001b[0m  \u001b[0;31m#params n by k\u001b[0m\u001b[0;34m\u001b[0m\u001b[0;34m\u001b[0m\u001b[0m\n\u001b[1;32m    315\u001b[0m             \u001b[0mself\u001b[0m\u001b[0;34m.\u001b[0m\u001b[0msel_hist\u001b[0m \u001b[0;34m=\u001b[0m \u001b[0mself\u001b[0m\u001b[0;34m.\u001b[0m\u001b[0mbw\u001b[0m\u001b[0;34m[\u001b[0m\u001b[0;34m-\u001b[0m\u001b[0;36m2\u001b[0m\u001b[0;34m]\u001b[0m \u001b[0;31m#bw searching history\u001b[0m\u001b[0;34m\u001b[0m\u001b[0;34m\u001b[0m\u001b[0m\n",
      "\u001b[0;32m/opt/conda/lib/python3.9/site-packages/mgwr/sel_bw.py\u001b[0m in \u001b[0;36m_mbw\u001b[0;34m(self)\u001b[0m\n\u001b[1;32m    397\u001b[0m                 max_iter=max_iter, pool=self.pool, verbose=False)\n\u001b[1;32m    398\u001b[0m \u001b[0;34m\u001b[0m\u001b[0m\n\u001b[0;32m--> 399\u001b[0;31m         self.bw = multi_bw(self.init_multi, y, X, n, k, family, self.tol_multi,\n\u001b[0m\u001b[1;32m    400\u001b[0m                            \u001b[0mself\u001b[0m\u001b[0;34m.\u001b[0m\u001b[0mmax_iter_multi\u001b[0m\u001b[0;34m,\u001b[0m \u001b[0mself\u001b[0m\u001b[0;34m.\u001b[0m\u001b[0mrss_score\u001b[0m\u001b[0;34m,\u001b[0m \u001b[0mgwr_func\u001b[0m\u001b[0;34m,\u001b[0m\u001b[0;34m\u001b[0m\u001b[0;34m\u001b[0m\u001b[0m\n\u001b[1;32m    401\u001b[0m                            \u001b[0mbw_func\u001b[0m\u001b[0;34m,\u001b[0m \u001b[0msel_func\u001b[0m\u001b[0;34m,\u001b[0m \u001b[0mmulti_bw_min\u001b[0m\u001b[0;34m,\u001b[0m \u001b[0mmulti_bw_max\u001b[0m\u001b[0;34m,\u001b[0m\u001b[0;34m\u001b[0m\u001b[0;34m\u001b[0m\u001b[0m\n",
      "\u001b[0;32m/opt/conda/lib/python3.9/site-packages/mgwr/search.py\u001b[0m in \u001b[0;36mmulti_bw\u001b[0;34m(init, y, X, n, k, family, tol, max_iter, rss_score, gwr_func, bw_func, sel_func, multi_bw_min, multi_bw_max, bws_same_times, verbose)\u001b[0m\n\u001b[1;32m    221\u001b[0m                 \u001b[0mbw\u001b[0m \u001b[0;34m=\u001b[0m \u001b[0mbws\u001b[0m\u001b[0;34m[\u001b[0m\u001b[0mj\u001b[0m\u001b[0;34m]\u001b[0m\u001b[0;34m\u001b[0m\u001b[0;34m\u001b[0m\u001b[0m\n\u001b[1;32m    222\u001b[0m             \u001b[0;32melse\u001b[0m\u001b[0;34m:\u001b[0m\u001b[0;34m\u001b[0m\u001b[0;34m\u001b[0m\u001b[0m\n\u001b[0;32m--> 223\u001b[0;31m                 \u001b[0mbw\u001b[0m \u001b[0;34m=\u001b[0m \u001b[0msel_func\u001b[0m\u001b[0;34m(\u001b[0m\u001b[0mbw_class\u001b[0m\u001b[0;34m,\u001b[0m \u001b[0mmulti_bw_min\u001b[0m\u001b[0;34m[\u001b[0m\u001b[0mj\u001b[0m\u001b[0;34m]\u001b[0m\u001b[0;34m,\u001b[0m \u001b[0mmulti_bw_max\u001b[0m\u001b[0;34m[\u001b[0m\u001b[0mj\u001b[0m\u001b[0;34m]\u001b[0m\u001b[0;34m)\u001b[0m\u001b[0;34m\u001b[0m\u001b[0;34m\u001b[0m\u001b[0m\n\u001b[0m\u001b[1;32m    224\u001b[0m                 \u001b[0mgwr_sel_hist\u001b[0m\u001b[0;34m.\u001b[0m\u001b[0mappend\u001b[0m\u001b[0;34m(\u001b[0m\u001b[0mdeepcopy\u001b[0m\u001b[0;34m(\u001b[0m\u001b[0mbw_class\u001b[0m\u001b[0;34m.\u001b[0m\u001b[0msel_hist\u001b[0m\u001b[0;34m)\u001b[0m\u001b[0;34m)\u001b[0m\u001b[0;34m\u001b[0m\u001b[0;34m\u001b[0m\u001b[0m\n\u001b[1;32m    225\u001b[0m \u001b[0;34m\u001b[0m\u001b[0m\n",
      "\u001b[0;32m/opt/conda/lib/python3.9/site-packages/mgwr/sel_bw.py\u001b[0m in \u001b[0;36msel_func\u001b[0;34m(bw_func, bw_min, bw_max)\u001b[0m\n\u001b[1;32m    392\u001b[0m \u001b[0;34m\u001b[0m\u001b[0m\n\u001b[1;32m    393\u001b[0m         \u001b[0;32mdef\u001b[0m \u001b[0msel_func\u001b[0m\u001b[0;34m(\u001b[0m\u001b[0mbw_func\u001b[0m\u001b[0;34m,\u001b[0m \u001b[0mbw_min\u001b[0m\u001b[0;34m=\u001b[0m\u001b[0;32mNone\u001b[0m\u001b[0;34m,\u001b[0m \u001b[0mbw_max\u001b[0m\u001b[0;34m=\u001b[0m\u001b[0;32mNone\u001b[0m\u001b[0;34m)\u001b[0m\u001b[0;34m:\u001b[0m\u001b[0;34m\u001b[0m\u001b[0;34m\u001b[0m\u001b[0m\n\u001b[0;32m--> 394\u001b[0;31m             return bw_func.search(\n\u001b[0m\u001b[1;32m    395\u001b[0m                 \u001b[0msearch_method\u001b[0m\u001b[0;34m=\u001b[0m\u001b[0msearch_method\u001b[0m\u001b[0;34m,\u001b[0m \u001b[0mcriterion\u001b[0m\u001b[0;34m=\u001b[0m\u001b[0mcriterion\u001b[0m\u001b[0;34m,\u001b[0m\u001b[0;34m\u001b[0m\u001b[0;34m\u001b[0m\u001b[0m\n\u001b[1;32m    396\u001b[0m                 \u001b[0mbw_min\u001b[0m\u001b[0;34m=\u001b[0m\u001b[0mbw_min\u001b[0m\u001b[0;34m,\u001b[0m \u001b[0mbw_max\u001b[0m\u001b[0;34m=\u001b[0m\u001b[0mbw_max\u001b[0m\u001b[0;34m,\u001b[0m \u001b[0minterval\u001b[0m\u001b[0;34m=\u001b[0m\u001b[0minterval\u001b[0m\u001b[0;34m,\u001b[0m \u001b[0mtol\u001b[0m\u001b[0;34m=\u001b[0m\u001b[0mtol\u001b[0m\u001b[0;34m,\u001b[0m\u001b[0;34m\u001b[0m\u001b[0;34m\u001b[0m\u001b[0m\n",
      "\u001b[0;32m/opt/conda/lib/python3.9/site-packages/mgwr/sel_bw.py\u001b[0m in \u001b[0;36msearch\u001b[0;34m(self, search_method, criterion, bw_min, bw_max, interval, tol, max_iter, init_multi, tol_multi, rss_score, max_iter_multi, multi_bw_min, multi_bw_max, bws_same_times, pool, verbose)\u001b[0m\n\u001b[1;32m    317\u001b[0m                 -1]  #scalar, optimal bw from initial gwr model\n\u001b[1;32m    318\u001b[0m         \u001b[0;32melse\u001b[0m\u001b[0;34m:\u001b[0m\u001b[0;34m\u001b[0m\u001b[0;34m\u001b[0m\u001b[0m\n\u001b[0;32m--> 319\u001b[0;31m             \u001b[0mself\u001b[0m\u001b[0;34m.\u001b[0m\u001b[0m_bw\u001b[0m\u001b[0;34m(\u001b[0m\u001b[0;34m)\u001b[0m\u001b[0;34m\u001b[0m\u001b[0;34m\u001b[0m\u001b[0m\n\u001b[0m\u001b[1;32m    320\u001b[0m             \u001b[0mself\u001b[0m\u001b[0;34m.\u001b[0m\u001b[0msel_hist\u001b[0m \u001b[0;34m=\u001b[0m \u001b[0mself\u001b[0m\u001b[0;34m.\u001b[0m\u001b[0mbw\u001b[0m\u001b[0;34m[\u001b[0m\u001b[0;34m-\u001b[0m\u001b[0;36m1\u001b[0m\u001b[0;34m]\u001b[0m\u001b[0;34m\u001b[0m\u001b[0;34m\u001b[0m\u001b[0m\n\u001b[1;32m    321\u001b[0m \u001b[0;34m\u001b[0m\u001b[0m\n",
      "\u001b[0;32m/opt/conda/lib/python3.9/site-packages/mgwr/sel_bw.py\u001b[0m in \u001b[0;36m_bw\u001b[0;34m(self)\u001b[0m\n\u001b[1;32m    335\u001b[0m                                       self.constant)\n\u001b[1;32m    336\u001b[0m             \u001b[0mdelta\u001b[0m \u001b[0;34m=\u001b[0m \u001b[0;36m0.38197\u001b[0m  \u001b[0;31m#1 - (np.sqrt(5.0)-1.0)/2.0\u001b[0m\u001b[0;34m\u001b[0m\u001b[0;34m\u001b[0m\u001b[0m\n\u001b[0;32m--> 337\u001b[0;31m             self.bw = golden_section(a, c, delta, gwr_func, self.tol,\n\u001b[0m\u001b[1;32m    338\u001b[0m                                      \u001b[0mself\u001b[0m\u001b[0;34m.\u001b[0m\u001b[0mmax_iter\u001b[0m\u001b[0;34m,\u001b[0m \u001b[0mself\u001b[0m\u001b[0;34m.\u001b[0m\u001b[0mint_score\u001b[0m\u001b[0;34m,\u001b[0m\u001b[0;34m\u001b[0m\u001b[0;34m\u001b[0m\u001b[0m\n\u001b[1;32m    339\u001b[0m                                      self.verbose)\n",
      "\u001b[0;32m/opt/conda/lib/python3.9/site-packages/mgwr/search.py\u001b[0m in \u001b[0;36mgolden_section\u001b[0;34m(a, c, delta, function, tol, max_iter, int_score, verbose)\u001b[0m\n\u001b[1;32m     60\u001b[0m             \u001b[0mscore_b\u001b[0m \u001b[0;34m=\u001b[0m \u001b[0mdict\u001b[0m\u001b[0;34m[\u001b[0m\u001b[0mb\u001b[0m\u001b[0;34m]\u001b[0m\u001b[0;34m\u001b[0m\u001b[0;34m\u001b[0m\u001b[0m\n\u001b[1;32m     61\u001b[0m         \u001b[0;32melse\u001b[0m\u001b[0;34m:\u001b[0m\u001b[0;34m\u001b[0m\u001b[0;34m\u001b[0m\u001b[0m\n\u001b[0;32m---> 62\u001b[0;31m             \u001b[0mscore_b\u001b[0m \u001b[0;34m=\u001b[0m \u001b[0mfunction\u001b[0m\u001b[0;34m(\u001b[0m\u001b[0mb\u001b[0m\u001b[0;34m)\u001b[0m\u001b[0;34m\u001b[0m\u001b[0;34m\u001b[0m\u001b[0m\n\u001b[0m\u001b[1;32m     63\u001b[0m             \u001b[0mdict\u001b[0m\u001b[0;34m[\u001b[0m\u001b[0mb\u001b[0m\u001b[0;34m]\u001b[0m \u001b[0;34m=\u001b[0m \u001b[0mscore_b\u001b[0m\u001b[0;34m\u001b[0m\u001b[0;34m\u001b[0m\u001b[0m\n\u001b[1;32m     64\u001b[0m             \u001b[0;32mif\u001b[0m \u001b[0mverbose\u001b[0m\u001b[0;34m:\u001b[0m\u001b[0;34m\u001b[0m\u001b[0;34m\u001b[0m\u001b[0m\n",
      "\u001b[0;32m/opt/conda/lib/python3.9/site-packages/mgwr/sel_bw.py\u001b[0m in \u001b[0;36m<lambda>\u001b[0;34m(bw)\u001b[0m\n\u001b[1;32m    324\u001b[0m \u001b[0;34m\u001b[0m\u001b[0m\n\u001b[1;32m    325\u001b[0m     \u001b[0;32mdef\u001b[0m \u001b[0m_bw\u001b[0m\u001b[0;34m(\u001b[0m\u001b[0mself\u001b[0m\u001b[0;34m)\u001b[0m\u001b[0;34m:\u001b[0m\u001b[0;34m\u001b[0m\u001b[0;34m\u001b[0m\u001b[0m\n\u001b[0;32m--> 326\u001b[0;31m         gwr_func = lambda bw: getDiag[self.criterion](GWR(\n\u001b[0m\u001b[1;32m    327\u001b[0m             \u001b[0mself\u001b[0m\u001b[0;34m.\u001b[0m\u001b[0mcoords\u001b[0m\u001b[0;34m,\u001b[0m \u001b[0mself\u001b[0m\u001b[0;34m.\u001b[0m\u001b[0my\u001b[0m\u001b[0;34m,\u001b[0m \u001b[0mself\u001b[0m\u001b[0;34m.\u001b[0m\u001b[0mX_loc\u001b[0m\u001b[0;34m,\u001b[0m \u001b[0mbw\u001b[0m\u001b[0;34m,\u001b[0m \u001b[0mfamily\u001b[0m\u001b[0;34m=\u001b[0m\u001b[0mself\u001b[0m\u001b[0;34m.\u001b[0m\u001b[0mfamily\u001b[0m\u001b[0;34m,\u001b[0m \u001b[0mkernel\u001b[0m\u001b[0;34m=\u001b[0m\u001b[0;34m\u001b[0m\u001b[0;34m\u001b[0m\u001b[0m\n\u001b[1;32m    328\u001b[0m             \u001b[0mself\u001b[0m\u001b[0;34m.\u001b[0m\u001b[0mkernel\u001b[0m\u001b[0;34m,\u001b[0m \u001b[0mfixed\u001b[0m\u001b[0;34m=\u001b[0m\u001b[0mself\u001b[0m\u001b[0;34m.\u001b[0m\u001b[0mfixed\u001b[0m\u001b[0;34m,\u001b[0m \u001b[0mconstant\u001b[0m\u001b[0;34m=\u001b[0m\u001b[0mself\u001b[0m\u001b[0;34m.\u001b[0m\u001b[0mconstant\u001b[0m\u001b[0;34m,\u001b[0m \u001b[0moffset\u001b[0m\u001b[0;34m=\u001b[0m\u001b[0mself\u001b[0m\u001b[0;34m.\u001b[0m\u001b[0;34m\u001b[0m\u001b[0;34m\u001b[0m\u001b[0m\n",
      "\u001b[0;32m/opt/conda/lib/python3.9/site-packages/mgwr/gwr.py\u001b[0m in \u001b[0;36mfit\u001b[0;34m(self, ini_params, tol, max_iter, solve, lite, pool)\u001b[0m\n\u001b[1;32m    333\u001b[0m                 \u001b[0mrslt\u001b[0m \u001b[0;34m=\u001b[0m \u001b[0mmap\u001b[0m\u001b[0;34m(\u001b[0m\u001b[0mself\u001b[0m\u001b[0;34m.\u001b[0m\u001b[0m_local_fit\u001b[0m\u001b[0;34m,\u001b[0m \u001b[0mrange\u001b[0m\u001b[0;34m(\u001b[0m\u001b[0mm\u001b[0m\u001b[0;34m)\u001b[0m\u001b[0;34m)\u001b[0m  \u001b[0;31m#sequential\u001b[0m\u001b[0;34m\u001b[0m\u001b[0;34m\u001b[0m\u001b[0m\n\u001b[1;32m    334\u001b[0m \u001b[0;34m\u001b[0m\u001b[0m\n\u001b[0;32m--> 335\u001b[0;31m             \u001b[0mrslt_list\u001b[0m \u001b[0;34m=\u001b[0m \u001b[0mlist\u001b[0m\u001b[0;34m(\u001b[0m\u001b[0mzip\u001b[0m\u001b[0;34m(\u001b[0m\u001b[0;34m*\u001b[0m\u001b[0mrslt\u001b[0m\u001b[0;34m)\u001b[0m\u001b[0;34m)\u001b[0m\u001b[0;34m\u001b[0m\u001b[0;34m\u001b[0m\u001b[0m\n\u001b[0m\u001b[1;32m    336\u001b[0m             \u001b[0minflu\u001b[0m \u001b[0;34m=\u001b[0m \u001b[0mnp\u001b[0m\u001b[0;34m.\u001b[0m\u001b[0marray\u001b[0m\u001b[0;34m(\u001b[0m\u001b[0mrslt_list\u001b[0m\u001b[0;34m[\u001b[0m\u001b[0;36m0\u001b[0m\u001b[0;34m]\u001b[0m\u001b[0;34m)\u001b[0m\u001b[0;34m.\u001b[0m\u001b[0mreshape\u001b[0m\u001b[0;34m(\u001b[0m\u001b[0;34m-\u001b[0m\u001b[0;36m1\u001b[0m\u001b[0;34m,\u001b[0m \u001b[0;36m1\u001b[0m\u001b[0;34m)\u001b[0m\u001b[0;34m\u001b[0m\u001b[0;34m\u001b[0m\u001b[0m\n\u001b[1;32m    337\u001b[0m             \u001b[0mresid\u001b[0m \u001b[0;34m=\u001b[0m \u001b[0mnp\u001b[0m\u001b[0;34m.\u001b[0m\u001b[0marray\u001b[0m\u001b[0;34m(\u001b[0m\u001b[0mrslt_list\u001b[0m\u001b[0;34m[\u001b[0m\u001b[0;36m1\u001b[0m\u001b[0;34m]\u001b[0m\u001b[0;34m)\u001b[0m\u001b[0;34m.\u001b[0m\u001b[0mreshape\u001b[0m\u001b[0;34m(\u001b[0m\u001b[0;34m-\u001b[0m\u001b[0;36m1\u001b[0m\u001b[0;34m,\u001b[0m \u001b[0;36m1\u001b[0m\u001b[0;34m)\u001b[0m\u001b[0;34m\u001b[0m\u001b[0;34m\u001b[0m\u001b[0m\n",
      "\u001b[0;32m/opt/conda/lib/python3.9/site-packages/mgwr/gwr.py\u001b[0m in \u001b[0;36m_local_fit\u001b[0;34m(self, i)\u001b[0m\n\u001b[1;32m    246\u001b[0m         \u001b[0mLocal\u001b[0m \u001b[0mfitting\u001b[0m \u001b[0mat\u001b[0m \u001b[0mlocation\u001b[0m \u001b[0mi\u001b[0m\u001b[0;34m.\u001b[0m\u001b[0;34m\u001b[0m\u001b[0;34m\u001b[0m\u001b[0m\n\u001b[1;32m    247\u001b[0m         \"\"\"\n\u001b[0;32m--> 248\u001b[0;31m         \u001b[0mwi\u001b[0m \u001b[0;34m=\u001b[0m \u001b[0mself\u001b[0m\u001b[0;34m.\u001b[0m\u001b[0m_build_wi\u001b[0m\u001b[0;34m(\u001b[0m\u001b[0mi\u001b[0m\u001b[0;34m,\u001b[0m \u001b[0mself\u001b[0m\u001b[0;34m.\u001b[0m\u001b[0mbw\u001b[0m\u001b[0;34m)\u001b[0m\u001b[0;34m.\u001b[0m\u001b[0mreshape\u001b[0m\u001b[0;34m(\u001b[0m\u001b[0;34m-\u001b[0m\u001b[0;36m1\u001b[0m\u001b[0;34m,\u001b[0m \u001b[0;36m1\u001b[0m\u001b[0;34m)\u001b[0m  \u001b[0;31m#local spatial weights\u001b[0m\u001b[0;34m\u001b[0m\u001b[0;34m\u001b[0m\u001b[0m\n\u001b[0m\u001b[1;32m    249\u001b[0m \u001b[0;34m\u001b[0m\u001b[0m\n\u001b[1;32m    250\u001b[0m         \u001b[0;32mif\u001b[0m \u001b[0misinstance\u001b[0m\u001b[0;34m(\u001b[0m\u001b[0mself\u001b[0m\u001b[0;34m.\u001b[0m\u001b[0mfamily\u001b[0m\u001b[0;34m,\u001b[0m \u001b[0mGaussian\u001b[0m\u001b[0;34m)\u001b[0m\u001b[0;34m:\u001b[0m\u001b[0;34m\u001b[0m\u001b[0;34m\u001b[0m\u001b[0m\n",
      "\u001b[0;32m/opt/conda/lib/python3.9/site-packages/mgwr/gwr.py\u001b[0m in \u001b[0;36m_build_wi\u001b[0;34m(self, i, bw)\u001b[0m\n\u001b[1;32m    234\u001b[0m \u001b[0;34m\u001b[0m\u001b[0m\n\u001b[1;32m    235\u001b[0m         \u001b[0;32mtry\u001b[0m\u001b[0;34m:\u001b[0m\u001b[0;34m\u001b[0m\u001b[0;34m\u001b[0m\u001b[0m\n\u001b[0;32m--> 236\u001b[0;31m             wi = Kernel(i, self.coords, bw, fixed=self.fixed,\n\u001b[0m\u001b[1;32m    237\u001b[0m                         \u001b[0mfunction\u001b[0m\u001b[0;34m=\u001b[0m\u001b[0mself\u001b[0m\u001b[0;34m.\u001b[0m\u001b[0mkernel\u001b[0m\u001b[0;34m,\u001b[0m \u001b[0mpoints\u001b[0m\u001b[0;34m=\u001b[0m\u001b[0mself\u001b[0m\u001b[0;34m.\u001b[0m\u001b[0mpoints\u001b[0m\u001b[0;34m,\u001b[0m\u001b[0;34m\u001b[0m\u001b[0;34m\u001b[0m\u001b[0m\n\u001b[1;32m    238\u001b[0m                         spherical=self.spherical).kernel\n",
      "\u001b[0;32m/opt/conda/lib/python3.9/site-packages/mgwr/kernels.py\u001b[0m in \u001b[0;36m__init__\u001b[0;34m(self, i, data, bw, fixed, function, eps, ids, points, spherical)\u001b[0m\n\u001b[1;32m     56\u001b[0m             self.bandwidth = np.partition(\n\u001b[1;32m     57\u001b[0m                 \u001b[0mself\u001b[0m\u001b[0;34m.\u001b[0m\u001b[0mdvec\u001b[0m\u001b[0;34m,\u001b[0m\u001b[0;34m\u001b[0m\u001b[0;34m\u001b[0m\u001b[0m\n\u001b[0;32m---> 58\u001b[0;31m                 int(bw) - 1)[int(bw) - 1] * eps  #partial sort in O(n) Time\n\u001b[0m\u001b[1;32m     59\u001b[0m \u001b[0;34m\u001b[0m\u001b[0m\n\u001b[1;32m     60\u001b[0m         \u001b[0mself\u001b[0m\u001b[0;34m.\u001b[0m\u001b[0mkernel\u001b[0m \u001b[0;34m=\u001b[0m \u001b[0mself\u001b[0m\u001b[0;34m.\u001b[0m\u001b[0m_kernel_funcs\u001b[0m\u001b[0;34m(\u001b[0m\u001b[0mself\u001b[0m\u001b[0;34m.\u001b[0m\u001b[0mdvec\u001b[0m \u001b[0;34m/\u001b[0m \u001b[0mself\u001b[0m\u001b[0;34m.\u001b[0m\u001b[0mbandwidth\u001b[0m\u001b[0;34m)\u001b[0m\u001b[0;34m\u001b[0m\u001b[0;34m\u001b[0m\u001b[0m\n",
      "\u001b[0;31mOverflowError\u001b[0m: cannot convert float infinity to integer"
     ]
    }
   ],
   "source": [
    "selector2 = Sel_BW(coords, y, X, multi=True, constant=True)\n",
    "bw2 = selector2.search(multi_bw_min=[np.inf, np.inf, np.inf, None])"
   ]
  }
 ],
 "metadata": {
  "kernelspec": {
   "display_name": "Python 3 (ipykernel)",
   "language": "python",
   "name": "python3"
  },
  "language_info": {
   "codemirror_mode": {
    "name": "ipython",
    "version": 3
   },
   "file_extension": ".py",
   "mimetype": "text/x-python",
   "name": "python",
   "nbconvert_exporter": "python",
   "pygments_lexer": "ipython3",
   "version": "3.9.7"
  }
 },
 "nbformat": 4,
 "nbformat_minor": 5
}
