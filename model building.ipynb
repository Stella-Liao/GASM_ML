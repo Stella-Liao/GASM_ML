{
 "cells": [
  {
   "cell_type": "code",
   "execution_count": 26,
   "id": "tamil-symphony",
   "metadata": {},
   "outputs": [],
   "source": [
    "import pandas as pd\n",
    "import geopandas as gp\n",
    "\n",
    "#!pip install spint\n",
    "import pysal\n",
    "import spint\n",
    "from spint import Gravity\n",
    "from spint import Production \n",
    "from spint import Attraction \n",
    "from spint import Doubly\n",
    "\n",
    "#!pip install pygam\n",
    "import pygam\n",
    "from pygam import PoissonGAM, s, te, l, f\n",
    "from pygam.core import Core, nice_repr\n",
    "from pygam.utils import isiterable, check_param, flatten, gen_edge_knots, b_spline_basis, tensor_product\n",
    "from pygam.penalties import PENALTIES, CONSTRAINTS\n",
    "from pygam import terms\n",
    "from pygam.terms import Term, LinearTerm\n",
    "\n",
    "import numpy as np\n",
    "from sklearn.linear_model import LinearRegression, PoissonRegressor\n",
    "\n",
    "#!pip install statsmodels\n",
    "import statsmodels.api as sm\n",
    "from statsmodels.regression.linear_model import OLS\n",
    "from statsmodels.tools import add_constant"
   ]
  },
  {
   "cell_type": "code",
   "execution_count": 3,
   "id": "prescription-layout",
   "metadata": {},
   "outputs": [
    {
     "data": {
      "text/html": [
       "<div>\n",
       "<style scoped>\n",
       "    .dataframe tbody tr th:only-of-type {\n",
       "        vertical-align: middle;\n",
       "    }\n",
       "\n",
       "    .dataframe tbody tr th {\n",
       "        vertical-align: top;\n",
       "    }\n",
       "\n",
       "    .dataframe thead th {\n",
       "        text-align: right;\n",
       "    }\n",
       "</style>\n",
       "<table border=\"1\" class=\"dataframe\">\n",
       "  <thead>\n",
       "    <tr style=\"text-align: right;\">\n",
       "      <th></th>\n",
       "      <th>Unnamed: 0</th>\n",
       "      <th>Origin</th>\n",
       "      <th>Destination</th>\n",
       "      <th>Data</th>\n",
       "      <th>Oi</th>\n",
       "      <th>Dj</th>\n",
       "      <th>Dij</th>\n",
       "    </tr>\n",
       "  </thead>\n",
       "  <tbody>\n",
       "    <tr>\n",
       "      <th>0</th>\n",
       "      <td>0</td>\n",
       "      <td>AT11</td>\n",
       "      <td>AT11</td>\n",
       "      <td>0</td>\n",
       "      <td>4016</td>\n",
       "      <td>5146</td>\n",
       "      <td>1.000000e-300</td>\n",
       "    </tr>\n",
       "    <tr>\n",
       "      <th>1</th>\n",
       "      <td>1</td>\n",
       "      <td>AT11</td>\n",
       "      <td>AT12</td>\n",
       "      <td>1131</td>\n",
       "      <td>4016</td>\n",
       "      <td>25741</td>\n",
       "      <td>1.030018e+02</td>\n",
       "    </tr>\n",
       "    <tr>\n",
       "      <th>2</th>\n",
       "      <td>2</td>\n",
       "      <td>AT11</td>\n",
       "      <td>AT13</td>\n",
       "      <td>1887</td>\n",
       "      <td>4016</td>\n",
       "      <td>26980</td>\n",
       "      <td>8.420467e+01</td>\n",
       "    </tr>\n",
       "    <tr>\n",
       "      <th>3</th>\n",
       "      <td>3</td>\n",
       "      <td>AT11</td>\n",
       "      <td>AT21</td>\n",
       "      <td>69</td>\n",
       "      <td>4016</td>\n",
       "      <td>4117</td>\n",
       "      <td>2.208119e+02</td>\n",
       "    </tr>\n",
       "    <tr>\n",
       "      <th>4</th>\n",
       "      <td>4</td>\n",
       "      <td>AT11</td>\n",
       "      <td>AT22</td>\n",
       "      <td>738</td>\n",
       "      <td>4016</td>\n",
       "      <td>8634</td>\n",
       "      <td>1.320075e+02</td>\n",
       "    </tr>\n",
       "  </tbody>\n",
       "</table>\n",
       "</div>"
      ],
      "text/plain": [
       "   Unnamed: 0 Origin Destination  Data    Oi     Dj            Dij\n",
       "0           0   AT11        AT11     0  4016   5146  1.000000e-300\n",
       "1           1   AT11        AT12  1131  4016  25741   1.030018e+02\n",
       "2           2   AT11        AT13  1887  4016  26980   8.420467e+01\n",
       "3           3   AT11        AT21    69  4016   4117   2.208119e+02\n",
       "4           4   AT11        AT22   738  4016   8634   1.320075e+02"
      ]
     },
     "execution_count": 3,
     "metadata": {},
     "output_type": "execute_result"
    },
    {
     "data": {
      "image/png": "[encoded data removed]",
      "text/plain": [
       "<Figure size 432x288 with 1 Axes>"
      ]
     },
     "metadata": {
      "needs_background": "light"
     },
     "output_type": "display_data"
    }
   ],
   "source": [
    "austria_shp = gp.read_file('Data/austria.shp')\n",
    "austria_shp.plot()\n",
    "austria = pd.read_csv('Data/austria.csv')\n",
    "austria.head()#81"
   ]
  },
  {
   "cell_type": "code",
   "execution_count": 4,
   "id": "empirical-chocolate",
   "metadata": {},
   "outputs": [],
   "source": [
    "# format the data into arrays.\n",
    "austria = austria[austria['Origin'] != austria['Destination']] #intra-zonal ﬂows have been excluded\n",
    "flows = austria['Data'].values #the number of ﬂows between i and j\n",
    "Oi = austria['Oi'].values \n",
    "Dj = austria['Dj'].values \n",
    "Dij = austria['Dij'].values \n",
    "Origin = austria['Origin'].values \n",
    "Destination = austria['Destination'].values\n",
    "\n",
    "ln_Oi = np.log(austria['Oi'].values) #emissiveness of origin\n",
    "ln_Wj = np.log(austria['Dj'].values) #attraction of destination\n",
    "ln_Dij = np.log( austria['Dij'].values) #distance"
   ]
  },
  {
   "cell_type": "code",
   "execution_count": 5,
   "id": "pleasant-hopkins",
   "metadata": {},
   "outputs": [],
   "source": [
    "#unconstrained gravity model\n",
    "gravity = Gravity(flows, Oi, Dj, Dij, 'pow') "
   ]
  },
  {
   "cell_type": "code",
   "execution_count": 6,
   "id": "executive-skill",
   "metadata": {},
   "outputs": [
    {
     "data": {
      "text/plain": [
       "array([-0.85755469,  0.70317833,  0.7376105 , -1.05939577])"
      ]
     },
     "execution_count": 6,
     "metadata": {},
     "output_type": "execute_result"
    }
   ],
   "source": [
    "gravity.params"
   ]
  },
  {
   "cell_type": "markdown",
   "id": "friendly-broadcasting",
   "metadata": {
    "tags": []
   },
   "source": [
    "Backfitting GAM and PoissonGAM with Golden Selection Search in CD Model"
   ]
  },
  {
   "cell_type": "code",
   "execution_count": 11,
   "id": "metric-croatia",
   "metadata": {
    "tags": []
   },
   "outputs": [],
   "source": [
    "# calculate the Aij and AIC values given a sigma value\n",
    "def aic_func(sigma):\n",
    "    \n",
    "    #calculate the Aij\n",
    "    Aj = sum(Dj* (Dij**sigma))\n",
    "    Aij = Aj - Dj* (Dij**sigma)\n",
    "    ln_Aij = np.log(Aij)\n",
    "    X = sm.add_constant(np.column_stack((ln_Oi, ln_Wj, ln_Dij, ln_Aij)))# so that the glm will estimate a constant\n",
    "    \n",
    "    #fit the model\n",
    "    mod = OLS(flows, X).fit()#sm.GLM(flows, X, family=sm.families.Poisson(),).fit()\n",
    "     \n",
    "    #result dictonary\n",
    "    result_dict = dict()\n",
    "    result_dict['beta'] = mod.params[2]\n",
    "    result_dict['delta'] = mod.params[3]\n",
    "    result_dict['aic'] = mod.aic\n",
    "    result_dict['partial_ress_beta'] = sum(flows - np.mean(flows)- mod.params[0] - mod.params[1]*ln_Oi-mod.params[2]*ln_Wj-mod.params[4]*ln_Aij)\n",
    "    result_dict['partial_ress_delta'] = sum(flows - np.mean(flows) - mod.params[0]- mod.params[1]*ln_Oi-mod.params[2]*ln_Wj-mod.params[3]*ln_Dij) \n",
    "    #result_dict['mod'] = mod\n",
    "\n",
    "    return result_dict "
   ]
  },
  {
   "cell_type": "code",
   "execution_count": 13,
   "id": "alleged-judges",
   "metadata": {
    "tags": []
   },
   "outputs": [],
   "source": [
    "# use golden search method with AIC and partial residuals as the criterion\n",
    "# refer to the codes from search.py to implement golden search\n",
    "\n",
    "# initilize the sigma values given the min and max value of sigma\n",
    "sigma_a = -10 # the initilized MIN value of sigma\n",
    "sigma_c = 5 # the initilized MAX value of sigma\n",
    "step = 1 - 0.618 # following the book so far\n",
    "sigma_b = sigma_a + step * np.abs(sigma_c - sigma_a)\n",
    "sigma_d = sigma_c - step * np.abs(sigma_c - sigma_a)\n",
    "    \n",
    "#other initilization\n",
    "tol = 1e-8 # a thereshold to decide whether f(d) = aic_func(d) stops changing\n",
    "diff = np.inf # store the diff between different f(d)\n",
    "opt_aic = np.inf # store the AIC value based on the optimal sigma value\n",
    "aic_sigma_dict = dict() # store the sigma value and the aic value correpsondingly\n",
    "\n",
    "#temporarily not consider the situation where we can't converge eventually\n",
    "#max_iter = 100 \n",
    "#iters = 0 \n",
    "\n",
    "ptrs_beta0 = 0\n",
    "ptrs_delta0 = 0\n",
    "ptrs_beta_list = []\n",
    "ptrs_delta_list = []\n",
    "ptrs_beta_list.append(ptrs_beta0) # store all partial resdiduals\n",
    "ptrs_delta_list.append(ptrs_delta0)\n",
    "\n",
    "while (diff > tol or diff_b > tol or diff_d > tol) :# and (iters <= max_iter)\n",
    "\n",
    "    aic_b = aic_func(sigma_b)['aic']\n",
    "    aic_d = aic_func(sigma_d)['aic']\n",
    "            \n",
    "    if aic_b <= aic_d: #discard the old c, b<d<c\n",
    "        opt_sigma = sigma_b\n",
    "        sigma_c = sigma_d\n",
    "        sigma_d = sigma_b\n",
    "        sigma_b = sigma_a + step * np.abs(sigma_c - sigma_a)\n",
    "            \n",
    "\n",
    "    else: # discard the old a, a<b<d\n",
    "        opt_sigma = sigma_d\n",
    "        sigma_a = sigma_b\n",
    "        sigma_b = sigma_d\n",
    "        sigma_d = sigma_c - step * np.abs(sigma_c - sigma_a)\n",
    "                   \n",
    "    opt_sigma = np.round(opt_sigma, 3) \n",
    "        \n",
    "    # the aic_b stores the last aic_d so the diff is the difference between the two successive values of f(d)\n",
    "    diff = np.abs(aic_b - aic_d)\n",
    "    \n",
    "    ptrs_beta_list.append(aic_func(opt_sigma)['partial_ress_beta'])\n",
    "    ptrs_delta_list.append(aic_func(opt_sigma)['partial_ress_delta'])\n",
    "    \n",
    "    diff_b = np.abs(ptrs_beta_list[-1] - ptrs_beta_list[-2])\n",
    "    diff_d = np.abs(ptrs_delta_list[-1] - ptrs_delta_list[-2])\n",
    "    #iters += 1"
   ]
  },
  {
   "cell_type": "code",
   "execution_count": 14,
   "id": "lovely-workstation",
   "metadata": {
    "tags": []
   },
   "outputs": [
    {
     "data": {
      "text/plain": [
       "-4.421"
      ]
     },
     "execution_count": 14,
     "metadata": {},
     "output_type": "execute_result"
    }
   ],
   "source": [
    "opt_sigma"
   ]
  },
  {
   "cell_type": "code",
   "execution_count": 16,
   "id": "eleven-thong",
   "metadata": {
    "tags": []
   },
   "outputs": [
    {
     "data": {
      "text/html": [
       "<table class=\"simpletable\">\n",
       "<caption>Generalized Linear Model Regression Results</caption>\n",
       "<tr>\n",
       "  <th>Dep. Variable:</th>           <td>y</td>        <th>  No. Observations:  </th>  <td>    72</td> \n",
       "</tr>\n",
       "<tr>\n",
       "  <th>Model:</th>                  <td>GLM</td>       <th>  Df Residuals:      </th>  <td>    67</td> \n",
       "</tr>\n",
       "<tr>\n",
       "  <th>Model Family:</th>         <td>Poisson</td>     <th>  Df Model:          </th>  <td>     4</td> \n",
       "</tr>\n",
       "<tr>\n",
       "  <th>Link Function:</th>          <td>log</td>       <th>  Scale:             </th> <td>  1.0000</td>\n",
       "</tr>\n",
       "<tr>\n",
       "  <th>Method:</th>                <td>IRLS</td>       <th>  Log-Likelihood:    </th> <td> -6400.5</td>\n",
       "</tr>\n",
       "<tr>\n",
       "  <th>Date:</th>            <td>Mon, 29 Nov 2021</td> <th>  Deviance:          </th> <td>  12220.</td>\n",
       "</tr>\n",
       "<tr>\n",
       "  <th>Time:</th>                <td>19:48:26</td>     <th>  Pearson chi2:      </th> <td>1.18e+04</td>\n",
       "</tr>\n",
       "<tr>\n",
       "  <th>No. Iterations:</th>          <td>6</td>        <th>                     </th>     <td> </td>   \n",
       "</tr>\n",
       "<tr>\n",
       "  <th>Covariance Type:</th>     <td>nonrobust</td>    <th>                     </th>     <td> </td>   \n",
       "</tr>\n",
       "</table>\n",
       "<table class=\"simpletable\">\n",
       "<tr>\n",
       "    <td></td>       <th>coef</th>     <th>std err</th>      <th>z</th>      <th>P>|z|</th>  <th>[0.025</th>    <th>0.975]</th>  \n",
       "</tr>\n",
       "<tr>\n",
       "  <th>const</th> <td>   -4.2856</td> <td>    0.185</td> <td>  -23.158</td> <td> 0.000</td> <td>   -4.648</td> <td>   -3.923</td>\n",
       "</tr>\n",
       "<tr>\n",
       "  <th>x1</th>    <td>    0.6455</td> <td>    0.006</td> <td>  106.625</td> <td> 0.000</td> <td>    0.634</td> <td>    0.657</td>\n",
       "</tr>\n",
       "<tr>\n",
       "  <th>x2</th>    <td>    0.6765</td> <td>    0.006</td> <td>  116.577</td> <td> 0.000</td> <td>    0.665</td> <td>    0.688</td>\n",
       "</tr>\n",
       "<tr>\n",
       "  <th>x3</th>    <td>   -0.9052</td> <td>    0.010</td> <td>  -92.476</td> <td> 0.000</td> <td>   -0.924</td> <td>   -0.886</td>\n",
       "</tr>\n",
       "<tr>\n",
       "  <th>x4</th>    <td>   -0.6286</td> <td>    0.028</td> <td>  -22.377</td> <td> 0.000</td> <td>   -0.684</td> <td>   -0.574</td>\n",
       "</tr>\n",
       "</table>"
      ],
      "text/plain": [
       "<class 'statsmodels.iolib.summary.Summary'>\n",
       "\"\"\"\n",
       "                 Generalized Linear Model Regression Results                  \n",
       "==============================================================================\n",
       "Dep. Variable:                      y   No. Observations:                   72\n",
       "Model:                            GLM   Df Residuals:                       67\n",
       "Model Family:                 Poisson   Df Model:                            4\n",
       "Link Function:                    log   Scale:                          1.0000\n",
       "Method:                          IRLS   Log-Likelihood:                -6400.5\n",
       "Date:                Mon, 29 Nov 2021   Deviance:                       12220.\n",
       "Time:                        19:48:26   Pearson chi2:                 1.18e+04\n",
       "No. Iterations:                     6                                         \n",
       "Covariance Type:            nonrobust                                         \n",
       "==============================================================================\n",
       "                 coef    std err          z      P>|z|      [0.025      0.975]\n",
       "------------------------------------------------------------------------------\n",
       "const         -4.2856      0.185    -23.158      0.000      -4.648      -3.923\n",
       "x1             0.6455      0.006    106.625      0.000       0.634       0.657\n",
       "x2             0.6765      0.006    116.577      0.000       0.665       0.688\n",
       "x3            -0.9052      0.010    -92.476      0.000      -0.924      -0.886\n",
       "x4            -0.6286      0.028    -22.377      0.000      -0.684      -0.574\n",
       "==============================================================================\n",
       "\"\"\""
      ]
     },
     "execution_count": 16,
     "metadata": {},
     "output_type": "execute_result"
    }
   ],
   "source": [
    "Aj = sum(Dj* (Dij**opt_sigma))\n",
    "Aij = Aj - Dj* (Dij**opt_sigma)\n",
    "ln_Aij = np.log(Aij)\n",
    "X = sm.add_constant(np.column_stack((ln_Oi, ln_Wj, ln_Dij, ln_Aij)))\n",
    "sm.GLM(flows, X, family=sm.families.Poisson(),).fit().summary()"
   ]
  },
  {
   "cell_type": "markdown",
   "id": "prescription-macro",
   "metadata": {},
   "source": [
    "------------------------------------------------------------------------------------------------------------------------"
   ]
  },
  {
   "cell_type": "markdown",
   "id": "running-michael",
   "metadata": {},
   "source": [
    "create the method `sa()` to get the Aij array"
   ]
  },
  {
   "cell_type": "code",
   "execution_count": 23,
   "id": "changing-supplement",
   "metadata": {
    "tags": []
   },
   "outputs": [],
   "source": [
    "#spatial accessibility\n",
    "def sa(m, d, sigma_min = -10, sigma_max = 0, step = 0.382, tol = 1e-8):\n",
    "    \n",
    "    def aic_func(sigma):\n",
    "        #calculate different aic value with different sigma values\n",
    "        \n",
    "        #calculate the Aij\n",
    "        Aj = sum(m* (d**sigma))\n",
    "        Aij = Aj - m* (d**sigma)\n",
    "        ln_Aij = np.log(Aij)\n",
    "    \n",
    "        X = np.column_stack((ln_Oi, ln_Wj, ln_Dij, ln_Aij))\n",
    "        mod = OLS(flows, add_constant(X)).fit()\n",
    "        # use ordinary least square\n",
    "        # mod = sm.GLM(flows, X, family=sm.families.Poisson(),).fit()\n",
    "        \n",
    "        return mod.aic\n",
    "    \n",
    "    def find_opt_sigma(sigma_a = sigma_min, sigma_c = sigma_max, step = step, tol = tol):\n",
    "        sigma_b = sigma_min + step * np.abs(sigma_max - sigma_min)\n",
    "        sigma_d = sigma_max - step * np.abs(sigma_max - sigma_min)\n",
    "        \n",
    "        diff = np.inf\n",
    "        opt_sigma = np.inf\n",
    "    \n",
    "        while (diff > tol) :# and (iters <= max_iter)\n",
    "            \n",
    "            aic_b = aic_func(sigma_b)\n",
    "            aic_d = aic_func(sigma_d)\n",
    "            \n",
    "            if aic_b <= aic_d: #discard the old c, b<d<c\n",
    "                opt_sigma = sigma_b\n",
    "                sigma_c = sigma_d\n",
    "                sigma_d = sigma_b\n",
    "                sigma_b = sigma_a + step * np.abs(sigma_c - sigma_a)\n",
    "            \n",
    "            else: # discard the old a, a<b<d\n",
    "                opt_sigma = sigma_d\n",
    "                sigma_a = sigma_b\n",
    "                sigma_b = sigma_d\n",
    "                sigma_d = sigma_c - step * np.abs(sigma_c - sigma_a)\n",
    "            \n",
    "            diff = np.abs(aic_b - aic_d)      \n",
    "            opt_sigma = np.round(opt_sigma, 3) \n",
    "\n",
    "        return opt_sigma\n",
    "    \n",
    "    opt_sigma = find_opt_sigma()\n",
    "    Aj = sum(m * (d ** opt_sigma))\n",
    "    Aij = Aj - m * (d ** opt_sigma)\n",
    "    ln_Aij = np.log(Aij)\n",
    "    \n",
    "    return ln_Aij"
   ]
  },
  {
   "cell_type": "code",
   "execution_count": 24,
   "id": "jewish-updating",
   "metadata": {
    "tags": []
   },
   "outputs": [
    {
     "data": {
      "text/plain": [
       "array([ 0.64549418,  0.67648627, -0.90520242, -0.62843556, -4.28490387])"
      ]
     },
     "execution_count": 24,
     "metadata": {},
     "output_type": "execute_result"
    }
   ],
   "source": [
    "X_ = np.column_stack((np.log(Oi), np.log(Dj), np.log(Dij), sa(Dj, Dij)))\n",
    "\n",
    "mod_gam = PoissonGAM( l(0) + l(1) + l(2) + l(3),  fit_intercept = True).fit(X_, flows)\n",
    "mod_gam.coef_"
   ]
  },
  {
   "cell_type": "markdown",
   "id": "danish-manitoba",
   "metadata": {},
   "source": [
    "-----------------------------------------------------------------------------------------------------------------------"
   ]
  },
  {
   "cell_type": "markdown",
   "id": "trying-chambers",
   "metadata": {
    "tags": []
   },
   "source": [
    "Extend Terms Class in pygam package"
   ]
  },
  {
   "cell_type": "code",
   "execution_count": 27,
   "id": "corporate-salmon",
   "metadata": {
    "tags": []
   },
   "outputs": [],
   "source": [
    "#step 1: convert ln_dkj and ln_mk as dkj and mk\n",
    "#step 2: find optimal sigma with golden selection\n",
    "#step 3: calculate and return Aij column\n",
    "\n",
    "class SpatialSmoother(LinearTerm): \n",
    "    def __init__(self, feature_m, feature_d, lam=0.6, penalties='auto', verbose=False,\n",
    "                 sigma_min = -10, sigma_max = 0, step = 0.382, tol = 1e-8):\n",
    "        \n",
    "        self._name = 'spatial_smoother'\n",
    "        self._minimal_name = 'ss'\n",
    "        opt_sigma = np.inf\n",
    "        \n",
    "        super(SpatialSmoother, self).__init__(\n",
    "            feature = feature_m, lam = lam, penalties = penalties,verbose = verbose)\n",
    "        self._exclude += ['fit_splines', 'fit_linear', 'dtype', 'constraints']\n",
    "        \n",
    "    @property\n",
    "    def n_coefs(self):\n",
    "        \"\"\"Number of coefficients contributed by the term to the model\n",
    "        \"\"\"\n",
    "        return 1\n",
    "    \n",
    "    def optimal_sigma(): \n",
    "        \n",
    "        return opt_sigma\n",
    "    \n",
    "    def compile(self, X, verbose=False):\n",
    "        if self.feature >= X.shape[1]:\n",
    "            raise ValueError('term requires feature {}, '\\\n",
    "                             'but X has only {} dimensions'\\\n",
    "                             .format(self.feature, X.shape[1]))\n",
    "\n",
    "        self.edge_knots_ = gen_edge_knots(X[:, self.feature],\n",
    "                                          self.dtype,\n",
    "                                          verbose=verbose)\n",
    "        return self\n",
    "    \n",
    "    def build_columns(self, X, y, verbose=False):\n",
    "        \n",
    "        def aic_func(sigma, m = exp(X[:,self.feature_m]), d = exp(X[:,self.feature_d]) , X = X, y = y):\n",
    "            #calculate the Aij\n",
    "            Aj = sum(m* (d**sigma))\n",
    "            Aij = Aj - m* (d**sigma)\n",
    "            ln_Aij = np.row_stack(log(Aij))\n",
    "        \n",
    "            X_new = np.append(X, ln_Aij, 1)\n",
    "            mod = OLS(flows, add_constant(X_new)).fit()\n",
    "            #mod = sm.GLM(flows, X, family=sm.families.Poisson(),).fit()\n",
    "        \n",
    "            return mod.aic\n",
    "    \n",
    "        def find_opt_sigma(sigma_a = self.sigma_min, sigma_c = self.sigma_max, step = self.step, tol = self.tol):\n",
    "            sigma_b = sigma_min + step * np.abs(sigma_max - sigma_min)\n",
    "            sigma_d = sigma_max - step * np.abs(sigma_max - sigma_min)\n",
    "        \n",
    "            diff = np.inf\n",
    "            #opt_sigma = np.inf            \n",
    "            while (diff > tol) :# and (iters <= max_iter)\n",
    "                aic_b = aic_func(sigma_b)\n",
    "                aic_d = aic_func(sigma_d)\n",
    "                   \n",
    "                if aic_b <= aic_d: #discard the old c, b<d<c\n",
    "                    opt_sigma = sigma_b\n",
    "                    sigma_c = sigma_d\n",
    "                    sigma_d = sigma_b\n",
    "                    sigma_b = sigma_a + step * np.abs(sigma_c - sigma_a)\n",
    "            \n",
    "                else: # discard the old a, a<b<d                    \n",
    "                    opt_sigma = sigma_d\n",
    "                    sigma_a = sigma_b\n",
    "                    sigma_b = sigma_d\n",
    "                    sigma_d = sigma_c - step * np.abs(sigma_c - sigma_a)\n",
    "            \n",
    "                diff = np.abs(aic_b - aic_d)      \n",
    "                opt_sigma = np.round(opt_sigma, 3) \n",
    "\n",
    "            return opt_sigma\n",
    "\n",
    "        Aj = sum(exp(X[:,self.feature_m]) * (exp(X[:,self.feature_d]) ** find_opt_sigma()))\n",
    "        Aij = Aj - exp(X[:,self.feature_m]) * (exp(X[:,self.feature_d]) ** find_opt_sigma())\n",
    "        ln_Aij = log(Aij)\n",
    "\n",
    "        return  np.rowstack(ln_Aij)\n",
    "\n",
    "    #def ss(feature_m, feature_k):\n",
    "    #return SpatialSmoother(feature_m, feature_k)"
   ]
  },
  {
   "cell_type": "code",
   "execution_count": 28,
   "id": "ready-diabetes",
   "metadata": {
    "tags": []
   },
   "outputs": [
    {
     "data": {
      "text/plain": [
       "array([ 0.70317694,  0.73760879, -1.05938152, -0.85759029])"
      ]
     },
     "execution_count": 28,
     "metadata": {},
     "output_type": "execute_result"
    }
   ],
   "source": [
    "X = np.column_stack((ln_Oi, ln_Wj, ln_Dij))\n",
    "mod_gam = PoissonGAM(l(0) + l(1) + l(2) + SpatialSmoother(1, 2),  fit_intercept = True).fit(X, flows)\n",
    "mod_gam.coef_"
   ]
  }
 ],
 "metadata": {
  "kernelspec": {
   "display_name": "Python 3",
   "language": "python",
   "name": "python3"
  },
  "language_info": {
   "codemirror_mode": {
    "name": "ipython",
    "version": 3
   },
   "file_extension": ".py",
   "mimetype": "text/x-python",
   "name": "python",
   "nbconvert_exporter": "python",
   "pygments_lexer": "ipython3",
   "version": "3.8.8"
  }
 },
 "nbformat": 4,
 "nbformat_minor": 5
}
