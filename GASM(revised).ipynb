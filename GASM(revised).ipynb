{
 "cells": [
  {
   "cell_type": "markdown",
   "id": "individual-tourism",
   "metadata": {},
   "source": [
    "# Data Input"
   ]
  },
  {
   "cell_type": "code",
   "execution_count": 3,
   "id": "robust-enough",
   "metadata": {},
   "outputs": [],
   "source": [
    "import numpy as np\n",
    "from copy import deepcopy\n",
    "from spglm.iwls import iwls, _compute_betas_gwr\n",
    "from spglm.family import *\n",
    "from mgwr.search import golden_section\n",
    "import pandas as pd\n",
    "import statsmodels.api as sm\n",
    "import geopandas as gp\n",
    "import matplotlib.pyplot as plt\n",
    "import libpysal.weights as sw\n",
    "import time\n",
    "\n",
    "import time\n",
    "import urllib\n",
    "import copy\n",
    "from copy import deepcopy\n",
    "\n",
    "from spint.gravity import Gravity, Production, Attraction, Doubly "
   ]
  },
  {
   "cell_type": "code",
   "execution_count": 4,
   "id": "sealed-chicago",
   "metadata": {},
   "outputs": [],
   "source": [
    "austria = pd.read_csv('Data/austria.csv')\n",
    "austria_shp = gp.read_file('Data/austria.shp')\n",
    "austria = austria[austria['Origin'] != austria['Destination']]"
   ]
  },
  {
   "cell_type": "code",
   "execution_count": 5,
   "id": "tough-fifty",
   "metadata": {},
   "outputs": [],
   "source": [
    "aust_plcdf = austria[['Destination','Dj']]\n",
    "aust_plcdf = aust_plcdf.drop_duplicates(subset = ['Destination'])"
   ]
  },
  {
   "cell_type": "code",
   "execution_count": 6,
   "id": "impaired-jordan",
   "metadata": {},
   "outputs": [
    {
     "data": {
      "text/html": [
       "<div>\n",
       "<style scoped>\n",
       "    .dataframe tbody tr th:only-of-type {\n",
       "        vertical-align: middle;\n",
       "    }\n",
       "\n",
       "    .dataframe tbody tr th {\n",
       "        vertical-align: top;\n",
       "    }\n",
       "\n",
       "    .dataframe thead th {\n",
       "        text-align: right;\n",
       "    }\n",
       "</style>\n",
       "<table border=\"1\" class=\"dataframe\">\n",
       "  <thead>\n",
       "    <tr style=\"text-align: right;\">\n",
       "      <th></th>\n",
       "      <th>Unnamed: 0</th>\n",
       "      <th>Origin</th>\n",
       "      <th>Destination</th>\n",
       "      <th>Data</th>\n",
       "      <th>Oi</th>\n",
       "      <th>Dj</th>\n",
       "      <th>Dij</th>\n",
       "    </tr>\n",
       "  </thead>\n",
       "  <tbody>\n",
       "    <tr>\n",
       "      <th>1</th>\n",
       "      <td>1</td>\n",
       "      <td>AT11</td>\n",
       "      <td>AT12</td>\n",
       "      <td>1131</td>\n",
       "      <td>4016</td>\n",
       "      <td>25741</td>\n",
       "      <td>103.001845</td>\n",
       "    </tr>\n",
       "  </tbody>\n",
       "</table>\n",
       "</div>"
      ],
      "text/plain": [
       "   Unnamed: 0 Origin Destination  Data    Oi     Dj         Dij\n",
       "1           1   AT11        AT12  1131  4016  25741  103.001845"
      ]
     },
     "execution_count": 6,
     "metadata": {},
     "output_type": "execute_result"
    }
   ],
   "source": [
    "austria.head(1)"
   ]
  },
  {
   "cell_type": "markdown",
   "id": "editorial-meeting",
   "metadata": {},
   "source": [
    "# Terms Class"
   ]
  },
  {
   "cell_type": "markdown",
   "id": "palestinian-mandate",
   "metadata": {},
   "source": [
    "## Linear"
   ]
  },
  {
   "cell_type": "code",
   "execution_count": 7,
   "id": "eligible-publication",
   "metadata": {
    "tags": []
   },
   "outputs": [],
   "source": [
    "class LinearTerm():\n",
    "    \n",
    "    def __init__(self, df, *idx):\n",
    "        \n",
    "        self._df = df\n",
    "        #self._df = self._df.assign(intercept = 1)\n",
    "        self._idx = list(idx) \n",
    "        #self._idx.insert(0, -1)\n",
    "        self._x = self._df.iloc[:, self._idx].apply(pd.to_numeric).values\n",
    "\n",
    "        # int(self._df.shape[1]-1) self._x = np.column_stack((ones, self._x))\n",
    "                  \n",
    "    @property\n",
    "    def X(self):\n",
    "        return self._x\n",
    "    \n",
    "    def __str__(self):\n",
    "        return '<%s, %s:%s>' % (self.__class__.__name__)\n",
    "\n",
    "        "
   ]
  },
  {
   "cell_type": "markdown",
   "id": "higher-charleston",
   "metadata": {},
   "source": [
    "## Spatial Access"
   ]
  },
  {
   "cell_type": "code",
   "execution_count": 8,
   "id": "undefined-nicaragua",
   "metadata": {
    "tags": []
   },
   "outputs": [],
   "source": [
    "class SpatialAccessTerm():\n",
    "    \n",
    "    def __init__(self, df, geomap, plcdf, *idx_codes, idx_mpn = 0, idx_plcn = 0, idx_plca = 1):\n",
    "    \n",
    "        tdf = df.iloc[:, list(idx_codes)]\n",
    "        tdf = tdf.assign(Origin = tdf.iloc[:,0],\n",
    "                         Destination = tdf.iloc[:,1])\n",
    "        mp = geomap.set_index(geomap.iloc[:, idx_mpn])\n",
    "    \n",
    "        #calculate distances\n",
    "        distmat = sw.distance.DistanceBand.from_dataframe(mp, threshold=99999, binary=False, alpha=1)\n",
    "        distmat = distmat.full()[0]\n",
    "        distmat = distmat[distmat != 0].reshape((plcdf.shape[0], plcdf.shape[0]-1))\n",
    "        \n",
    "        def get_mk(plcn):\n",
    "            tmpdf = plcdf[plcdf.iloc[:,idx_plcn] != plcn]\n",
    "            mk = tmpdf.iloc[:,idx_plca].values.reshape((1,-1))\n",
    "            return mk\n",
    "    \n",
    "        tplcdf = plcdf.set_index(plcdf.iloc[:,idx_plcn].reindex(geomap.iloc[:, idx_mpn]))#sort_index()\n",
    "        #print(plcdf)#sort_index())\n",
    "        \n",
    "        tplcdf = tplcdf.assign(rownum = np.arange(tplcdf.shape[0]))\n",
    "        tplcdf = tplcdf.assign(dkj = tplcdf.iloc[:,-1].apply(lambda x: distmat[x]),\n",
    "                               mk = tplcdf.iloc[:,0].apply(lambda x: get_mk(x)))\n",
    "\n",
    "        findf = tplcdf[[tplcdf.columns[idx_plcn],'mk', 'dkj']].set_index(tplcdf.iloc[:,idx_plcn])\n",
    "        access_df = tdf.join(findf, how = 'left', on = 'Destination', rsuffix = '_r') \n",
    "        self._mk = access_df.mk\n",
    "        self._dkj = access_df.dkj\n",
    "        self._df = access_df\n",
    "    \n",
    "    def cal(self, sigma, logged = False):\n",
    "        \n",
    "        def cal_Access(a, b, sigma):\n",
    "            aij = np.dot(a, np.power(b, sigma))\n",
    "            return aij\n",
    "        \n",
    "        Aijs = np.vectorize(cal_Access)(self._mk, self._dkj, sigma)\n",
    "        Aijs = pd.to_numeric(Aijs).reshape((-1,1))\n",
    "        \n",
    "        if logged == True:\n",
    "            Aijs = np.log(Aijs)\n",
    "        \n",
    "        return Aijs\n",
    "         \n",
    "    @property\n",
    "    def mk(self):\n",
    "        return self._mk\n",
    "    \n",
    "    @property\n",
    "    def dkj(self):\n",
    "        return self._dkj\n",
    "    \n",
    "    @property\n",
    "    def df(self):\n",
    "        return self._df\n",
    "    \n",
    "    def __str__(self):\n",
    "        return '<%s, %s:%s>' % (self.__class__.__name__)\n",
    "    "
   ]
  },
  {
   "cell_type": "markdown",
   "id": "numerical-philadelphia",
   "metadata": {},
   "source": [
    "# GASM Class"
   ]
  },
  {
   "cell_type": "code",
   "execution_count": 9,
   "id": "drawn-rouge",
   "metadata": {
    "tags": []
   },
   "outputs": [],
   "source": [
    "class GASM():\n",
    "    lin = False\n",
    "    sa = False\n",
    "\n",
    "    def __init__(self, *terms):\n",
    "        for term in terms:\n",
    "            if isinstance(term, LinearTerm):\n",
    "                self._lt = term.X\n",
    "                self.lin = True\n",
    "            if isinstance(term, SpatialAccessTerm):\n",
    "                self._sat = term\n",
    "                self.sa = True\n",
    "    \n",
    "    def calibrate(self, value, intercept = True):\n",
    "        \n",
    "        def backfit(y, X, w, verbose = False):\n",
    "            n,k = X.shape\n",
    "\n",
    "            betas = _compute_betas_gwr(y, X, w.reshape((-1, 1)))[0]\n",
    "            #betas = sm.OLS(y, (np.log(w * X))).fit().params.reshape((-1,1))\n",
    "            XB = np.multiply(betas.T, X)\n",
    "            yhat = np.dot(X, betas)\n",
    "            err = y.reshape((-1, 1)) - yhat\n",
    "            iters = 0\n",
    "            scores = []\n",
    "            delta = 1e6\n",
    "            tol = 1e-8\n",
    "            max_iter = 50\n",
    "\n",
    "            for iters in range(1, max_iter + 1):\n",
    "                new_XB = np.zeros_like(X)\n",
    "                params = np.zeros_like(betas)\n",
    "                for j in range(k):\n",
    "                    temp_y = XB[:, j].reshape((-1, 1))\n",
    "                    temp_y = temp_y + err.reshape((-1, 1))\n",
    "                    temp_X = X[:, j].reshape((-1, 1))  \n",
    "                    #beta = sm.OLS(temp_y, (np.log(w * temp_X))).fit().params[0]\n",
    "                    beta = _compute_betas_gwr(temp_y, temp_X, w.reshape((-1, 1)))[0]\n",
    "                    yhat = np.dot(temp_X, beta)\n",
    "                    new_XB[:, j] = yhat.flatten()\n",
    "                    err = (temp_y - yhat).reshape((-1, 1))\n",
    "                    params[j, :] = beta[0][0]\n",
    "                \n",
    "                num = np.sum((XB-new_XB)**2)\n",
    "                den = 1 + np.sum(np.sum(XB, axis=1)**2)\n",
    "                score = (num / den)\n",
    "                XB = new_XB\n",
    "        \n",
    "                scores.append(deepcopy(score))\n",
    "                delta = score\n",
    "\n",
    "                if verbose:\n",
    "                    print(\"Current iteration:\", iters, \",SOC:\", np.round(score, 8))\n",
    "                if delta < tol:\n",
    "                    break\n",
    "\n",
    "            return params, X\n",
    "            \n",
    "        \n",
    "        def backfitCD(y, X, w, sat, verbose = False):\n",
    "            n,k = X.shape\n",
    "\n",
    "            #print(X)\n",
    "            betas = _compute_betas_gwr(y, X, w.reshape((-1, 1)))[0]\n",
    "            #print(betas)\n",
    "            XB = np.multiply(betas.T, X)\n",
    "            yhat = np.dot(X, betas)\n",
    "            err = y.reshape((-1, 1)) - yhat\n",
    "            iters = 0\n",
    "            scores = []\n",
    "            delta = 1e6\n",
    "            tol = 1e-8\n",
    "            max_iter = 50\n",
    "            sig = 9999\n",
    "\n",
    "            for iters in range(1, max_iter + 1):\n",
    "                new_XB = np.zeros_like(X)\n",
    "                params = np.zeros_like(betas)\n",
    "\n",
    "                for j in range(k):\n",
    "                    temp_y = XB[:, j].reshape((-1, 1))\n",
    "                    temp_y = temp_y + err.reshape((-1, 1))\n",
    "                    temp_X = X[:, j].reshape((-1, 1))\n",
    "\n",
    "                    if j == k-1:\n",
    "                        score = lambda x: sm.OLS(temp_y, np.log(sat.cal(x))).fit().aic\n",
    "                        sig  = golden_section(-6, 6, 0.38197, score, 1e-2, 50)[0] #0.3879\n",
    "                        #print(sig)\n",
    "                        Aij = sat.cal(sig)\n",
    "                        X[:, j] = np.log(Aij.flatten())\n",
    "                        temp_X = np.log(Aij.flatten()).reshape((-1,1))#sat.cal(sig, True)#np.log(Aij).reshape((-1,1))\n",
    "\n",
    "                    #beta = sm.OLS(temp_y, (np.log(w * temp_X))).fit().params[0]\n",
    "                    beta = _compute_betas_gwr(temp_y, temp_X, w.reshape((-1, 1)))[0]\n",
    "                    #print(beta)\n",
    "                    yhat = np.dot(temp_X, beta)\n",
    "                    new_XB[:, j] = yhat.flatten()\n",
    "                    err = (temp_y - yhat).reshape((-1, 1))\n",
    "                    params[j, :] = beta[0][0]\n",
    "                \n",
    "                num = np.sum((XB-new_XB)**2)\n",
    "                den = 1 + np.sum(np.sum(XB, axis=1)**2)\n",
    "                score = (num / den)\n",
    "                XB = new_XB\n",
    "        \n",
    "                scores.append(deepcopy(score))\n",
    "                delta = score\n",
    "\n",
    "                if verbose:\n",
    "                    print(\"Current iteration:\", iters, \",SOC:\", np.round(score, 8))\n",
    "                if delta < tol:\n",
    "                    break\n",
    "\n",
    "            return params, X, sig\n",
    "        \n",
    "        X = np.zeros_like(self._lt)\n",
    "        ones = pd.to_numeric(np.ones(X.shape[0])).reshape((-1,1))\n",
    "        \n",
    "        if intercept == True:\n",
    "        \n",
    "            if self.lin == True and self.sa == False:\n",
    "                X = np.hstack((ones, np.log(self._lt)))\n",
    "            \n",
    "            if self.lin == True and self.sa == True:\n",
    "                X = np.hstack((ones, np.log(self._lt), self._sat.cal(-1, True)))\n",
    "                \n",
    "        if intercept == False:\n",
    "            if self.lin == True and self.sa == False:\n",
    "                X = np.log(self._lt)\n",
    "            \n",
    "            if self.lin == True and self.sa == True:\n",
    "                X = np.hstack((np.log(self._lt), self._sat.cal(-1, True)))\n",
    "            \n",
    "        self._initX = X\n",
    "\n",
    "        y = value.reshape((-1,1))\n",
    "        s_0 = np.log(np.mean(y))\n",
    "        eta = s_0.reshape((-1, 1))\n",
    "        s_old = np.ones_like(X)\n",
    "        crit = 9999\n",
    "        betas = np.ones(self._initX.shape[1])\n",
    "        sigma = 9999\n",
    "\n",
    "        while crit > 1e-8:\n",
    "            mu = np.exp(eta).reshape((-1, 1))\n",
    "            w = mu.reshape((-1,1))\n",
    "            z = eta + ((y.reshape((-1, 1)) - mu) / mu)\n",
    "            \n",
    "            if self.lin == True and self.sa == False:\n",
    "                betas, X = backfit(z, X, w)\n",
    "            if self.lin == True and self.sa == True:\n",
    "                betas, X, sigma  = backfitCD(z, X, w, self._sat)\n",
    "            \n",
    "            s_new = np.multiply(betas.T, X)\n",
    "            inner = np.sum((s_old - s_new)**2, axis=1)\n",
    "            num = np.sum(w*inner)\n",
    "            den = np.sum(w*np.sum((1 + s_old)**2, axis=1).reshape((-1, 1)))\n",
    "            crit = num / den\n",
    "            eta = np.sum(s_new, axis=1).reshape((-1, 1))\n",
    "            s_old = s_new\n",
    "        \n",
    "        if self.lin == True and self.sa == False:\n",
    "            return betas\n",
    "        if self.lin == True and self.sa == True:\n",
    "            return betas, sigma\n",
    "\n",
    "    \n",
    "    @property\n",
    "    def initX(self):\n",
    "        return self._initX\n"
   ]
  },
  {
   "cell_type": "markdown",
   "id": "average-england",
   "metadata": {},
   "source": [
    "## Calibration"
   ]
  },
  {
   "cell_type": "code",
   "execution_count": 10,
   "id": "broadband-publisher",
   "metadata": {},
   "outputs": [],
   "source": [
    "l = LinearTerm(austria, 4, 5, 6)"
   ]
  },
  {
   "cell_type": "code",
   "execution_count": 11,
   "id": "naked-passage",
   "metadata": {
    "tags": []
   },
   "outputs": [],
   "source": [
    "sa = SpatialAccessTerm(austria, austria_shp, aust_plcdf, 1, 2, idx_mpn = 1 )"
   ]
  },
  {
   "cell_type": "code",
   "execution_count": 12,
   "id": "communist-enforcement",
   "metadata": {
    "tags": []
   },
   "outputs": [],
   "source": [
    "mod = GASM(l,sa)"
   ]
  },
  {
   "cell_type": "code",
   "execution_count": 14,
   "id": "hindu-peoples",
   "metadata": {
    "tags": []
   },
   "outputs": [],
   "source": [
    "res = mod.calibrate(austria.Data.values)"
   ]
  },
  {
   "cell_type": "code",
   "execution_count": 15,
   "id": "conditional-binary",
   "metadata": {},
   "outputs": [
    {
     "name": "stdout",
     "output_type": "stream",
     "text": [
      "(array([[-1.33059933],\n",
      "       [ 0.70624824],\n",
      "       [ 0.73738376],\n",
      "       [-1.05784889],\n",
      "       [ 0.02236929]]), 5.74)\n"
     ]
    }
   ],
   "source": [
    "print(res)"
   ]
  },
  {
   "cell_type": "markdown",
   "id": "positive-greene",
   "metadata": {},
   "source": [
    "### Test -Linear + SA Term"
   ]
  },
  {
   "cell_type": "code",
   "execution_count": 16,
   "id": "vulnerable-shooting",
   "metadata": {
    "tags": []
   },
   "outputs": [],
   "source": [
    "ones = np.ones(72).reshape((-1,1))\n",
    "tX = np.column_stack((ones, np.log(l.X), sa.cal(-1.5, True))) "
   ]
  },
  {
   "cell_type": "code",
   "execution_count": 17,
   "id": "featured-sustainability",
   "metadata": {
    "tags": []
   },
   "outputs": [],
   "source": [
    "w = np.ones(72).reshape((-1,1))\n",
    "aust_flows = austria.Data.values\n",
    "\n",
    "betas_iwls = iwls(austria.Data.values.reshape((-1,1)), tX, family=Poisson(), offset=w.reshape((-1, 1)), y_fix=None, wi=w.reshape((-1, 1)))[0]\n",
    "f_aust = np.exp(np.dot(tX, betas_iwls) + np.random.normal(0, .0001, (72,1))).reshape((-1,1))"
   ]
  },
  {
   "cell_type": "code",
   "execution_count": 19,
   "id": "prerequisite-desire",
   "metadata": {},
   "outputs": [
    {
     "name": "stdout",
     "output_type": "stream",
     "text": [
      "[[ 2.59387521]\n",
      " [ 0.7087962 ]\n",
      " [ 0.67629499]\n",
      " [-1.056177  ]\n",
      " [-0.29509767]]\n"
     ]
    }
   ],
   "source": [
    "print(betas_iwls)"
   ]
  },
  {
   "cell_type": "code",
   "execution_count": 20,
   "id": "polyphonic-montana",
   "metadata": {
    "tags": []
   },
   "outputs": [],
   "source": [
    "betas_aust, sigma_aust = mod.calibrate(f_aust)"
   ]
  },
  {
   "cell_type": "code",
   "execution_count": 21,
   "id": "gothic-effects",
   "metadata": {},
   "outputs": [
    {
     "name": "stdout",
     "output_type": "stream",
     "text": [
      "[[ 2.59631354]\n",
      " [ 0.70875065]\n",
      " [ 0.67624127]\n",
      " [-1.05618147]\n",
      " [-0.29524559]]\n"
     ]
    }
   ],
   "source": [
    "print(betas_aust)"
   ]
  },
  {
   "cell_type": "code",
   "execution_count": 23,
   "id": "binary-turner",
   "metadata": {},
   "outputs": [
    {
     "name": "stdout",
     "output_type": "stream",
     "text": [
      "-1.5\n"
     ]
    }
   ],
   "source": [
    "print(sigma_aust)"
   ]
  },
  {
   "cell_type": "markdown",
   "id": "possible-aquarium",
   "metadata": {},
   "source": [
    "### Test - Only Linear Term"
   ]
  },
  {
   "cell_type": "code",
   "execution_count": 24,
   "id": "indie-samba",
   "metadata": {},
   "outputs": [],
   "source": [
    "mod2 = GASM(l)"
   ]
  },
  {
   "cell_type": "code",
   "execution_count": 26,
   "id": "greek-proposition",
   "metadata": {
    "tags": []
   },
   "outputs": [
    {
     "name": "stdout",
     "output_type": "stream",
     "text": [
      "[[ 0.66832727]\n",
      " [ 0.70644744]\n",
      " [-1.10919148]]\n"
     ]
    }
   ],
   "source": [
    "res2 = mod2.calibrate(aust_flows, False)\n",
    "print(res2)"
   ]
  },
  {
   "cell_type": "code",
   "execution_count": 28,
   "id": "architectural-neighbor",
   "metadata": {
    "tags": []
   },
   "outputs": [],
   "source": [
    "tX3 = l.X\n",
    "w = np.ones(72).reshape((-1,1))\n",
    "aust_flows = austria.Data.values\n",
    "betas_iwls = iwls(austria.Data.values.reshape((-1,1)), np.log(tX3), family=Poisson(), offset=w.reshape((-1, 1)), y_fix=None, wi=w.reshape((-1, 1)))[0]"
   ]
  },
  {
   "cell_type": "code",
   "execution_count": 29,
   "id": "immediate-hearing",
   "metadata": {},
   "outputs": [
    {
     "name": "stdout",
     "output_type": "stream",
     "text": [
      "[[ 0.66832727]\n",
      " [ 0.70644744]\n",
      " [-1.10919148]]\n"
     ]
    }
   ],
   "source": [
    "print(betas_iwls)"
   ]
  },
  {
   "cell_type": "markdown",
   "id": "reserved-mirror",
   "metadata": {
    "tags": []
   },
   "source": [
    "# Simulation"
   ]
  },
  {
   "cell_type": "markdown",
   "id": "eligible-return",
   "metadata": {},
   "source": [
    "## Create Points"
   ]
  },
  {
   "cell_type": "markdown",
   "id": "residential-automation",
   "metadata": {},
   "source": [
    "Refer to: https://pysal.org/notebooks/explore/pointpats/process.html#Point-Processes"
   ]
  },
  {
   "cell_type": "code",
   "execution_count": 42,
   "id": "polish-abraham",
   "metadata": {},
   "outputs": [],
   "source": [
    "from pointpats import * #PoissonPointProcess, PoissonClusterPointProcess, Window, poly_from_bbox, PointPattern\n",
    "import libpysal as ps\n",
    "from libpysal.cg import *\n",
    "%matplotlib inline\n",
    "#import matplotlib.pyplot as plt"
   ]
  },
  {
   "cell_type": "markdown",
   "id": "rapid-tyler",
   "metadata": {},
   "source": [
    "### Even"
   ]
  },
  {
   "cell_type": "code",
   "execution_count": 43,
   "id": "prescribed-gross",
   "metadata": {},
   "outputs": [
    {
     "data": {
      "text/plain": [
       "array([ 10,  40,  70, 100, 130, 160, 190, 220, 250, 280])"
      ]
     },
     "execution_count": 43,
     "metadata": {},
     "output_type": "execute_result"
    }
   ],
   "source": [
    "x = np.arange(10, 300, 30)\n",
    "x"
   ]
  },
  {
   "cell_type": "code",
   "execution_count": 44,
   "id": "suspected-helena",
   "metadata": {},
   "outputs": [],
   "source": [
    "X_eve = np.tile(x, 10)\n",
    "Y_eve = np.repeat(x, 10)"
   ]
  },
  {
   "cell_type": "code",
   "execution_count": 45,
   "id": "frequent-shape",
   "metadata": {},
   "outputs": [],
   "source": [
    "squpts_even = np.column_stack((X_eve, Y_eve))"
   ]
  },
  {
   "cell_type": "code",
   "execution_count": 46,
   "id": "hispanic-greenhouse",
   "metadata": {},
   "outputs": [
    {
     "data": {
      "text/plain": [
       "[<matplotlib.lines.Line2D at 0x7ffb568250a0>]"
      ]
     },
     "execution_count": 46,
     "metadata": {},
     "output_type": "execute_result"
    },
    {
     "data": {
      "image/png": "[encoded data removed]",
      "text/plain": [
       "<Figure size 360x360 with 1 Axes>"
      ]
     },
     "metadata": {
      "needs_background": "light"
     },
     "output_type": "display_data"
    }
   ],
   "source": [
    "len_xaxis,len_yaxis = 5,5\n",
    "xspace, yspace = 1, 1\n",
    "x_fig,y_fig = len_xaxis / xspace, len_yaxis / yspace\n",
    "plt.figure(figsize=(x_fig,y_fig))\n",
    "plt.subplots_adjust(left=1-xspace, right = xspace, top=yspace, bottom = 1-yspace)\n",
    "plt.plot(X_eve, Y_eve, 'o')"
   ]
  },
  {
   "cell_type": "markdown",
   "id": "veterinary-mainland",
   "metadata": {},
   "source": [
    "### Setup for the below"
   ]
  },
  {
   "cell_type": "code",
   "execution_count": 47,
   "id": "sound-enterprise",
   "metadata": {},
   "outputs": [],
   "source": [
    "square = Polygon([Point((0, 0)), Point((300, 0)), Point((300, 300)), Point((0, 300))])\n",
    "squwin = as_window(square)"
   ]
  },
  {
   "cell_type": "markdown",
   "id": "roman-wesley",
   "metadata": {},
   "source": [
    "### Random"
   ]
  },
  {
   "cell_type": "markdown",
   "id": "married-mileage",
   "metadata": {},
   "source": [
    "Generate a point series from N-conditioned CSR "
   ]
  },
  {
   "cell_type": "code",
   "execution_count": 48,
   "id": "preliminary-model",
   "metadata": {
    "tags": []
   },
   "outputs": [],
   "source": [
    "# simulate a csr process in the same window (200 points, 1 realization)\n",
    "# by specifying \"asPP\" false, we can generate a point series\n",
    "# by specifying \"conditioning\" false, we can simulate a N-conditioned CSR\n",
    "np.random.seed(5)\n",
    "squsamples = PoissonPointProcess(squwin, 100, 1, conditioning=False, asPP=False)\n",
    "#squsamples.realizations[0] # simulated randomt points"
   ]
  },
  {
   "cell_type": "code",
   "execution_count": 49,
   "id": "applicable-repository",
   "metadata": {},
   "outputs": [
    {
     "data": {
      "text/plain": [
       "[<matplotlib.lines.Line2D at 0x7ffb567011f0>]"
      ]
     },
     "execution_count": 49,
     "metadata": {},
     "output_type": "execute_result"
    },
    {
     "data": {
      "image/png": "[encoded data removed]",
      "text/plain": [
       "<Figure size 360x360 with 1 Axes>"
      ]
     },
     "metadata": {
      "needs_background": "light"
     },
     "output_type": "display_data"
    }
   ],
   "source": [
    "# build a point pattern from the simulated point series\n",
    "squpts_random = squsamples.realizations[0]\n",
    "len_xaxis,len_yaxis = 5,5\n",
    "xspace, yspace = 1, 1\n",
    "x_fig,y_fig = len_xaxis / xspace, len_yaxis / yspace\n",
    "plt.figure(figsize=(x_fig,y_fig))\n",
    "plt.subplots_adjust(left=1-xspace, right = xspace, top=yspace, bottom = 1-yspace)\n",
    "plt.plot(squpts_random[:,0],squpts_random[:,1],'o')\n",
    "#squpts_random.plot(window=True, hull=True, title='Random Point Pattern')"
   ]
  },
  {
   "cell_type": "markdown",
   "id": "seventh-beverage",
   "metadata": {},
   "source": [
    "### Cluster"
   ]
  },
  {
   "cell_type": "markdown",
   "id": "digital-treasury",
   "metadata": {},
   "source": [
    "1. Simulate a Poisson cluster process of size 75 with 5 parents and 15 children within 0.5 units of each parent (parent randomts:  $\\lambda$-conditioned CSR)"
   ]
  },
  {
   "cell_type": "code",
   "execution_count": 50,
   "id": "following-irrigation",
   "metadata": {},
   "outputs": [],
   "source": [
    "np.random.seed(10)\n",
    "squcsamples = PoissonClusterPointProcess(squwin, 100, 5, 50, 1, asPP=False, conditioning=True)"
   ]
  },
  {
   "cell_type": "markdown",
   "id": "stopped-barrier",
   "metadata": {},
   "source": [
    "2. Generate a point series from N-conditioned CSR with a random pattern"
   ]
  },
  {
   "cell_type": "code",
   "execution_count": 51,
   "id": "instant-setup",
   "metadata": {
    "tags": []
   },
   "outputs": [],
   "source": [
    "np.random.seed(10)\n",
    "squsamples2 = PoissonPointProcess(squwin, 20, 1, conditioning=False, asPP=False)\n",
    "squpts_cluster = np.row_stack((squcsamples.realizations[0], squsamples2.realizations[0]))"
   ]
  },
  {
   "cell_type": "code",
   "execution_count": 52,
   "id": "behind-profit",
   "metadata": {},
   "outputs": [
    {
     "data": {
      "text/plain": [
       "[<matplotlib.lines.Line2D at 0x7ffb566e3ca0>]"
      ]
     },
     "execution_count": 52,
     "metadata": {},
     "output_type": "execute_result"
    },
    {
     "data": {
      "image/png": "[encoded data removed]",
      "text/plain": [
       "<Figure size 360x360 with 1 Axes>"
      ]
     },
     "metadata": {
      "needs_background": "light"
     },
     "output_type": "display_data"
    }
   ],
   "source": [
    "len_xaxis,len_yaxis = 5,5\n",
    "xspace, yspace = 1, 1\n",
    "x_fig,y_fig = len_xaxis / xspace, len_yaxis / yspace\n",
    "plt.figure(figsize=(x_fig,y_fig))\n",
    "plt.subplots_adjust(left=1-xspace, right = xspace, top=yspace, bottom = 1-yspace)\n",
    "plt.plot(squpts_cluster[:,0],squpts_cluster[:,1],'o')\n",
    "#squpts_cluster = PointPattern(squfin_cluster)\n",
    "#squpts_cluster.plot(window=True, hull=True, title='Clustered Point Pattern with Some Random Points')"
   ]
  },
  {
   "cell_type": "markdown",
   "id": "resident-invasion",
   "metadata": {},
   "source": [
    "## Build Data"
   ]
  },
  {
   "cell_type": "code",
   "execution_count": 53,
   "id": "complex-interface",
   "metadata": {
    "tags": []
   },
   "outputs": [],
   "source": [
    "evendf = pd.DataFrame(squpts_even, columns = ['Lon', 'Lat'])\n",
    "randomdf = pd.DataFrame(squpts_random, columns = ['Lon', 'Lat'])\n",
    "clusterdf = pd.DataFrame(squpts_cluster, columns = ['Lon', 'Lat'])"
   ]
  },
  {
   "cell_type": "code",
   "execution_count": 54,
   "id": "mineral-ready",
   "metadata": {},
   "outputs": [],
   "source": [
    "evendf = evendf.assign(Name = np.arange(evendf.shape[0]))\n",
    "randomdf = randomdf.assign(Name = np.arange(randomdf.shape[0]))\n",
    "clusterdf = clusterdf.assign(Name = np.arange(clusterdf.shape[0]))\n",
    "\n",
    "evendf.Name = evendf.Name.astype(str).str.zfill(3)\n",
    "randomdf.Name = randomdf.Name.astype(str).str.zfill(3)\n",
    "clusterdf.Name = clusterdf.Name.astype(str).str.zfill(3)"
   ]
  },
  {
   "cell_type": "code",
   "execution_count": 55,
   "id": "smaller-saudi",
   "metadata": {},
   "outputs": [
    {
     "data": {
      "text/html": [
       "<div>\n",
       "<style scoped>\n",
       "    .dataframe tbody tr th:only-of-type {\n",
       "        vertical-align: middle;\n",
       "    }\n",
       "\n",
       "    .dataframe tbody tr th {\n",
       "        vertical-align: top;\n",
       "    }\n",
       "\n",
       "    .dataframe thead th {\n",
       "        text-align: right;\n",
       "    }\n",
       "</style>\n",
       "<table border=\"1\" class=\"dataframe\">\n",
       "  <thead>\n",
       "    <tr style=\"text-align: right;\">\n",
       "      <th></th>\n",
       "      <th>Lon</th>\n",
       "      <th>Lat</th>\n",
       "      <th>Name</th>\n",
       "    </tr>\n",
       "  </thead>\n",
       "  <tbody>\n",
       "    <tr>\n",
       "      <th>0</th>\n",
       "      <td>198.754239</td>\n",
       "      <td>289.832756</td>\n",
       "      <td>000</td>\n",
       "    </tr>\n",
       "  </tbody>\n",
       "</table>\n",
       "</div>"
      ],
      "text/plain": [
       "          Lon         Lat Name\n",
       "0  198.754239  289.832756  000"
      ]
     },
     "execution_count": 55,
     "metadata": {},
     "output_type": "execute_result"
    }
   ],
   "source": [
    "clusterdf.head(1)"
   ]
  },
  {
   "cell_type": "code",
   "execution_count": 56,
   "id": "alike-cooperation",
   "metadata": {},
   "outputs": [],
   "source": [
    "import geopandas as gpd"
   ]
  },
  {
   "cell_type": "code",
   "execution_count": 57,
   "id": "quantitative-correlation",
   "metadata": {},
   "outputs": [],
   "source": [
    "#create geodataframe\n",
    "even_gdf = gpd.GeoDataFrame(evendf, geometry=gpd.points_from_xy(evendf.Lon, evendf.Lat))\n",
    "random_gdf = gpd.GeoDataFrame(randomdf, geometry=gpd.points_from_xy(randomdf.Lon, randomdf.Lat))\n",
    "cluster_gdf = gpd.GeoDataFrame(clusterdf, geometry=gpd.points_from_xy(clusterdf.Lon, clusterdf.Lat))"
   ]
  },
  {
   "cell_type": "markdown",
   "id": "theoretical-bottom",
   "metadata": {},
   "source": [
    "### Population"
   ]
  },
  {
   "cell_type": "code",
   "execution_count": 58,
   "id": "civilian-incentive",
   "metadata": {},
   "outputs": [],
   "source": [
    "np.random.seed(5)\n",
    "pop = np.random.uniform(50000,5000000,100)\n",
    "popdf = evendf.assign(Pop = pop)\n",
    "popdf = popdf[['Name', 'Pop']]"
   ]
  },
  {
   "cell_type": "code",
   "execution_count": 59,
   "id": "composed-jackson",
   "metadata": {},
   "outputs": [
    {
     "data": {
      "text/html": [
       "<div>\n",
       "<style scoped>\n",
       "    .dataframe tbody tr th:only-of-type {\n",
       "        vertical-align: middle;\n",
       "    }\n",
       "\n",
       "    .dataframe tbody tr th {\n",
       "        vertical-align: top;\n",
       "    }\n",
       "\n",
       "    .dataframe thead th {\n",
       "        text-align: right;\n",
       "    }\n",
       "</style>\n",
       "<table border=\"1\" class=\"dataframe\">\n",
       "  <thead>\n",
       "    <tr style=\"text-align: right;\">\n",
       "      <th></th>\n",
       "      <th>Name</th>\n",
       "      <th>Pop</th>\n",
       "    </tr>\n",
       "  </thead>\n",
       "  <tbody>\n",
       "    <tr>\n",
       "      <th>0</th>\n",
       "      <td>000</td>\n",
       "      <td>1.148866e+06</td>\n",
       "    </tr>\n",
       "  </tbody>\n",
       "</table>\n",
       "</div>"
      ],
      "text/plain": [
       "  Name           Pop\n",
       "0  000  1.148866e+06"
      ]
     },
     "execution_count": 59,
     "metadata": {},
     "output_type": "execute_result"
    }
   ],
   "source": [
    "popdf.head(1)"
   ]
  },
  {
   "cell_type": "markdown",
   "id": "destroyed-barrel",
   "metadata": {},
   "source": [
    "### Distance"
   ]
  },
  {
   "cell_type": "markdown",
   "id": "ecological-contact",
   "metadata": {},
   "source": [
    "Euclidean distance"
   ]
  },
  {
   "cell_type": "code",
   "execution_count": 60,
   "id": "motivated-capability",
   "metadata": {},
   "outputs": [],
   "source": [
    "even_dist_mat = np.linalg.norm(squpts_even - squpts_even[:,None], axis=-1)\n",
    "random_dist_mat = np.linalg.norm(squpts_random - squpts_random[:,None], axis=-1)\n",
    "cluster_dist_mat = np.linalg.norm(squpts_cluster - squpts_cluster[:,None], axis=-1)"
   ]
  },
  {
   "cell_type": "code",
   "execution_count": 61,
   "id": "special-spencer",
   "metadata": {},
   "outputs": [],
   "source": [
    "even_dists = even_dist_mat[even_dist_mat != 0].reshape((-1,1))\n",
    "random_dists = random_dist_mat[random_dist_mat != 0].reshape((-1,1))\n",
    "cluster_dists = cluster_dist_mat[cluster_dist_mat != 0].reshape((-1,1))"
   ]
  },
  {
   "cell_type": "code",
   "execution_count": 62,
   "id": "adjusted-interim",
   "metadata": {
    "tags": []
   },
   "outputs": [],
   "source": [
    "tmpdf = randomdf.copy()\n",
    "tmpdf = tmpdf.set_index(tmpdf.Name).sort_index()\n",
    "places = tmpdf.Name.values.reshape((-1,1))\n",
    "tmp_orig = np.repeat(places, len(places)).reshape((-1,1))\n",
    "tmp_dest = np.tile(places, (len(places),1))\n",
    "tmp_codes_df = pd.DataFrame(np.column_stack((tmp_orig, tmp_dest)))\n",
    "mask = tmp_codes_df.iloc[:,0] != tmp_codes_df.iloc[:,1]\n",
    "fcodes = tmp_orig + tmp_dest\n",
    "fcodes = fcodes[mask].reshape((-1,1))\n",
    "\n",
    "even_dist_df = pd.DataFrame(np.column_stack((fcodes, even_dists)), columns = ['fcode', 'Distance'])\n",
    "random_dist_df = pd.DataFrame(np.column_stack((fcodes, random_dists)), columns = ['fcode', 'Distance'])\n",
    "cluster_dist_df = pd.DataFrame(np.column_stack((fcodes, cluster_dists)), columns = ['fcode', 'Distance'])"
   ]
  },
  {
   "cell_type": "markdown",
   "id": "assured-publication",
   "metadata": {},
   "source": [
    "### Combine Data"
   ]
  },
  {
   "cell_type": "code",
   "execution_count": 63,
   "id": "sufficient-plymouth",
   "metadata": {},
   "outputs": [],
   "source": [
    "simul = pd.DataFrame(fcodes, columns = ['Code'])\n",
    "simul = simul.assign(Origin = simul.Code.str[:3],\n",
    "                     Destination = simul.Code.str[3:],\n",
    "                     Flows = np.ones(simul.shape[0]).reshape((-1,1)))"
   ]
  },
  {
   "cell_type": "code",
   "execution_count": 64,
   "id": "drawn-remainder",
   "metadata": {},
   "outputs": [],
   "source": [
    "simul = simul.join(popdf.set_index(popdf.Name), how = 'left', on = 'Origin')\n",
    "simul = simul.drop(['Name'], axis = 1)\n",
    "simul = simul.rename(columns = {'Pop': 'Propulsive'})\n",
    "\n",
    "simul = simul.join(popdf.set_index(popdf.Name), how = 'left', on = 'Destination')\n",
    "simul = simul.drop(['Name'], axis = 1)\n",
    "simul = simul.rename(columns = {'Pop': 'Attractive'})"
   ]
  },
  {
   "cell_type": "code",
   "execution_count": 65,
   "id": "sustainable-morocco",
   "metadata": {},
   "outputs": [],
   "source": [
    "even_simul = simul.copy()\n",
    "random_simul = simul.copy()\n",
    "cluster_simul = simul.copy()"
   ]
  },
  {
   "cell_type": "code",
   "execution_count": 66,
   "id": "vocational-thread",
   "metadata": {},
   "outputs": [],
   "source": [
    "even_simul = even_simul.join(even_dist_df.set_index(even_dist_df.fcode), how = 'left', on = 'Code')\n",
    "even_simul = even_simul.drop(['fcode'], axis = 1)\n",
    "even_simul = even_simul.set_index(even_simul.Code)\n",
    "even_simul = even_simul.drop(['Code'], axis = 1)\n",
    "\n",
    "random_simul = random_simul.join(random_dist_df.set_index(random_dist_df.fcode), how = 'left', on = 'Code')\n",
    "random_simul = random_simul.drop(['fcode'], axis = 1)\n",
    "random_simul = random_simul.set_index(random_simul.Code)\n",
    "random_simul = random_simul.drop(['Code'], axis = 1)\n",
    "\n",
    "cluster_simul = cluster_simul.join(cluster_dist_df.set_index(cluster_dist_df.fcode), how = 'left', on = 'Code')\n",
    "cluster_simul = cluster_simul.drop(['fcode'], axis = 1)\n",
    "cluster_simul = cluster_simul.set_index(cluster_simul.Code)\n",
    "cluster_simul = cluster_simul.drop(['Code'], axis = 1)"
   ]
  },
  {
   "cell_type": "code",
   "execution_count": 67,
   "id": "thick-merchant",
   "metadata": {},
   "outputs": [
    {
     "data": {
      "text/html": [
       "<div>\n",
       "<style scoped>\n",
       "    .dataframe tbody tr th:only-of-type {\n",
       "        vertical-align: middle;\n",
       "    }\n",
       "\n",
       "    .dataframe tbody tr th {\n",
       "        vertical-align: top;\n",
       "    }\n",
       "\n",
       "    .dataframe thead th {\n",
       "        text-align: right;\n",
       "    }\n",
       "</style>\n",
       "<table border=\"1\" class=\"dataframe\">\n",
       "  <thead>\n",
       "    <tr style=\"text-align: right;\">\n",
       "      <th></th>\n",
       "      <th>Origin</th>\n",
       "      <th>Destination</th>\n",
       "      <th>Flows</th>\n",
       "      <th>Propulsive</th>\n",
       "      <th>Attractive</th>\n",
       "      <th>Distance</th>\n",
       "    </tr>\n",
       "    <tr>\n",
       "      <th>Code</th>\n",
       "      <th></th>\n",
       "      <th></th>\n",
       "      <th></th>\n",
       "      <th></th>\n",
       "      <th></th>\n",
       "      <th></th>\n",
       "    </tr>\n",
       "  </thead>\n",
       "  <tbody>\n",
       "    <tr>\n",
       "      <th>000001</th>\n",
       "      <td>000</td>\n",
       "      <td>001</td>\n",
       "      <td>1.0</td>\n",
       "      <td>1.148866e+06</td>\n",
       "      <td>4.360125e+06</td>\n",
       "      <td>30.0</td>\n",
       "    </tr>\n",
       "  </tbody>\n",
       "</table>\n",
       "</div>"
      ],
      "text/plain": [
       "       Origin Destination  Flows    Propulsive    Attractive Distance\n",
       "Code                                                                 \n",
       "000001    000         001    1.0  1.148866e+06  4.360125e+06     30.0"
      ]
     },
     "execution_count": 67,
     "metadata": {},
     "output_type": "execute_result"
    }
   ],
   "source": [
    "even_simul.head(1)"
   ]
  },
  {
   "cell_type": "code",
   "execution_count": 68,
   "id": "alpine-index",
   "metadata": {},
   "outputs": [
    {
     "data": {
      "text/html": [
       "<div>\n",
       "<style scoped>\n",
       "    .dataframe tbody tr th:only-of-type {\n",
       "        vertical-align: middle;\n",
       "    }\n",
       "\n",
       "    .dataframe tbody tr th {\n",
       "        vertical-align: top;\n",
       "    }\n",
       "\n",
       "    .dataframe thead th {\n",
       "        text-align: right;\n",
       "    }\n",
       "</style>\n",
       "<table border=\"1\" class=\"dataframe\">\n",
       "  <thead>\n",
       "    <tr style=\"text-align: right;\">\n",
       "      <th></th>\n",
       "      <th>Origin</th>\n",
       "      <th>Destination</th>\n",
       "      <th>Flows</th>\n",
       "      <th>Propulsive</th>\n",
       "      <th>Attractive</th>\n",
       "      <th>Distance</th>\n",
       "    </tr>\n",
       "    <tr>\n",
       "      <th>Code</th>\n",
       "      <th></th>\n",
       "      <th></th>\n",
       "      <th></th>\n",
       "      <th></th>\n",
       "      <th></th>\n",
       "      <th></th>\n",
       "    </tr>\n",
       "  </thead>\n",
       "  <tbody>\n",
       "    <tr>\n",
       "      <th>000001</th>\n",
       "      <td>000</td>\n",
       "      <td>001</td>\n",
       "      <td>1.0</td>\n",
       "      <td>1.148866e+06</td>\n",
       "      <td>4.360125e+06</td>\n",
       "      <td>202.276791</td>\n",
       "    </tr>\n",
       "  </tbody>\n",
       "</table>\n",
       "</div>"
      ],
      "text/plain": [
       "       Origin Destination  Flows    Propulsive    Attractive    Distance\n",
       "Code                                                                    \n",
       "000001    000         001    1.0  1.148866e+06  4.360125e+06  202.276791"
      ]
     },
     "execution_count": 68,
     "metadata": {},
     "output_type": "execute_result"
    }
   ],
   "source": [
    "random_simul.head(1)"
   ]
  },
  {
   "cell_type": "code",
   "execution_count": 69,
   "id": "selected-gospel",
   "metadata": {},
   "outputs": [
    {
     "data": {
      "text/html": [
       "<div>\n",
       "<style scoped>\n",
       "    .dataframe tbody tr th:only-of-type {\n",
       "        vertical-align: middle;\n",
       "    }\n",
       "\n",
       "    .dataframe tbody tr th {\n",
       "        vertical-align: top;\n",
       "    }\n",
       "\n",
       "    .dataframe thead th {\n",
       "        text-align: right;\n",
       "    }\n",
       "</style>\n",
       "<table border=\"1\" class=\"dataframe\">\n",
       "  <thead>\n",
       "    <tr style=\"text-align: right;\">\n",
       "      <th></th>\n",
       "      <th>Origin</th>\n",
       "      <th>Destination</th>\n",
       "      <th>Flows</th>\n",
       "      <th>Propulsive</th>\n",
       "      <th>Attractive</th>\n",
       "      <th>Distance</th>\n",
       "    </tr>\n",
       "    <tr>\n",
       "      <th>Code</th>\n",
       "      <th></th>\n",
       "      <th></th>\n",
       "      <th></th>\n",
       "      <th></th>\n",
       "      <th></th>\n",
       "      <th></th>\n",
       "    </tr>\n",
       "  </thead>\n",
       "  <tbody>\n",
       "    <tr>\n",
       "      <th>000001</th>\n",
       "      <td>000</td>\n",
       "      <td>001</td>\n",
       "      <td>1.0</td>\n",
       "      <td>1.148866e+06</td>\n",
       "      <td>4.360125e+06</td>\n",
       "      <td>302.344233</td>\n",
       "    </tr>\n",
       "  </tbody>\n",
       "</table>\n",
       "</div>"
      ],
      "text/plain": [
       "       Origin Destination  Flows    Propulsive    Attractive    Distance\n",
       "Code                                                                    \n",
       "000001    000         001    1.0  1.148866e+06  4.360125e+06  302.344233"
      ]
     },
     "execution_count": 69,
     "metadata": {},
     "output_type": "execute_result"
    }
   ],
   "source": [
    "cluster_simul.head(1)"
   ]
  },
  {
   "cell_type": "markdown",
   "id": "focal-register",
   "metadata": {},
   "source": [
    "### Accessibility"
   ]
  },
  {
   "cell_type": "code",
   "execution_count": 70,
   "id": "configured-title",
   "metadata": {},
   "outputs": [],
   "source": [
    "even_sa = SpatialAccessTerm(even_simul, even_gdf, popdf,  0, 1, idx_mpn = 2 )\n",
    "random_sa = SpatialAccessTerm(random_simul, random_gdf, popdf,  0, 1, idx_mpn = 2)\n",
    "cluster_sa = SpatialAccessTerm(cluster_simul, cluster_gdf, popdf,  0, 1, idx_mpn = 2)"
   ]
  },
  {
   "cell_type": "code",
   "execution_count": 71,
   "id": "toxic-honey",
   "metadata": {},
   "outputs": [],
   "source": [
    "even_simul = even_simul.assign(Aij = even_sa.cal(-3))\n",
    "random_simul = random_simul.assign(Aij = random_sa.cal(-3))\n",
    "cluster_simul = cluster_simul.assign(Aij = cluster_sa.cal(-3))"
   ]
  },
  {
   "cell_type": "markdown",
   "id": "advanced-relations",
   "metadata": {},
   "source": [
    "### Flows"
   ]
  },
  {
   "cell_type": "markdown",
   "id": "wrapped-female",
   "metadata": {},
   "source": [
    "$T_{ij} = kV_{i}^{\\mu}W_{j}^{\\alpha}d_{ij}^{\\beta}A_{ij}^{\\delta}$"
   ]
  },
  {
   "cell_type": "code",
   "execution_count": 96,
   "id": "latin-april",
   "metadata": {},
   "outputs": [],
   "source": [
    "betas = np.array([[1], [1], [-1], [-1]])\n",
    "ones = np.ones(even_simul.shape[0]).reshape((-1,1))\n",
    "evenl = LinearTerm(even_simul, 4, 5, 6)\n",
    "randoml = LinearTerm(random_simul, 4, 5, 6)\n",
    "clusterl = LinearTerm(cluster_simul, 4, 5, 6)\n",
    "\n",
    "tX_even = np.hstack((ones, np.log(evenl.X)))\n",
    "tX_random = np.hstack((ones, np.log(randoml.X)))\n",
    "tX_cluster = np.hstack((ones, np.log(clusterl.X)))\n",
    "\n",
    "f_even = np.exp(np.dot(tX_even, betas))\n",
    "f_random = np.exp(np.dot(tX_random, betas))\n",
    "f_cluster = np.exp(np.dot(tX_cluster, betas))\n"
   ]
  },
  {
   "cell_type": "code",
   "execution_count": 97,
   "id": "accompanied-publicity",
   "metadata": {},
   "outputs": [],
   "source": [
    "even_simul = even_simul.assign(Flows = f_even)\n",
    "random_simul = random_simul.assign(Flows = f_random)\n",
    "cluster_simul = cluster_simul.assign(Flows = f_cluster)"
   ]
  },
  {
   "cell_type": "code",
   "execution_count": 98,
   "id": "organized-finland",
   "metadata": {},
   "outputs": [],
   "source": [
    "even_simul = even_simul.assign(Flows = even_simul.Flows/ np.sum(even_simul.Flows))\n",
    "random_simul = random_simul.assign(Flows = random_simul.Flows/ np.sum(random_simul.Flows))\n",
    "cluster_simul = cluster_simul.assign(Flows = cluster_simul.Flows/ np.sum(cluster_simul.Flows))"
   ]
  },
  {
   "cell_type": "code",
   "execution_count": 75,
   "id": "earlier-circulation",
   "metadata": {},
   "outputs": [],
   "source": [
    "np.random.seed(10)\n",
    "even_simul = even_simul.assign(Flows = np.random.multinomial(1000000, even_simul.Flows))\n",
    "random_simul = random_simul.assign(Flows = np.random.multinomial(1000000, random_simul.Flows))\n",
    "cluster_simul = cluster_simul.assign(Flows = np.random.multinomial(1000000, cluster_simul.Flows))"
   ]
  },
  {
   "cell_type": "markdown",
   "id": "inside-calibration",
   "metadata": {},
   "source": [
    "## Simulating"
   ]
  },
  {
   "cell_type": "markdown",
   "id": "special-masters",
   "metadata": {},
   "source": [
    "### Even"
   ]
  },
  {
   "cell_type": "code",
   "execution_count": 77,
   "id": "unknown-acrylic",
   "metadata": {},
   "outputs": [],
   "source": [
    "even_l = LinearTerm(even_simul, 4, 5)\n",
    "even_mod = GASM(even_l, even_sa)\n",
    "betas_even, sigma_even = even_mod.calibrate(even_simul.Flows.values)"
   ]
  },
  {
   "cell_type": "code",
   "execution_count": 184,
   "id": "respected-automation",
   "metadata": {},
   "outputs": [
    {
     "name": "stdout",
     "output_type": "stream",
     "text": [
      "[[ 1.50145855]\n",
      " [ 0.99947188]\n",
      " [-1.0014475 ]\n",
      " [-1.01730488]]\n"
     ]
    }
   ],
   "source": [
    "print(betas_even) #w/ oms; multi; w intercept"
   ]
  },
  {
   "cell_type": "code",
   "execution_count": 183,
   "id": "polished-lesson",
   "metadata": {},
   "outputs": [
    {
     "name": "stdout",
     "output_type": "stream",
     "text": [
      "-2.89\n"
     ]
    }
   ],
   "source": [
    "print(sigma_even) #w/ oms; multi; w intercept"
   ]
  },
  {
   "cell_type": "code",
   "execution_count": 121,
   "id": "collect-equipment",
   "metadata": {},
   "outputs": [],
   "source": [
    "tmp_even_simul = even_simul.copy()\n",
    "bli_even = [] # all coefficients\n",
    "sli_even = [] # sigma\n",
    "\n",
    "for i in range(55):\n",
    "    np.random.seed(i)\n",
    "    tmp_even_simul.Flows = np.random.multinomial(1000000, even_simul.Flows)\n",
    "    tmp_betas_even, tmp_sigma_even = even_mod.calibrate(tmp_even_simul.Flows.values)\n",
    "    bli_even .append(tmp_betas_even)\n",
    "    sli_even.append(tmp_sigma_even)  "
   ]
  },
  {
   "cell_type": "code",
   "execution_count": 131,
   "id": "sonic-martin",
   "metadata": {},
   "outputs": [],
   "source": [
    "dcli_even = [] #distance decay beta\n",
    "muli_even = [] #mu\n",
    "ali_even = []  #accessibility\n",
    "ili_even = []  #intercept"
   ]
  },
  {
   "cell_type": "code",
   "execution_count": 132,
   "id": "empirical-substance",
   "metadata": {
    "tags": []
   },
   "outputs": [],
   "source": [
    "for i in range(55):\n",
    "    ili_even.append(bli_even[i][0])\n",
    "    muli_even.append(bli_even[i][1])\n",
    "    dcli_even.append(bli_even[i][2])\n",
    "    ali_even.append(bli_even[i][3])\n",
    "    "
   ]
  },
  {
   "cell_type": "code",
   "execution_count": 171,
   "id": "endless-exclusive",
   "metadata": {},
   "outputs": [
    {
     "name": "stdout",
     "output_type": "stream",
     "text": [
      "1.0010656558966091\n"
     ]
    }
   ],
   "source": [
    "print(np.mean(muli_even))"
   ]
  },
  {
   "cell_type": "code",
   "execution_count": 172,
   "id": "arabic-andorra",
   "metadata": {},
   "outputs": [
    {
     "name": "stdout",
     "output_type": "stream",
     "text": [
      "-1.000224755612361\n"
     ]
    }
   ],
   "source": [
    "print(np.mean(dcli_even))"
   ]
  },
  {
   "cell_type": "code",
   "execution_count": 173,
   "id": "surface-insulin",
   "metadata": {},
   "outputs": [
    {
     "name": "stdout",
     "output_type": "stream",
     "text": [
      "-1.0615578336888727\n"
     ]
    }
   ],
   "source": [
    "print(np.mean(ali_even))"
   ]
  },
  {
   "cell_type": "code",
   "execution_count": 174,
   "id": "medium-component",
   "metadata": {
    "tags": []
   },
   "outputs": [
    {
     "name": "stdout",
     "output_type": "stream",
     "text": [
      "-2.8230909090909093\n"
     ]
    }
   ],
   "source": [
    "print(np.mean(sli_even))"
   ]
  },
  {
   "cell_type": "markdown",
   "id": "transparent-formation",
   "metadata": {},
   "source": [
    "### Random"
   ]
  },
  {
   "cell_type": "code",
   "execution_count": 80,
   "id": "liable-bumper",
   "metadata": {},
   "outputs": [],
   "source": [
    "random_l = LinearTerm(random_simul, 4, 5)\n",
    "random_mod = GASM(random_l, random_sa)\n",
    "betas_random, sigma_random = random_mod.calibrate(random_simul.Flows.values)"
   ]
  },
  {
   "cell_type": "code",
   "execution_count": 175,
   "id": "hazardous-press",
   "metadata": {},
   "outputs": [
    {
     "name": "stdout",
     "output_type": "stream",
     "text": [
      "[[ 3.73328463]\n",
      " [ 1.12458674]\n",
      " [-1.00333368]\n",
      " [-1.26877299]]\n"
     ]
    }
   ],
   "source": [
    "print(betas_random) #w/ oms; multi; w intercept"
   ]
  },
  {
   "cell_type": "code",
   "execution_count": 176,
   "id": "parliamentary-representative",
   "metadata": {},
   "outputs": [
    {
     "name": "stdout",
     "output_type": "stream",
     "text": [
      "-2.56\n"
     ]
    }
   ],
   "source": [
    "print(sigma_random) #w/ oms; multi; w intercept"
   ]
  },
  {
   "cell_type": "code",
   "execution_count": null,
   "id": "sweet-routine",
   "metadata": {},
   "outputs": [],
   "source": [
    "tmp_random_simul = random_simul.copy()\n",
    "bli_random = [] # all coefficients\n",
    "sli_random = [] # sigma\n",
    "\n",
    "for i in range(10):\n",
    "    np.random.seed(i)\n",
    "    tmp_random_simul.Flows = np.random.multinomial(1000000, random_simul.Flows)\n",
    "    tmp_betas_random, tmp_sigma_random = random_mod.calibrate(tmp_random_simul.Flows.values)\n",
    "    bli_random.append(tmp_betas_random)\n",
    "    sli_random.append(tmp_sigma_random)\n",
    "    "
   ]
  },
  {
   "cell_type": "code",
   "execution_count": null,
   "id": "literary-island",
   "metadata": {},
   "outputs": [],
   "source": [
    "dcli_random = [] #distance decay beta\n",
    "muli_random = [] #mu\n",
    "ali_random = []  #accessibility\n",
    "ili_random = []  #intercept"
   ]
  },
  {
   "cell_type": "code",
   "execution_count": null,
   "id": "public-empty",
   "metadata": {},
   "outputs": [],
   "source": [
    "for i in range(10):\n",
    "    ili_random.append(bli_random[i][0])\n",
    "    muli_random.append(bli_random[i][1])\n",
    "    dcli_random.append(bli_random[i][2])\n",
    "    ali_random.append(bli_random[i][3])\n",
    "    "
   ]
  },
  {
   "cell_type": "markdown",
   "id": "civil-companion",
   "metadata": {},
   "source": [
    "### Cluster"
   ]
  },
  {
   "cell_type": "code",
   "execution_count": 130,
   "id": "inside-future",
   "metadata": {},
   "outputs": [],
   "source": [
    "cluster_l = LinearTerm(cluster_simul, 4, 5)\n",
    "cluster_mod = GASM(cluster_l, cluster_sa)\n",
    "betas_cluster, sigma_cluster = cluster_mod.calibrate(cluster_simul.Flows.values)"
   ]
  },
  {
   "cell_type": "code",
   "execution_count": 130,
   "id": "fantastic-devon",
   "metadata": {},
   "outputs": [],
   "source": [
    "tmp_cluster_simul = cluster_simul.copy()\n",
    "bli_cluster = [] # all coefficients\n",
    "sli_cluster = [] # sigma\n",
    "\n",
    "for i in range(10):\n",
    "    np.random.seed(i)\n",
    "    tmp_cluster_simul.Flows = np.random.multinomial(1000000, cluster_simul.Flows)\n",
    "    tmp_betas_cluster, tmp_sigma_cluster = cluster_mod.calibrate(tmp_cluster_simul.Flows.values)\n",
    "    bli_cluster.append(tmp_betas_cluster)\n",
    "    sli_cluster.append(tmp_sigma_cluster)\n",
    "  "
   ]
  },
  {
   "cell_type": "code",
   "execution_count": 156,
   "id": "gentle-jurisdiction",
   "metadata": {},
   "outputs": [],
   "source": [
    "dcli_cluster = [] #distance decay beta\n",
    "muli_cluster = [] #mu\n",
    "ali_cluster = []  #accessibility\n",
    "ili_cluster = []  #intercept"
   ]
  },
  {
   "cell_type": "code",
   "execution_count": 157,
   "id": "subject-detection",
   "metadata": {
    "tags": []
   },
   "outputs": [],
   "source": [
    "for i in range(10):\n",
    "    ili_cluster.append(bli_cluster[i][0])\n",
    "    muli_cluster.append(bli_cluster[i][1])\n",
    "    dcli_cluster.append(bli_cluster[i][2])\n",
    "    ali_cluster.append(bli_cluster[i][3])\n",
    "    "
   ]
  },
  {
   "cell_type": "code",
   "execution_count": 178,
   "id": "dirty-handy",
   "metadata": {},
   "outputs": [
    {
     "name": "stdout",
     "output_type": "stream",
     "text": [
      "-0.9906853337525842\n"
     ]
    }
   ],
   "source": [
    "print(np.mean(dcli_cluster))"
   ]
  },
  {
   "cell_type": "code",
   "execution_count": 179,
   "id": "lonely-engine",
   "metadata": {},
   "outputs": [
    {
     "name": "stdout",
     "output_type": "stream",
     "text": [
      "-1.1529462179637016\n"
     ]
    }
   ],
   "source": [
    "print(np.mean(ali_cluster))"
   ]
  },
  {
   "cell_type": "code",
   "execution_count": 181,
   "id": "republican-coupon",
   "metadata": {},
   "outputs": [
    {
     "name": "stdout",
     "output_type": "stream",
     "text": [
      "0.9653713024691999\n"
     ]
    }
   ],
   "source": [
    "print(np.mean(muli_cluster))"
   ]
  },
  {
   "cell_type": "code",
   "execution_count": 180,
   "id": "federal-twenty",
   "metadata": {},
   "outputs": [
    {
     "name": "stdout",
     "output_type": "stream",
     "text": [
      "-3.3240000000000003\n"
     ]
    }
   ],
   "source": [
    "print(np.mean(sli_cluster))"
   ]
  },
  {
   "cell_type": "code",
   "execution_count": null,
   "id": "extended-spirit",
   "metadata": {},
   "outputs": [],
   "source": []
  }
 ],
 "metadata": {
  "kernelspec": {
   "display_name": "Python 3",
   "language": "python",
   "name": "python3"
  },
  "language_info": {
   "codemirror_mode": {
    "name": "ipython",
    "version": 3
   },
   "file_extension": ".py",
   "mimetype": "text/x-python",
   "name": "python",
   "nbconvert_exporter": "python",
   "pygments_lexer": "ipython3",
   "version": "3.8.8"
  }
 },
 "nbformat": 4,
 "nbformat_minor": 5
}
